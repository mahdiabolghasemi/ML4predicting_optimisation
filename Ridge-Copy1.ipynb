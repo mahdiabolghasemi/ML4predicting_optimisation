{
 "cells": [
  {
   "cell_type": "code",
   "execution_count": 1,
   "metadata": {},
   "outputs": [
    {
     "name": "stdout",
     "output_type": "stream",
     "text": [
      "Once deleted, variables cannot be recovered. Proceed (y/[n])? n\n",
      "Nothing done.\n"
     ]
    }
   ],
   "source": [
    "%reset"
   ]
  },
  {
   "cell_type": "code",
   "execution_count": 2,
   "metadata": {},
   "outputs": [],
   "source": [
    "import pandas as pd\n",
    "import numpy as np"
   ]
  },
  {
   "cell_type": "code",
   "execution_count": 204,
   "metadata": {},
   "outputs": [],
   "source": [
    "#mlp.predict(np.array(b).reshape(1,44).reshape(1,-1))\n",
    "#gbm.predict(np.array(b).reshape(1,44).reshape(1,-1))"
   ]
  },
  {
   "cell_type": "code",
   "execution_count": 125,
   "metadata": {},
   "outputs": [],
   "source": [
    "#lgbTestData = lightgbm.Dataset(np.array(b).reshape(1,44).reshape(1,-1))\n",
    "#prediction = gbm.predict(lgbTestData)"
   ]
  },
  {
   "cell_type": "code",
   "execution_count": 4,
   "metadata": {},
   "outputs": [],
   "source": [
    "##custom Cost function\n",
    "def custom_cost(scaler,dmnd,mlp,cost_shortage, cost_outdate):\n",
    "\n",
    "    \n",
    "    Demand=[dmnd['Demand1'].values.tolist(),dmnd['Demand2'].values.tolist(),dmnd['Demand3'].values.tolist(),\n",
    "        dmnd['Demand4'].values.tolist()]\n",
    "    #print(Demand[0][0:5])\n",
    "    period=18500\n",
    "    T=7  #period\n",
    "    D= 100  # number of  scenarios\n",
    "    #b=[[0, 3, 2, 3, 0, 0, 3, 4, 3, 3, 3],[0, 0, 2, 0, 3, 2, 3, 2, 1, 2, 1],[4, 5, 5, 9, 10, 8, 6, 9, 10, 7, 7],\n",
    "       #[6, 9, 3, 7, 2, 6, 5, 5, 4, 5, 4]] ##Initial inventory\n",
    "    \n",
    "    b=[[1, 0, 2, 2, 1, 0, 2, 3, 4, 4, 4],[0, 0, 1, 1, 2, 3, 4, 1, 1, 0, 3],[3, 4, 6, 8, 9, 8, 6, 8, 9, 8, 6],\n",
    "       [5, 8, 4, 6, 2, 5, 5, 6, 3, 4, 5]]\n",
    "    M = 11 ##len (b[0]) #life time period\n",
    "    N = 4 ##len (b) #number of hospital \n",
    "\n",
    "    #n=[4,3,15,15]\n",
    "    #p=[0.6,0.57,0.57,0.48]\n",
    "    RD=[[0 for k in range(period)] for j in range(N)] #relized demand\n",
    "    #RD = read_dat_file(\"ZINB.txt\")\n",
    "    RD=Demand\n",
    "    #print(RD[1][0:5])\n",
    "    G = [cost_shortage for j in range(N)]  #The emergency order cost at each hospital\n",
    "    H = [1 for j in range(N)]  #The holding cost at each hospital\n",
    "    H1=[[1 for j in range (M)]for i in range (N)]\n",
    "\n",
    "    E = [cost_outdate for j in range(N)]  #The expiry cost at each hospital\n",
    "    R = [1 for j in range(N)]  #The order cost at each hospital\n",
    "    C =[[1.5 for j in range(N)] for i in range(N)] # transshipment cost.the first dimention shows the origin hospital and \n",
    "#the second one shows the destination hospital\n",
    "    CTS=[0 for i in range (period)]\n",
    "    shortage=[0 for i in range (period)]\n",
    "    Orders=[0 for i in range (period)]\n",
    "    ## consideing these two additional costs\n",
    "    HoldCost= [0 for i in range (period)]\n",
    "    CoutCost=[0 for i in range (period)]\n",
    "    TransCost=[0 for i in range (period)]\n",
    "    \n",
    "    CTSTotal=0\n",
    "    fiorder = open('DTNewDemandorder.txt', 'w')\n",
    "    fitrans = open('DTNewDemandtrans.txt', 'w')\n",
    "    fiout = open('DTNewDemandoutdate.txt', 'w')\n",
    "    fishortage = open('DTNewDemandshortage.txt', 'w')\n",
    "    fiissue = open('DTNewDemandissue.txt', 'w')\n",
    "    fiinventory = open('DTinventoryNewDemand.txt', 'w')\n",
    "    fitranscost = open('DTtranscost.txt', 'w')\n",
    "#fioutcost = open('currentoutdatecost.txt', 'w')\n",
    "#fishortagecost = open('currentshortagecost.txt', 'w')\n",
    "    fiholdcost = open('DTholdcost.txt', 'w')\n",
    "    \n",
    "    for t in range (period):\n",
    "        \n",
    "        fiinventory.write((\"\\n[\"))\n",
    "        for item in b:\n",
    "            fiinventory.write(\"%s,\" % item) \n",
    "        fiinventory.write(\"]\")                   \n",
    "        \n",
    "        Y = [0 for i in range(N)]   #orders\n",
    "        X= [[[0 for k in range(M)] for j in range(N)] for i in range(N)]  #X[hi][hf][age] : transshipment matrix\n",
    "        X1= [0 for j in range(N)] \n",
    "        \n",
    "        #b=np.array(b).reshape(1,44).reshape(1,-1)\n",
    "        prediction = mlp.predict(np.array(b).reshape(1,44).reshape(1,-1))\n",
    "        \n",
    "        #lgbTestData = lightgbm.Dataset(np.array(b).reshape(1,44).reshape(1,-1))\n",
    "        \n",
    "        #prediction = mdl.predict(lgbTestData)\n",
    "\n",
    "        prediction[prediction<0]=0\n",
    "\n",
    "        prediction=np.round(prediction,0)\n",
    "\n",
    "        d=prediction[0][0:176]       #Transshipments\n",
    "        X=d.reshape(4,4,11)\n",
    "\n",
    "        Y=prediction[0][176:180]     #'order1':'order4'\n",
    "        \n",
    "    \n",
    "    #Y,X = twosatge(b,N,M,T,D,G,H1,E,R,C)\n",
    "    \n",
    "        Corder=0\n",
    "        Ctrans=0\n",
    "        Cshort=0\n",
    "        Chold=0\n",
    "        Cout=0\n",
    "        #CTS=0\n",
    "        issue=[[0 for j in range (M)]for i in range (N)]\n",
    "        bD=[[0 for j in range (M)]for i in range (N)] #inventory after satisfying demand\n",
    "        by=[[0 for j in range (M)]for i in range (N)] #inventory after reciving order \n",
    "        F =[0 for i in range (N)]  # shortage at each hospital\n",
    "        Hunit =[0 for i in range (N)]  # total units which stay in system for one period at each hospital\n",
    "        Ounit=[0 for i in range (N)]  # outdate at each hospital\n",
    "        XIN= [[0 for j in range (M)]for i in range (N)]\n",
    "        XOUT= [[0 for j in range (M)]for i in range (N)] \n",
    "        bx= [[0 for j in range (M)]for i in range (N)] #inventory after transshipment\n",
    "        for i in range (N):\n",
    "            for j in range (M):\n",
    "                k=0\n",
    "                for l in range (N):\n",
    "                    k=k+X[i][l][j]\n",
    "                XOUT[i][j]=k\n",
    "        for i in range (N):\n",
    "            for j in range (M):\n",
    "                k=0\n",
    "                for l in range (N):\n",
    "                    k=k+X[l][i][j]\n",
    "                XIN[i][j]=k\n",
    "        for i in range (N):\n",
    "            q=0\n",
    "            for j in range (N):\n",
    "                for k in range (M):\n",
    "                    q= q+X[i][j][k]\n",
    "            X1[i]=q\t\t\n",
    "        for i in range (N):\n",
    "            for j in range (M):\n",
    "                bx[i][j]= b[i][j]+XIN[i][j]-XOUT[i][j]\n",
    "        for i in range (N):\n",
    "            for j in range (M):\n",
    "                if bx[i][j]>RD[i][t]:\n",
    "                    bD[i][j]= bx[i][j]-RD[i][t]\n",
    "                    issue[i][j]=RD[i][t]\n",
    "                    RD[i][t]=0\n",
    "                else:\n",
    "                    issue[i][j]=bx[i][j]\n",
    "                    bD[i][j]=0\n",
    "                    RD[i][t]=RD[i][t]-bx[i][j]\n",
    "            if RD[i][t]>0:\n",
    "                F[i]=RD[i][t]\t\n",
    "        for i in range (N):\n",
    "            Ounit[i]= bD[i][0] \n",
    "        for i in range (N):\n",
    "            j=1\n",
    "            k=0\n",
    "            while j<M:\n",
    "                k= k+bD[i][j]\n",
    "                j=j+1\n",
    "            Hunit[i]=k\n",
    "        for i in range (N):\n",
    "            for j in range (M):\n",
    "                if j==(M-1):\n",
    "                    by[i][j]=Y[i] \n",
    "                else:\n",
    "                    by[i][j]= bD[i][j+1]\n",
    "        for i in range (N):\n",
    "            for j in range (M):\t\n",
    "                b[i][j]=by[i][j]\t\t\t\t\n",
    "        for i in range (N):\n",
    "            Corder= Corder +R[i]*Y[i]\n",
    "        for i in range (N):\n",
    "                for j in range (N):\n",
    "                    for l in range (M):\n",
    "                        Ctrans = Ctrans+C[i][j]*X[i][j][l]\n",
    "        for i in range (N):\n",
    "            Cshort=Cshort+F[i]*G[i]\n",
    "            Chold=Chold+Hunit[i]*H[i]\n",
    "            Cout=Cout+Ounit[i]*E[i]\n",
    "        CTS[t]=Corder+Ctrans+Cshort+Chold+Cout\n",
    "        shortage[t]=Cshort\n",
    "        Orders[t]=Corder\n",
    "        # adding the trans and hoding cost and count\n",
    "        TransCost[t]=Ctrans\n",
    "        HoldCost[t]=Chold\n",
    "        CoutCost[t]=Cout\n",
    "        ## continue with others\n",
    "        CTSTotal = CTSTotal+CTS[t]\n",
    "        fiholdcost.write((\"\\n\\n[\"))\n",
    "        for item in Hunit:\n",
    "            fiholdcost.write(\"%s,\" % item) \n",
    "        fiholdcost.write(\"]\")\n",
    "        fitranscost.write((\"\\n\\n[\"))\n",
    "        for item in X1:\n",
    "            fitranscost.write(\"%s,\" % item) \n",
    "        fitranscost.write(\"]\")\n",
    "        fiorder.write((\"\\n\\n[\"))\n",
    "        for item in Y:\n",
    "            fiorder.write(\"%s,\" % item) \n",
    "        fiorder.write(\"]\")\n",
    "        fiout.write((\"\\n\\n[\"))\n",
    "        for item in Ounit:\n",
    "            fiout.write(\"%s,\" % item)\n",
    "        fiout.write(\"]\")\n",
    "        fishortage.write((\"\\n\\n[\"))\n",
    "        for item in F:\n",
    "            fishortage.write(\"%s,\" % item)\n",
    "        fishortage.write(\"]\")\n",
    "        fitrans.write((\"\\n[\"))\n",
    "        for item in d:\n",
    "            fitrans.write(\"%s,\" % item)\n",
    "        fiissue.write((\"\\n\\n[\"))\n",
    "        for item in issue:\n",
    "            fiissue.write(\"%s,\" % item)\n",
    "        fiissue.write(\"]\")\t\n",
    "    fo = open('DTcost.txt', 'w')\n",
    "    fo.write(\"\\n\\n[\")\n",
    "    for item in CTS:\n",
    "        fo.write(\"%s,\" % item)\n",
    "    fo.write(\"]\")\n",
    "    fo.write(\"\\n\\nCTSTotal=\")\n",
    "    fo.write(\"%s\" %CTSTotal) \n",
    "    fo.close() \n",
    "    fiorder.close()\n",
    "    fiout.close()\n",
    "    fitrans.close()\n",
    "    fishortage.close()   \n",
    "    fiissue.close()\t\n",
    "    fiinventory.close()\n",
    "    fiholdcost.close()\t\n",
    "    fitranscost.close()       \n",
    "\t\n",
    "\n",
    "#print (RD)\n",
    "#print (CTS)\n",
    "    #print ('Average Cost:',np.mean(CTS))\n",
    "    #print ('std of Cost:',np.std(CTS))\n",
    "    #print('NO. of days:',len(df))\n",
    "    \n",
    "    return( shortage,Orders,CTS,HoldCost,TransCost,CoutCost)"
   ]
  },
  {
   "cell_type": "code",
   "execution_count": 3,
   "metadata": {},
   "outputs": [],
   "source": [
    "##Cost calculation\n",
    "def cost(scaler,dmnd,mlp,cost_shortage, cost_outdate):\n",
    "\n",
    "    \n",
    "    Demand=[dmnd['Demand1'].values.tolist(),dmnd['Demand2'].values.tolist(),dmnd['Demand3'].values.tolist(),\n",
    "        dmnd['Demand4'].values.tolist()]\n",
    "    #print(Demand[0][0:5])\n",
    "    period=18500\n",
    "    T=7  #period\n",
    "    D= 100  # number of  scenarios\n",
    "    #b=[[0, 3, 2, 3, 0, 0, 3, 4, 3, 3, 3],[0, 0, 2, 0, 3, 2, 3, 2, 1, 2, 1],[4, 5, 5, 9, 10, 8, 6, 9, 10, 7, 7],\n",
    "       #[6, 9, 3, 7, 2, 6, 5, 5, 4, 5, 4]] ##Initial inventory\n",
    "    \n",
    "    b=[[1, 0, 2, 2, 1, 0, 2, 3, 4, 4, 4],[0, 0, 1, 1, 2, 3, 4, 1, 1, 0, 3],[3, 4, 6, 8, 9, 8, 6, 8, 9, 8, 6],\n",
    "       [5, 8, 4, 6, 2, 5, 5, 6, 3, 4, 5]]\n",
    "    M = 11 ##len (b[0]) #life time period\n",
    "    N = 4 ##len (b) #number of hospital \n",
    "\n",
    "    #n=[4,3,15,15]\n",
    "    #p=[0.6,0.57,0.57,0.48]\n",
    "    RD=[[0 for k in range(period)] for j in range(N)] #relized demand\n",
    "    #RD = read_dat_file(\"ZINB.txt\")\n",
    "    RD=Demand\n",
    "    #print(RD[1][0:5])\n",
    "    G = [cost_shortage for j in range(N)]  #The emergency order cost at each hospital\n",
    "    H = [1 for j in range(N)]  #The holding cost at each hospital\n",
    "    H1=[[1 for j in range (M)]for i in range (N)]\n",
    "\n",
    "    E = [cost_outdate for j in range(N)]  #The expiry cost at each hospital\n",
    "    R = [1 for j in range(N)]  #The order cost at each hospital\n",
    "    C =[[1.5 for j in range(N)] for i in range(N)] # transshipment cost.the first dimention shows the origin hospital and \n",
    "#the second one shows the destination hospital\n",
    "    CTS=[0 for i in range (period)]\n",
    "    shortage=[0 for i in range (period)]\n",
    "    Orders=[0 for i in range (period)]\n",
    "    ## consideing these two additional costs\n",
    "    HoldCost= [0 for i in range (period)]\n",
    "    CoutCost=[0 for i in range (period)]\n",
    "    TransCost=[0 for i in range (period)]\n",
    "    \n",
    "    CTSTotal=0\n",
    "    fiorder = open('DTNewDemandorder.txt', 'w')\n",
    "    fitrans = open('DTNewDemandtrans.txt', 'w')\n",
    "    fiout = open('DTNewDemandoutdate.txt', 'w')\n",
    "    fishortage = open('DTNewDemandshortage.txt', 'w')\n",
    "    fiissue = open('DTNewDemandissue.txt', 'w')\n",
    "    fiinventory = open('DTinventoryNewDemand.txt', 'w')\n",
    "    fitranscost = open('DTtranscost.txt', 'w')\n",
    "#fioutcost = open('currentoutdatecost.txt', 'w')\n",
    "#fishortagecost = open('currentshortagecost.txt', 'w')\n",
    "    fiholdcost = open('DTholdcost.txt', 'w')\n",
    "    \n",
    "    fiinventoryTS = open('LGBMinventoryTS.txt', 'w')\n",
    "\n",
    "    for t in range (period):\n",
    "        \n",
    "        fiinventory.write((\"\\n[\"))\n",
    "        for item in b:\n",
    "            fiinventory.write(\"%s,\" % item) \n",
    "        fiinventory.write(\"]\")                   \n",
    "        \n",
    "        Y = [0 for i in range(N)]   #orders\n",
    "        X= [[[0 for k in range(M)] for j in range(N)] for i in range(N)]  #X[hi][hf][age] : transshipment matrix\n",
    "        X1= [0 for j in range(N)] \n",
    "        \n",
    "        #b=np.array(b).reshape(1,44).reshape(1,-1)\n",
    "        prediction = mlp.predict(np.array(b).reshape(1,44).reshape(1,-1))\n",
    "        \n",
    "        #lgbTestData = lightgbm.Dataset(np.array(b).reshape(1,44).reshape(1,-1))\n",
    "        \n",
    "        #prediction = mdl.predict(lgbTestData)\n",
    "\n",
    "        prediction[prediction<0]=0\n",
    "\n",
    "        prediction=np.round(prediction,0)\n",
    "\n",
    "        d=prediction[0][0:176]       #Transshipments\n",
    "        X=d.reshape(4,4,11)\n",
    "\n",
    "        Y=prediction[0][176:180]     #'order1':'order4'\n",
    "        \n",
    "    \n",
    "    #Y,X = twosatge(b,N,M,T,D,G,H1,E,R,C)\n",
    "    \n",
    "        Corder=0\n",
    "        Ctrans=0\n",
    "        Cshort=0\n",
    "        Chold=0\n",
    "        Cout=0\n",
    "        #CTS=0\n",
    "        issue=[[0 for j in range (M)]for i in range (N)]\n",
    "        bD=[[0 for j in range (M)]for i in range (N)] #inventory after satisfying demand\n",
    "        by=[[0 for j in range (M)]for i in range (N)] #inventory after reciving order \n",
    "        F =[0 for i in range (N)]  # shortage at each hospital\n",
    "        Hunit =[0 for i in range (N)]  # total units which stay in system for one period at each hospital\n",
    "        Ounit=[0 for i in range (N)]  # outdate at each hospital\n",
    "        XIN= [[0 for j in range (M)]for i in range (N)]\n",
    "        XOUT= [[0 for j in range (M)]for i in range (N)] \n",
    "        bx= [[0 for j in range (M)]for i in range (N)] #inventory after transshipment\n",
    "        for i in range (N):\n",
    "            for j in range (M):\n",
    "                k=0\n",
    "                for l in range (N):\n",
    "                    k=k+X[i][l][j]\n",
    "                XOUT[i][j]=k\n",
    "        for i in range (N):\n",
    "            for j in range (M):\n",
    "                k=0\n",
    "                for l in range (N):\n",
    "                    k=k+X[l][i][j]\n",
    "                XIN[i][j]=k\n",
    "        for i in range (N):\n",
    "            q=0\n",
    "            for j in range (N):\n",
    "                for k in range (M):\n",
    "                    q= q+X[i][j][k]\n",
    "            X1[i]=q\t\t\n",
    "        for i in range (N):\n",
    "            for j in range (M):\n",
    "                bx[i][j]= b[i][j]+XIN[i][j]-XOUT[i][j]\n",
    "        for i in range (N):\n",
    "            for j in range (M):\n",
    "                if bx[i][j]>RD[i][t]:\n",
    "                    bD[i][j]= bx[i][j]-RD[i][t]\n",
    "                    issue[i][j]=RD[i][t]\n",
    "                    RD[i][t]=0\n",
    "                else:\n",
    "                    issue[i][j]=bx[i][j]\n",
    "                    bD[i][j]=0\n",
    "                    RD[i][t]=RD[i][t]-bx[i][j]\n",
    "            if RD[i][t]>0:\n",
    "                F[i]=RD[i][t]\t\n",
    "        for i in range (N):\n",
    "            Ounit[i]= bD[i][0] \n",
    "        for i in range (N):\n",
    "            j=1\n",
    "            k=0\n",
    "            while j<M:\n",
    "                k= k+bD[i][j]\n",
    "                j=j+1\n",
    "            Hunit[i]=k\n",
    "        for i in range (N):\n",
    "            for j in range (M):\n",
    "                if j==(M-1):\n",
    "                    by[i][j]=Y[i] \n",
    "                else:\n",
    "                    by[i][j]= bD[i][j+1]\n",
    "        for i in range (N):\n",
    "            for j in range (M):\t\n",
    "                b[i][j]=by[i][j]\t\t\t\t\n",
    "        for i in range (N):\n",
    "            Corder= Corder +R[i]*Y[i]\n",
    "        for i in range (N):\n",
    "                for j in range (N):\n",
    "                    for l in range (M):\n",
    "                        Ctrans = Ctrans+C[i][j]*X[i][j][l]\n",
    "        for i in range (N):\n",
    "            Cshort=Cshort+F[i]*G[i]\n",
    "            Chold=Chold+Hunit[i]*H[i]\n",
    "            Cout=Cout+Ounit[i]*E[i]\n",
    "        CTS[t]=Corder+Ctrans+Cshort+Chold+Cout\n",
    "        shortage[t]=Cshort\n",
    "        Orders[t]=Corder\n",
    "        # adding the trans and hoding cost and count\n",
    "        TransCost[t]=Ctrans\n",
    "        HoldCost[t]=Chold\n",
    "        CoutCost[t]=Cout\n",
    "        ## continue with others\n",
    "        CTSTotal = CTSTotal+CTS[t]\n",
    "        fiholdcost.write((\"\\n\\n[\"))\n",
    "        \n",
    "        for item in Hunit:\n",
    "            fiholdcost.write(\"%s,\" % item) \n",
    "        fiholdcost.write(\"]\")\n",
    "        fitranscost.write((\"\\n\\n[\"))\n",
    "        for item in X1:\n",
    "            fitranscost.write(\"%s,\" % item) \n",
    "        fitranscost.write(\"]\")\n",
    "        fiorder.write((\"\\n\\n[\"))\n",
    "        for item in Y:\n",
    "            fiorder.write(\"%s,\" % item) \n",
    "        fiorder.write(\"]\")\n",
    "        fiout.write((\"\\n\\n[\"))\n",
    "        for item in Ounit:\n",
    "            fiout.write(\"%s,\" % item)\n",
    "        fiout.write(\"]\")\n",
    "        fishortage.write((\"\\n\\n[\"))\n",
    "        for item in F:\n",
    "            fishortage.write(\"%s,\" % item)\n",
    "        fishortage.write(\"]\")\n",
    "        fitrans.write((\"\\n[\"))\n",
    "        for item in d:\n",
    "            fitrans.write(\"%s,\" % item)\n",
    "        fiissue.write((\"\\n\\n[\"))\n",
    "        for item in issue:\n",
    "            fiissue.write(\"%s,\" % item)\n",
    "        fiissue.write(\"]\")\t\n",
    "        \n",
    "        fiinventoryTS.write((\"\\n[\"))\n",
    "        for item in bx:                   # b: inventory after transshipment \n",
    "            fiinventoryTS.write(\"%s,\" % item) \n",
    "        fiinventoryTS.write(\"]\") \n",
    "        \n",
    "    fo = open('LGBMcost.txt', 'w')\n",
    "    fo.write(\"\\n\\n[\")\n",
    "    for item in CTS:\n",
    "        fo.write(\"%s,\" % item)\n",
    "    fo.write(\"]\")\n",
    "    fo.write(\"\\n\\nCTSTotal=\")\n",
    "    fo.write(\"%s\" %CTSTotal) \n",
    "    \n",
    "    fo.close() \n",
    "    fiorder.close()\n",
    "    fiout.close()\n",
    "    fitrans.close()\n",
    "    fishortage.close()   \n",
    "    fiissue.close()\t\n",
    "    fiinventory.close()\n",
    "    fiinventoryTS.close()\n",
    "    fiholdcost.close()\t\n",
    "    fitranscost.close()       \n",
    "\t\n",
    "\n",
    "#print (RD)\n",
    "#print (CTS)\n",
    "    #print ('Average Cost:',np.mean(CTS))\n",
    "    #print ('std of Cost:',np.std(CTS))\n",
    "    #print('NO. of days:',len(df))\n",
    "    \n",
    "    return( shortage,Orders,CTS,HoldCost,TransCost,CoutCost)"
   ]
  },
  {
   "cell_type": "code",
   "execution_count": 4,
   "metadata": {},
   "outputs": [
    {
     "name": "stdout",
     "output_type": "stream",
     "text": [
      "/Users/mahdi/Documents/Postdoc/RMIT /Code/fwdcodes\n"
     ]
    }
   ],
   "source": [
    "%cd '/Users/mahdi/Documents/Postdoc/RMIT /Code/fwdcodes'\n",
    "    \n",
    "df = pd.read_csv('/Users/mahdi/Documents/Postdoc/RMIT /Code/fwdcodes/Final14.csv')\n",
    "# Getting dataframe columns names\n",
    "df_name=df.columns\n",
    "\n",
    "days=np.arange(len(df))+1\n",
    "\n",
    "data = np.load('final14.npy')\n",
    "Xin=data[:,0:44]\n",
    "yin=data[:,44:224] #only outputs\n"
   ]
  },
  {
   "cell_type": "code",
   "execution_count": 5,
   "metadata": {},
   "outputs": [],
   "source": [
    "dfDemand = pd.read_excel('/Users/mahdi/Documents/Postdoc/RMIT /Code/fwdcodes/demand2.xlsx')\n",
    "\n",
    "dmnd=dfDemand\n",
    "Demand=[dmnd['Demand1'].values.tolist(),dmnd['Demand2'].values.tolist(),dmnd['Demand3'].values.tolist(),\n",
    "    dmnd['Demand4'].values.tolist()]"
   ]
  },
  {
   "cell_type": "code",
   "execution_count": 6,
   "metadata": {},
   "outputs": [],
   "source": [
    "from sklearn.model_selection import train_test_split\n",
    "X_train, X_test, y_train, y_test = train_test_split(Xin, yin, test_size=0.10, random_state=45)"
   ]
  },
  {
   "cell_type": "code",
   "execution_count": 7,
   "metadata": {},
   "outputs": [
    {
     "data": {
      "text/plain": [
       "(1850, 44)"
      ]
     },
     "execution_count": 7,
     "metadata": {},
     "output_type": "execute_result"
    }
   ],
   "source": [
    "X_test.shape"
   ]
  },
  {
   "cell_type": "code",
   "execution_count": 8,
   "metadata": {},
   "outputs": [],
   "source": [
    "from sklearn.tree import DecisionTreeRegressor\n",
    "from sklearn.preprocessing import StandardScaler\n",
    "\n",
    "scaler = StandardScaler()\n",
    "#DecisionTreeRegressor()\n",
    "dt = DecisionTreeRegressor(max_depth=50,criterion='friedman_mse',min_samples_split= 30)\n",
    "mdl = dt.fit(X_train,y_train)"
   ]
  },
  {
   "cell_type": "code",
   "execution_count": 19,
   "metadata": {},
   "outputs": [
    {
     "name": "stdout",
     "output_type": "stream",
     "text": [
      "Requirement already satisfied: lightgbm in /Users/mahdi/opt/anaconda3/lib/python3.6/site-packages (3.1.1)\n",
      "Requirement already satisfied: wheel in /Users/mahdi/opt/anaconda3/lib/python3.6/site-packages (from lightgbm) (0.34.2)\n",
      "Requirement already satisfied: numpy in /Users/mahdi/opt/anaconda3/lib/python3.6/site-packages (from lightgbm) (1.18.1)\n",
      "Requirement already satisfied: scipy in /Users/mahdi/opt/anaconda3/lib/python3.6/site-packages (from lightgbm) (1.4.1)\n",
      "Requirement already satisfied: scikit-learn!=0.22.0 in /Users/mahdi/opt/anaconda3/lib/python3.6/site-packages (from lightgbm) (0.22.1)\n",
      "Requirement already satisfied: joblib>=0.11 in /Users/mahdi/opt/anaconda3/lib/python3.6/site-packages (from scikit-learn!=0.22.0->lightgbm) (0.14.1)\n",
      "\u001b[33mWARNING: You are using pip version 20.2.4; however, version 20.3.3 is available.\n",
      "You should consider upgrading via the '/Users/mahdi/opt/anaconda3/bin/python -m pip install --upgrade pip' command.\u001b[0m\n"
     ]
    }
   ],
   "source": [
    "!pip3 install lightgbm"
   ]
  },
  {
   "cell_type": "code",
   "execution_count": 20,
   "metadata": {
    "scrolled": true
   },
   "outputs": [],
   "source": [
    "import lightgbm as lgb\n",
    "from lightgbm import LGBMRegressor\n",
    "from sklearn.datasets import make_regression"
   ]
  },
  {
   "cell_type": "code",
   "execution_count": 21,
   "metadata": {},
   "outputs": [],
   "source": [
    "train_data = lgb.Dataset(X_train, label=y_train)\n",
    "test_data = lgb.Dataset(X_test, label=y_test)"
   ]
  },
  {
   "cell_type": "code",
   "execution_count": 22,
   "metadata": {},
   "outputs": [],
   "source": [
    "params = {\n",
    "    'boosting_type': 'gbdt',\n",
    "    'objective': 'regression',\n",
    "    'metric': {'l2', 'l1'},\n",
    "    'num_leaves': 31,\n",
    "    'learning_rate': 0.05,\n",
    "    'feature_fraction': 0.9,\n",
    "    'bagging_fraction': 0.8,\n",
    "    'bagging_freq': 5,\n",
    "    'verbose': 0\n",
    "}"
   ]
  },
  {
   "cell_type": "code",
   "execution_count": 23,
   "metadata": {},
   "outputs": [],
   "source": [
    "lgb_eval = lgb.Dataset(X_test, y_test, reference=train_data)"
   ]
  },
  {
   "cell_type": "code",
   "execution_count": 165,
   "metadata": {},
   "outputs": [],
   "source": [
    "#X_train, X_test, y_train, y_test = train_test_split(Xin, yin, test_size=0.10, random_state=45)"
   ]
  },
  {
   "cell_type": "code",
   "execution_count": 118,
   "metadata": {},
   "outputs": [],
   "source": [
    "#gbm = lgb.train(params,\n",
    "               # train_data,\n",
    "                #num_boost_round=200)#,\n",
    "                #valid_sets=lgb_eval,\n",
    "                #early_stopping_rounds=5)\n",
    "\n",
    "#LgbFore = gbm.predict(X_test)"
   ]
  },
  {
   "cell_type": "code",
   "execution_count": 200,
   "metadata": {},
   "outputs": [],
   "source": [
    "#y_pred = gbm.predict(test_data, num_iteration=gbm.best_iteration)\n",
    "#len(y_pred)"
   ]
  },
  {
   "cell_type": "code",
   "execution_count": 24,
   "metadata": {},
   "outputs": [],
   "source": [
    "from sklearn.multioutput import MultiOutputRegressor\n",
    "from sklearn.linear_model import Ridge"
   ]
  },
  {
   "cell_type": "code",
   "execution_count": 25,
   "metadata": {},
   "outputs": [],
   "source": [
    "from sklearn.svm import SVR"
   ]
  },
  {
   "cell_type": "code",
   "execution_count": 26,
   "metadata": {},
   "outputs": [
    {
     "data": {
      "text/plain": [
       "array([[ 0.        ,  0.        ,  0.        , ...,  0.76963058,\n",
       "         0.06289213, 11.79189305],\n",
       "       [ 0.        ,  0.        ,  0.        , ...,  1.10610151,\n",
       "        12.43189413, 17.13151614],\n",
       "       [ 0.        ,  0.        ,  0.        , ...,  0.79677879,\n",
       "        12.08681641, 14.02037481],\n",
       "       ...,\n",
       "       [ 0.        ,  0.        ,  0.        , ...,  0.46162248,\n",
       "        12.13541828,  0.59762929],\n",
       "       [ 0.        ,  0.        ,  0.        , ...,  0.54576457,\n",
       "         0.13205329, 13.74562385],\n",
       "       [ 0.        ,  0.        ,  0.        , ...,  0.83042996,\n",
       "         7.3613143 , 16.77565109]])"
      ]
     },
     "execution_count": 26,
     "metadata": {},
     "output_type": "execute_result"
    }
   ],
   "source": [
    "svr = MultiOutputRegressor(SVR(C=1.0, epsilon=0.2)).fit(X_train, y_train)\n",
    "#svr.predict(X_test)"
   ]
  },
  {
   "cell_type": "code",
   "execution_count": 120,
   "metadata": {},
   "outputs": [
    {
     "data": {
      "text/plain": [
       "['svr.pkl']"
      ]
     },
     "execution_count": 120,
     "metadata": {},
     "output_type": "execute_result"
    }
   ],
   "source": [
    "from sklearn.externals import joblib\n",
    "\n",
    "joblib_file = \"svr.pkl\"  \n",
    "joblib.dump(svr, joblib_file)\n",
    "\n",
    "#joblib_SVR_model = joblib.load(joblib_file)"
   ]
  },
  {
   "cell_type": "code",
   "execution_count": 27,
   "metadata": {},
   "outputs": [],
   "source": [
    "cost_shortage=14\n",
    "cost_outdate=11"
   ]
  },
  {
   "cell_type": "code",
   "execution_count": 41,
   "metadata": {},
   "outputs": [],
   "source": [
    "shortage_SVR,Orders_SVR,CTS_SVR, Inventory_SVM, Trans_SVM, Out_SVM =cost(scaler,dmnd,svr,cost_shortage=14, cost_outdate=11)"
   ]
  },
  {
   "cell_type": "code",
   "execution_count": 43,
   "metadata": {},
   "outputs": [
    {
     "data": {
      "text/plain": [
       "(78.49640540540541, 25.43849871373347)"
      ]
     },
     "execution_count": 43,
     "metadata": {},
     "output_type": "execute_result"
    }
   ],
   "source": [
    "np.mean(CTS_SVR) , np.std(CTS_SVR)"
   ]
  },
  {
   "cell_type": "code",
   "execution_count": 30,
   "metadata": {},
   "outputs": [
    {
     "data": {
      "text/plain": [
       "(7.47372972972973, 24.475678200744788)"
      ]
     },
     "execution_count": 30,
     "metadata": {},
     "output_type": "execute_result"
    }
   ],
   "source": [
    "np.mean(shortage_SVR) , np.std(shortage_SVR)"
   ]
  },
  {
   "cell_type": "code",
   "execution_count": 37,
   "metadata": {},
   "outputs": [
    {
     "data": {
      "text/plain": [
       "(22.34881081081081, 9.16091026941141)"
      ]
     },
     "execution_count": 37,
     "metadata": {},
     "output_type": "execute_result"
    }
   ],
   "source": [
    "np.mean(Orders_SVR) , np.std(Orders_SVR)"
   ]
  },
  {
   "cell_type": "code",
   "execution_count": 44,
   "metadata": {},
   "outputs": [
    {
     "data": {
      "text/plain": [
       "(45.522, 14.733965257737518)"
      ]
     },
     "execution_count": 44,
     "metadata": {},
     "output_type": "execute_result"
    }
   ],
   "source": [
    "np.mean(Inventory_SVM) , np.std(Inventory_SVM)"
   ]
  },
  {
   "cell_type": "code",
   "execution_count": 45,
   "metadata": {},
   "outputs": [
    {
     "data": {
      "text/plain": [
       "(0.5974864864864865, 1.1860206716584534)"
      ]
     },
     "execution_count": 45,
     "metadata": {},
     "output_type": "execute_result"
    }
   ],
   "source": [
    "np.mean(Trans_SVM) , np.std(Trans_SVM)"
   ]
  },
  {
   "cell_type": "code",
   "execution_count": 46,
   "metadata": {},
   "outputs": [
    {
     "data": {
      "text/plain": [
       "(45.522, 14.733965257737518)"
      ]
     },
     "execution_count": 46,
     "metadata": {},
     "output_type": "execute_result"
    }
   ],
   "source": [
    "np.mean(Out_SVM) , np.std(Out_SVM)"
   ]
  },
  {
   "cell_type": "code",
   "execution_count": 48,
   "metadata": {},
   "outputs": [],
   "source": [
    "from sklearn.model_selection import cross_val_score\n",
    "\n",
    "s1=cross_val_score(svr, X_train, y_train, cv=10, scoring='neg_mean_squared_error')"
   ]
  },
  {
   "cell_type": "code",
   "execution_count": 49,
   "metadata": {},
   "outputs": [
    {
     "name": "stdout",
     "output_type": "stream",
     "text": [
      "-0.03945888941039425 0.00146093070111784\n"
     ]
    }
   ],
   "source": [
    "print(np.mean(s1),np.std(s1))"
   ]
  },
  {
   "cell_type": "code",
   "execution_count": 53,
   "metadata": {},
   "outputs": [
    {
     "data": {
      "text/plain": [
       "(22.34881081081081, 9.16091026941141)"
      ]
     },
     "execution_count": 53,
     "metadata": {},
     "output_type": "execute_result"
    }
   ],
   "source": [
    "np.mean(Orders_SVR) , np.std(Orders_SVR)"
   ]
  },
  {
   "cell_type": "code",
   "execution_count": 27,
   "metadata": {},
   "outputs": [],
   "source": [
    "#np.save('DTresultsDemand2.npy',[ShortageMLP,OrdersMLP,costMLP])"
   ]
  },
  {
   "cell_type": "code",
   "execution_count": 54,
   "metadata": {},
   "outputs": [],
   "source": [
    "f = open('DTNewDemandtrans.txt', 'r')\n",
    "splitTS=[line.strip('[[') for line in f]\n",
    "#[print(line[0:2]) for line in f]\n",
    "\n",
    "f.close()"
   ]
  },
  {
   "cell_type": "code",
   "execution_count": 59,
   "metadata": {},
   "outputs": [],
   "source": [
    "## Read Transshipments to ndarray\n",
    "def TSread(split,i):\n",
    "    ts1=split[i]\n",
    "    ts2=ts1.strip('\\n')\n",
    "\n",
    "    ts3=ts2.strip(', ')\n",
    "\n",
    "    ts4=ts3.split(',')\n",
    "\n",
    "    ts5=np.array(ts4, dtype=float)\n",
    "    ts6=ts5.reshape(1,176)\n",
    "    \n",
    "    \n",
    "    return ts6"
   ]
  },
  {
   "cell_type": "code",
   "execution_count": 60,
   "metadata": {},
   "outputs": [],
   "source": [
    "## Transshipment matrix\n",
    "yts=np.empty((0,176))\n",
    "for i in np.arange(len(splitTS)):\n",
    "    \n",
    "    if len(splitTS[i])==1:\n",
    "        continue\n",
    "        \n",
    "        \n",
    "    yi=TSread(splitTS,i)\n",
    "    yts=np.append(yts,yi,axis=0)\n",
    "         "
   ]
  },
  {
   "cell_type": "code",
   "execution_count": 61,
   "metadata": {},
   "outputs": [
    {
     "data": {
      "text/plain": [
       "(18500, 176)"
      ]
     },
     "execution_count": 61,
     "metadata": {},
     "output_type": "execute_result"
    }
   ],
   "source": [
    "yts.shape"
   ]
  },
  {
   "cell_type": "code",
   "execution_count": 62,
   "metadata": {},
   "outputs": [
    {
     "data": {
      "text/html": [
       "<div>\n",
       "<style scoped>\n",
       "    .dataframe tbody tr th:only-of-type {\n",
       "        vertical-align: middle;\n",
       "    }\n",
       "\n",
       "    .dataframe tbody tr th {\n",
       "        vertical-align: top;\n",
       "    }\n",
       "\n",
       "    .dataframe thead th {\n",
       "        text-align: right;\n",
       "    }\n",
       "</style>\n",
       "<table border=\"1\" class=\"dataframe\">\n",
       "  <thead>\n",
       "    <tr style=\"text-align: right;\">\n",
       "      <th></th>\n",
       "      <th>h1a1h1</th>\n",
       "      <th>h1a2h1</th>\n",
       "      <th>h1a3h1</th>\n",
       "      <th>h1a4h1</th>\n",
       "      <th>h1a5h1</th>\n",
       "      <th>h1a6h1</th>\n",
       "      <th>h1a7h1</th>\n",
       "      <th>h1a8h1</th>\n",
       "      <th>h1a9h1</th>\n",
       "      <th>h1a10h1</th>\n",
       "      <th>...</th>\n",
       "      <th>h4a2h4</th>\n",
       "      <th>h4a3h4</th>\n",
       "      <th>h4a4h4</th>\n",
       "      <th>h4a5h4</th>\n",
       "      <th>h4a6h4</th>\n",
       "      <th>h4a7h4</th>\n",
       "      <th>h4a8h4</th>\n",
       "      <th>h4a9h4</th>\n",
       "      <th>h4a10h4</th>\n",
       "      <th>h4a11h4</th>\n",
       "    </tr>\n",
       "  </thead>\n",
       "  <tbody>\n",
       "    <tr>\n",
       "      <th>0</th>\n",
       "      <td>0.0</td>\n",
       "      <td>0.0</td>\n",
       "      <td>0.0</td>\n",
       "      <td>0.0</td>\n",
       "      <td>0.0</td>\n",
       "      <td>0.0</td>\n",
       "      <td>0.0</td>\n",
       "      <td>0.0</td>\n",
       "      <td>0.0</td>\n",
       "      <td>0.0</td>\n",
       "      <td>...</td>\n",
       "      <td>0.0</td>\n",
       "      <td>0.0</td>\n",
       "      <td>0.0</td>\n",
       "      <td>0.0</td>\n",
       "      <td>0.0</td>\n",
       "      <td>0.0</td>\n",
       "      <td>0.0</td>\n",
       "      <td>0.0</td>\n",
       "      <td>0.0</td>\n",
       "      <td>0.0</td>\n",
       "    </tr>\n",
       "    <tr>\n",
       "      <th>1</th>\n",
       "      <td>0.0</td>\n",
       "      <td>0.0</td>\n",
       "      <td>0.0</td>\n",
       "      <td>0.0</td>\n",
       "      <td>0.0</td>\n",
       "      <td>0.0</td>\n",
       "      <td>0.0</td>\n",
       "      <td>0.0</td>\n",
       "      <td>0.0</td>\n",
       "      <td>0.0</td>\n",
       "      <td>...</td>\n",
       "      <td>0.0</td>\n",
       "      <td>0.0</td>\n",
       "      <td>0.0</td>\n",
       "      <td>0.0</td>\n",
       "      <td>0.0</td>\n",
       "      <td>0.0</td>\n",
       "      <td>0.0</td>\n",
       "      <td>0.0</td>\n",
       "      <td>0.0</td>\n",
       "      <td>0.0</td>\n",
       "    </tr>\n",
       "    <tr>\n",
       "      <th>2</th>\n",
       "      <td>0.0</td>\n",
       "      <td>0.0</td>\n",
       "      <td>0.0</td>\n",
       "      <td>0.0</td>\n",
       "      <td>0.0</td>\n",
       "      <td>0.0</td>\n",
       "      <td>0.0</td>\n",
       "      <td>0.0</td>\n",
       "      <td>0.0</td>\n",
       "      <td>0.0</td>\n",
       "      <td>...</td>\n",
       "      <td>0.0</td>\n",
       "      <td>0.0</td>\n",
       "      <td>0.0</td>\n",
       "      <td>0.0</td>\n",
       "      <td>0.0</td>\n",
       "      <td>0.0</td>\n",
       "      <td>0.0</td>\n",
       "      <td>0.0</td>\n",
       "      <td>0.0</td>\n",
       "      <td>0.0</td>\n",
       "    </tr>\n",
       "    <tr>\n",
       "      <th>3</th>\n",
       "      <td>0.0</td>\n",
       "      <td>0.0</td>\n",
       "      <td>0.0</td>\n",
       "      <td>0.0</td>\n",
       "      <td>0.0</td>\n",
       "      <td>0.0</td>\n",
       "      <td>0.0</td>\n",
       "      <td>0.0</td>\n",
       "      <td>0.0</td>\n",
       "      <td>0.0</td>\n",
       "      <td>...</td>\n",
       "      <td>0.0</td>\n",
       "      <td>0.0</td>\n",
       "      <td>0.0</td>\n",
       "      <td>0.0</td>\n",
       "      <td>0.0</td>\n",
       "      <td>0.0</td>\n",
       "      <td>0.0</td>\n",
       "      <td>0.0</td>\n",
       "      <td>0.0</td>\n",
       "      <td>0.0</td>\n",
       "    </tr>\n",
       "    <tr>\n",
       "      <th>4</th>\n",
       "      <td>0.0</td>\n",
       "      <td>0.0</td>\n",
       "      <td>0.0</td>\n",
       "      <td>0.0</td>\n",
       "      <td>0.0</td>\n",
       "      <td>0.0</td>\n",
       "      <td>0.0</td>\n",
       "      <td>0.0</td>\n",
       "      <td>0.0</td>\n",
       "      <td>0.0</td>\n",
       "      <td>...</td>\n",
       "      <td>0.0</td>\n",
       "      <td>0.0</td>\n",
       "      <td>0.0</td>\n",
       "      <td>0.0</td>\n",
       "      <td>0.0</td>\n",
       "      <td>0.0</td>\n",
       "      <td>0.0</td>\n",
       "      <td>0.0</td>\n",
       "      <td>0.0</td>\n",
       "      <td>0.0</td>\n",
       "    </tr>\n",
       "  </tbody>\n",
       "</table>\n",
       "<p>5 rows × 176 columns</p>\n",
       "</div>"
      ],
      "text/plain": [
       "   h1a1h1  h1a2h1  h1a3h1  h1a4h1  h1a5h1  h1a6h1  h1a7h1  h1a8h1  h1a9h1  \\\n",
       "0     0.0     0.0     0.0     0.0     0.0     0.0     0.0     0.0     0.0   \n",
       "1     0.0     0.0     0.0     0.0     0.0     0.0     0.0     0.0     0.0   \n",
       "2     0.0     0.0     0.0     0.0     0.0     0.0     0.0     0.0     0.0   \n",
       "3     0.0     0.0     0.0     0.0     0.0     0.0     0.0     0.0     0.0   \n",
       "4     0.0     0.0     0.0     0.0     0.0     0.0     0.0     0.0     0.0   \n",
       "\n",
       "   h1a10h1  ...  h4a2h4  h4a3h4  h4a4h4  h4a5h4  h4a6h4  h4a7h4  h4a8h4  \\\n",
       "0      0.0  ...     0.0     0.0     0.0     0.0     0.0     0.0     0.0   \n",
       "1      0.0  ...     0.0     0.0     0.0     0.0     0.0     0.0     0.0   \n",
       "2      0.0  ...     0.0     0.0     0.0     0.0     0.0     0.0     0.0   \n",
       "3      0.0  ...     0.0     0.0     0.0     0.0     0.0     0.0     0.0   \n",
       "4      0.0  ...     0.0     0.0     0.0     0.0     0.0     0.0     0.0   \n",
       "\n",
       "   h4a9h4  h4a10h4  h4a11h4  \n",
       "0     0.0      0.0      0.0  \n",
       "1     0.0      0.0      0.0  \n",
       "2     0.0      0.0      0.0  \n",
       "3     0.0      0.0      0.0  \n",
       "4     0.0      0.0      0.0  \n",
       "\n",
       "[5 rows x 176 columns]"
      ]
     },
     "execution_count": 62,
     "metadata": {},
     "output_type": "execute_result"
    }
   ],
   "source": [
    "dfTS_name=df_name[44:220]\n",
    "dfTS=pd.DataFrame(yts, columns=dfTS_name)\n",
    "dfTS.head()"
   ]
  },
  {
   "cell_type": "code",
   "execution_count": 63,
   "metadata": {},
   "outputs": [],
   "source": [
    "## Sum of ages transshipped from each hospital\n",
    "TSh1a1=np.sum(dfTS.loc[:,('h1a1h1','h1a1h2','h1a1h3','h1a1h4')],axis=1)\n",
    "TSh1a1.name='TSh1a1'\n",
    "\n",
    "TSh1a2=np.sum(dfTS.loc[:,('h1a2h1','h1a2h2','h1a2h3','h1a2h4')],axis=1)\n",
    "TSh1a2.name='TSh1a2'\n",
    "\n",
    "TSh1a3=np.sum(dfTS.loc[:,('h1a3h1','h1a3h2','h1a3h3','h1a3h4')],axis=1)\n",
    "TSh1a3.name='TSh1a3'\n",
    "\n",
    "TSh1a4=np.sum(dfTS.loc[:,('h1a4h1','h1a4h2','h1a4h3','h1a4h4')],axis=1)\n",
    "TSh1a4.name='TSh1a4'\n",
    "\n",
    "TSh1a5=np.sum(dfTS.loc[:,('h1a5h1','h1a5h2','h1a5h3','h1a5h4')],axis=1)\n",
    "TSh1a5.name='TSh1a5'\n",
    "\n",
    "TSh1a6=np.sum(dfTS.loc[:,('h1a6h1','h1a6h2','h1a6h3','h1a6h4')],axis=1)\n",
    "TSh1a6.name='TSh1a6'\n",
    "\n",
    "TSh1a7=np.sum(dfTS.loc[:,('h1a7h1','h1a7h2','h1a7h3','h1a7h4')],axis=1)\n",
    "TSh1a7.name='TSh1a7'\n",
    "\n",
    "TSh1a8=np.sum(dfTS.loc[:,('h1a8h1','h1a8h2','h1a8h3','h1a8h4')],axis=1)\n",
    "TSh1a8.name='TSh1a8'\n",
    "\n",
    "TSh1a9=np.sum(dfTS.loc[:,('h1a9h1','h1a9h2','h1a9h3','h1a9h4')],axis=1)\n",
    "TSh1a9.name='TSh1a9'\n",
    "\n",
    "TSh1a10=np.sum(dfTS.loc[:,('h1a10h1','h1a10h2','h1a10h3','h1a10h4')],axis=1)\n",
    "TSh1a10.name='TSh1a10'\n",
    "\n",
    "TSh1a11=np.sum(dfTS.loc[:,('h1a11h1','h1a11h2','h1a11h3','h1a11h4')],axis=1)\n",
    "TSh1a11.name='TSh1a11'\n",
    "\n",
    "\n",
    "\n",
    "TSh2a1=np.sum(dfTS.loc[:,('h2a1h1','h2a1h2','h2a1h3','h2a1h4')],axis=1)\n",
    "TSh2a1.name='TSh2a1'\n",
    "\n",
    "TSh2a2=np.sum(dfTS.loc[:,('h2a2h1','h2a2h2','h2a2h3','h2a2h4')],axis=1)\n",
    "TSh2a2.name='TSh2a2'\n",
    "\n",
    "TSh2a3=np.sum(dfTS.loc[:,('h2a3h1','h2a3h2','h2a3h3','h2a3h4')],axis=1)\n",
    "TSh2a3.name='TSh2a3'\n",
    "\n",
    "TSh2a4=np.sum(dfTS.loc[:,('h2a4h1','h2a4h2','h2a4h3','h2a4h4')],axis=1)\n",
    "TSh2a4.name='TSh2a4'\n",
    "\n",
    "TSh2a5=np.sum(dfTS.loc[:,('h2a5h1','h2a5h2','h2a5h3','h2a5h4')],axis=1)\n",
    "TSh2a5.name='TSh2a5'\n",
    "\n",
    "TSh2a6=np.sum(dfTS.loc[:,('h2a6h1','h2a6h2','h2a6h3','h2a6h4')],axis=1)\n",
    "TSh2a6.name='TSh2a6'\n",
    "\n",
    "TSh2a7=np.sum(dfTS.loc[:,('h2a7h1','h2a7h2','h2a7h3','h2a7h4')],axis=1)\n",
    "TSh2a7.name='TSh2a7'\n",
    "\n",
    "TSh2a8=np.sum(dfTS.loc[:,('h2a8h1','h2a8h2','h2a8h3','h2a8h4')],axis=1)\n",
    "TSh2a8.name='TSh2a8'\n",
    "\n",
    "TSh2a9=np.sum(dfTS.loc[:,('h2a9h1','h2a9h2','h2a9h3','h2a9h4')],axis=1)\n",
    "TSh2a9.name='TSh2a9'\n",
    "\n",
    "TSh2a10=np.sum(dfTS.loc[:,('h2a10h1','h2a10h2','h2a10h3','h2a10h4')],axis=1)\n",
    "TSh2a10.name='TSh2a10'\n",
    "\n",
    "TSh2a11=np.sum(dfTS.loc[:,('h2a11h1','h2a11h2','h2a11h3','h2a11h4')],axis=1)\n",
    "TSh2a11.name='TSh2a11'\n",
    "\n",
    "\n",
    "\n",
    "TSh3a1=np.sum(dfTS.loc[:,('h3a1h1','h3a1h2','h3a1h3','h3a1h4')],axis=1)\n",
    "TSh3a1.name='TSh3a1'\n",
    "\n",
    "TSh3a2=np.sum(dfTS.loc[:,('h3a2h1','h3a2h2','h3a2h3','h3a2h4')],axis=1)\n",
    "TSh3a2.name='TSh3a2'\n",
    "\n",
    "TSh3a3=np.sum(dfTS.loc[:,('h3a3h1','h3a3h2','h3a3h3','h3a3h4')],axis=1)\n",
    "TSh3a3.name='TSh3a3'\n",
    "\n",
    "TSh3a4=np.sum(dfTS.loc[:,('h3a4h1','h3a4h2','h3a4h3','h3a4h4')],axis=1)\n",
    "TSh3a4.name='TSh3a4'\n",
    "\n",
    "TSh3a5=np.sum(dfTS.loc[:,('h3a5h1','h3a5h2','h3a5h3','h3a5h4')],axis=1)\n",
    "TSh3a5.name='TSh3a5'\n",
    "\n",
    "TSh3a6=np.sum(dfTS.loc[:,('h3a6h1','h3a6h2','h3a6h3','h3a6h4')],axis=1)\n",
    "TSh3a6.name='TSh3a6'\n",
    "\n",
    "TSh3a7=np.sum(dfTS.loc[:,('h3a7h1','h3a7h2','h3a7h3','h3a7h4')],axis=1)\n",
    "TSh3a7.name='TSh3a7'\n",
    "\n",
    "TSh3a8=np.sum(dfTS.loc[:,('h3a8h1','h3a8h2','h3a8h3','h3a8h4')],axis=1)\n",
    "TSh3a8.name='TSh3a8'\n",
    "\n",
    "TSh3a9=np.sum(dfTS.loc[:,('h3a9h1','h3a9h2','h3a9h3','h3a9h4')],axis=1)\n",
    "TSh3a9.name='TSh3a9'\n",
    "\n",
    "TSh3a10=np.sum(dfTS.loc[:,('h3a10h1','h3a10h2','h3a10h3','h3a10h4')],axis=1)\n",
    "TSh3a10.name='TSh3a10'\n",
    "\n",
    "TSh3a11=np.sum(dfTS.loc[:,('h3a11h1','h3a11h2','h3a11h3','h3a11h4')],axis=1)\n",
    "TSh3a11.name='TSh3a11'\n",
    "\n",
    "\n",
    "\n",
    "TSh4a1=np.sum(dfTS.loc[:,('h4a1h1','h4a1h2','h4a1h3','h4a1h4')],axis=1)\n",
    "TSh4a1.name='TSh4a1'\n",
    "\n",
    "TSh4a2=np.sum(dfTS.loc[:,('h4a2h1','h4a2h2','h4a2h3','h4a2h4')],axis=1)\n",
    "TSh4a2.name='TSh4a2'\n",
    "\n",
    "TSh4a3=np.sum(dfTS.loc[:,('h4a3h1','h4a3h2','h4a3h3','h4a3h4')],axis=1)\n",
    "TSh4a3.name='TSh4a3'\n",
    "\n",
    "TSh4a4=np.sum(dfTS.loc[:,('h4a4h1','h4a4h2','h4a4h3','h4a4h4')],axis=1)\n",
    "TSh4a4.name='TSh4a4'\n",
    "\n",
    "TSh4a5=np.sum(dfTS.loc[:,('h4a5h1','h4a5h2','h4a5h3','h4a5h4')],axis=1)\n",
    "TSh4a5.name='TSh4a5'\n",
    "\n",
    "TSh4a6=np.sum(dfTS.loc[:,('h4a6h1','h4a6h2','h4a6h3','h4a6h4')],axis=1)\n",
    "TSh4a6.name='TSh4a6'\n",
    "\n",
    "TSh4a7=np.sum(dfTS.loc[:,('h4a7h1','h4a7h2','h4a7h3','h4a7h4')],axis=1)\n",
    "TSh4a7.name='TSh4a7'\n",
    "\n",
    "TSh4a8=np.sum(dfTS.loc[:,('h4a8h1','h4a8h2','h4a8h3','h4a8h4')],axis=1)\n",
    "TSh4a8.name='TSh4a8'\n",
    "\n",
    "TSh4a9=np.sum(dfTS.loc[:,('h4a9h1','h4a9h2','h4a9h3','h4a9h4')],axis=1)\n",
    "TSh4a9.name='TSh4a9'\n",
    "\n",
    "TSh4a10=np.sum(dfTS.loc[:,('h4a10h1','h4a10h2','h4a10h3','h4a10h4')],axis=1)\n",
    "TSh4a10.name='TSh4a10'\n",
    "\n",
    "TSh4a11=np.sum(dfTS.loc[:,('h4a11h1','h4a11h2','h4a11h3','h4a11h4')],axis=1)\n",
    "TSh4a11.name='TSh4a11'\n",
    "\n",
    "TSsumAge=pd.concat([TSh1a1,TSh1a2,TSh1a3,TSh1a4,TSh1a5,TSh1a6,TSh1a7,TSh1a8,TSh1a9,TSh1a10,TSh1a11,\n",
    "                TSh2a1,TSh2a2,TSh2a3,TSh2a4,TSh2a5,TSh2a6,TSh2a7,TSh2a8,TSh2a9,TSh2a10,TSh2a11,\n",
    "                TSh3a1,TSh3a2,TSh3a3,TSh3a4,TSh3a5,TSh3a6,TSh3a7,TSh3a8,TSh3a9,TSh3a10,TSh3a11,\n",
    "                TSh4a1,TSh4a2,TSh4a3,TSh4a4,TSh4a5,TSh4a6,TSh4a7,TSh4a8,TSh4a9,TSh4a10,TSh4a11] \n",
    "            ,axis=1 )\n"
   ]
  },
  {
   "cell_type": "code",
   "execution_count": 64,
   "metadata": {},
   "outputs": [
    {
     "data": {
      "text/html": [
       "<div>\n",
       "<style scoped>\n",
       "    .dataframe tbody tr th:only-of-type {\n",
       "        vertical-align: middle;\n",
       "    }\n",
       "\n",
       "    .dataframe tbody tr th {\n",
       "        vertical-align: top;\n",
       "    }\n",
       "\n",
       "    .dataframe thead th {\n",
       "        text-align: right;\n",
       "    }\n",
       "</style>\n",
       "<table border=\"1\" class=\"dataframe\">\n",
       "  <thead>\n",
       "    <tr style=\"text-align: right;\">\n",
       "      <th></th>\n",
       "      <th>TSh1a1</th>\n",
       "      <th>TSh1a2</th>\n",
       "      <th>TSh1a3</th>\n",
       "      <th>TSh1a4</th>\n",
       "      <th>TSh1a5</th>\n",
       "      <th>TSh1a6</th>\n",
       "      <th>TSh1a7</th>\n",
       "      <th>TSh1a8</th>\n",
       "      <th>TSh1a9</th>\n",
       "      <th>TSh1a10</th>\n",
       "      <th>...</th>\n",
       "      <th>TSh4a2</th>\n",
       "      <th>TSh4a3</th>\n",
       "      <th>TSh4a4</th>\n",
       "      <th>TSh4a5</th>\n",
       "      <th>TSh4a6</th>\n",
       "      <th>TSh4a7</th>\n",
       "      <th>TSh4a8</th>\n",
       "      <th>TSh4a9</th>\n",
       "      <th>TSh4a10</th>\n",
       "      <th>TSh4a11</th>\n",
       "    </tr>\n",
       "  </thead>\n",
       "  <tbody>\n",
       "    <tr>\n",
       "      <th>0</th>\n",
       "      <td>0.0</td>\n",
       "      <td>1.0</td>\n",
       "      <td>1.0</td>\n",
       "      <td>0.0</td>\n",
       "      <td>0.0</td>\n",
       "      <td>0.0</td>\n",
       "      <td>0.0</td>\n",
       "      <td>0.0</td>\n",
       "      <td>0.0</td>\n",
       "      <td>0.0</td>\n",
       "      <td>...</td>\n",
       "      <td>0.0</td>\n",
       "      <td>0.0</td>\n",
       "      <td>0.0</td>\n",
       "      <td>0.0</td>\n",
       "      <td>0.0</td>\n",
       "      <td>0.0</td>\n",
       "      <td>0.0</td>\n",
       "      <td>0.0</td>\n",
       "      <td>0.0</td>\n",
       "      <td>0.0</td>\n",
       "    </tr>\n",
       "    <tr>\n",
       "      <th>1</th>\n",
       "      <td>0.0</td>\n",
       "      <td>1.0</td>\n",
       "      <td>1.0</td>\n",
       "      <td>0.0</td>\n",
       "      <td>0.0</td>\n",
       "      <td>0.0</td>\n",
       "      <td>0.0</td>\n",
       "      <td>1.0</td>\n",
       "      <td>0.0</td>\n",
       "      <td>0.0</td>\n",
       "      <td>...</td>\n",
       "      <td>0.0</td>\n",
       "      <td>0.0</td>\n",
       "      <td>0.0</td>\n",
       "      <td>0.0</td>\n",
       "      <td>0.0</td>\n",
       "      <td>0.0</td>\n",
       "      <td>0.0</td>\n",
       "      <td>0.0</td>\n",
       "      <td>0.0</td>\n",
       "      <td>0.0</td>\n",
       "    </tr>\n",
       "    <tr>\n",
       "      <th>2</th>\n",
       "      <td>0.0</td>\n",
       "      <td>0.0</td>\n",
       "      <td>0.0</td>\n",
       "      <td>0.0</td>\n",
       "      <td>0.0</td>\n",
       "      <td>0.0</td>\n",
       "      <td>0.0</td>\n",
       "      <td>0.0</td>\n",
       "      <td>0.0</td>\n",
       "      <td>0.0</td>\n",
       "      <td>...</td>\n",
       "      <td>0.0</td>\n",
       "      <td>0.0</td>\n",
       "      <td>0.0</td>\n",
       "      <td>0.0</td>\n",
       "      <td>0.0</td>\n",
       "      <td>0.0</td>\n",
       "      <td>0.0</td>\n",
       "      <td>0.0</td>\n",
       "      <td>0.0</td>\n",
       "      <td>0.0</td>\n",
       "    </tr>\n",
       "    <tr>\n",
       "      <th>3</th>\n",
       "      <td>0.0</td>\n",
       "      <td>0.0</td>\n",
       "      <td>0.0</td>\n",
       "      <td>0.0</td>\n",
       "      <td>0.0</td>\n",
       "      <td>0.0</td>\n",
       "      <td>0.0</td>\n",
       "      <td>0.0</td>\n",
       "      <td>0.0</td>\n",
       "      <td>0.0</td>\n",
       "      <td>...</td>\n",
       "      <td>0.0</td>\n",
       "      <td>0.0</td>\n",
       "      <td>0.0</td>\n",
       "      <td>0.0</td>\n",
       "      <td>0.0</td>\n",
       "      <td>0.0</td>\n",
       "      <td>0.0</td>\n",
       "      <td>0.0</td>\n",
       "      <td>0.0</td>\n",
       "      <td>0.0</td>\n",
       "    </tr>\n",
       "    <tr>\n",
       "      <th>4</th>\n",
       "      <td>0.0</td>\n",
       "      <td>0.0</td>\n",
       "      <td>0.0</td>\n",
       "      <td>0.0</td>\n",
       "      <td>0.0</td>\n",
       "      <td>0.0</td>\n",
       "      <td>0.0</td>\n",
       "      <td>0.0</td>\n",
       "      <td>0.0</td>\n",
       "      <td>0.0</td>\n",
       "      <td>...</td>\n",
       "      <td>0.0</td>\n",
       "      <td>0.0</td>\n",
       "      <td>0.0</td>\n",
       "      <td>0.0</td>\n",
       "      <td>0.0</td>\n",
       "      <td>0.0</td>\n",
       "      <td>0.0</td>\n",
       "      <td>0.0</td>\n",
       "      <td>0.0</td>\n",
       "      <td>0.0</td>\n",
       "    </tr>\n",
       "  </tbody>\n",
       "</table>\n",
       "<p>5 rows × 44 columns</p>\n",
       "</div>"
      ],
      "text/plain": [
       "   TSh1a1  TSh1a2  TSh1a3  TSh1a4  TSh1a5  TSh1a6  TSh1a7  TSh1a8  TSh1a9  \\\n",
       "0     0.0     1.0     1.0     0.0     0.0     0.0     0.0     0.0     0.0   \n",
       "1     0.0     1.0     1.0     0.0     0.0     0.0     0.0     1.0     0.0   \n",
       "2     0.0     0.0     0.0     0.0     0.0     0.0     0.0     0.0     0.0   \n",
       "3     0.0     0.0     0.0     0.0     0.0     0.0     0.0     0.0     0.0   \n",
       "4     0.0     0.0     0.0     0.0     0.0     0.0     0.0     0.0     0.0   \n",
       "\n",
       "   TSh1a10  ...  TSh4a2  TSh4a3  TSh4a4  TSh4a5  TSh4a6  TSh4a7  TSh4a8  \\\n",
       "0      0.0  ...     0.0     0.0     0.0     0.0     0.0     0.0     0.0   \n",
       "1      0.0  ...     0.0     0.0     0.0     0.0     0.0     0.0     0.0   \n",
       "2      0.0  ...     0.0     0.0     0.0     0.0     0.0     0.0     0.0   \n",
       "3      0.0  ...     0.0     0.0     0.0     0.0     0.0     0.0     0.0   \n",
       "4      0.0  ...     0.0     0.0     0.0     0.0     0.0     0.0     0.0   \n",
       "\n",
       "   TSh4a9  TSh4a10  TSh4a11  \n",
       "0     0.0      0.0      0.0  \n",
       "1     0.0      0.0      0.0  \n",
       "2     0.0      0.0      0.0  \n",
       "3     0.0      0.0      0.0  \n",
       "4     0.0      0.0      0.0  \n",
       "\n",
       "[5 rows x 44 columns]"
      ]
     },
     "execution_count": 64,
     "metadata": {},
     "output_type": "execute_result"
    }
   ],
   "source": [
    "TSsumAge.head()"
   ]
  },
  {
   "cell_type": "code",
   "execution_count": 65,
   "metadata": {},
   "outputs": [],
   "source": [
    "writer = pd.ExcelWriter('TSageSumsDT.xlsx')\n",
    "TSsumAge.to_excel(writer,'Sheet1')\n",
    "writer.save()"
   ]
  },
  {
   "cell_type": "code",
   "execution_count": 85,
   "metadata": {},
   "outputs": [],
   "source": [
    "TSsmatrix = TSsumAge.values"
   ]
  },
  {
   "cell_type": "code",
   "execution_count": 86,
   "metadata": {},
   "outputs": [
    {
     "name": "stdout",
     "output_type": "stream",
     "text": [
      "[[0. 1. 1. ... 0. 0. 0.]\n",
      " [0. 1. 1. ... 0. 0. 0.]\n",
      " [0. 0. 0. ... 0. 0. 0.]\n",
      " ...\n",
      " [0. 0. 0. ... 0. 0. 0.]\n",
      " [0. 0. 0. ... 0. 0. 0.]\n",
      " [0. 1. 0. ... 0. 0. 0.]]\n"
     ]
    }
   ],
   "source": [
    "print(TSsmatrix)"
   ]
  },
  {
   "cell_type": "code",
   "execution_count": 68,
   "metadata": {},
   "outputs": [],
   "source": [
    "import matplotlib.pyplot as plt"
   ]
  },
  {
   "cell_type": "code",
   "execution_count": 87,
   "metadata": {},
   "outputs": [
    {
     "data": {
      "image/png": "[encoded data removed]",
      "text/plain": [
       "<Figure size 432x288 with 1 Axes>"
      ]
     },
     "metadata": {
      "needs_background": "light"
     },
     "output_type": "display_data"
    }
   ],
   "source": [
    "plt.close('all')\n",
    "plt.bar(np.arange(44), np.sum(TSsmatrix,axis=0))\n",
    "plt.xticks(np.arange(44),['h1a1','h1a2','h1a3','h1a4','h1a5','h1a6','h1a7','h1a8','h1a9','h1a10','h1a11',\n",
    "                'h2a1','h2a2','h2a3','h2a4','h2a5','h2a6','h2a7','h2a8','h2a9','h2a10','h2a11',\n",
    "                'h3a1','h3a2','h3a3','h3a4','h3a5','h3a6','h3a7','h3a8','h3a9','h3a10','h3a11',\n",
    "                'h4a1','h4a2','h4a3','h4a4','h4a5','h4a6','h4a7','h4a8','h4a9','h4a10','h4a11'] \n",
    "          ,fontsize=4,rotation=49)\n",
    "plt.title('Total transshipment between hospitals at each shelf life using SVR model')\n",
    "plt.savefig('DTtransshipmentAge.pdf',bbox_inches='tight')"
   ]
  },
  {
   "cell_type": "code",
   "execution_count": 88,
   "metadata": {},
   "outputs": [],
   "source": [
    "def inventoryread(split,i):\n",
    "    p5=split[i]\n",
    "    p6=p5.strip('],]\\n')\n",
    "    p7=p6.split('],[')\n",
    "    xin=[p7[i].split(',') for i in [0,1,2,3]]\n",
    "    xin1=np.array(xin,dtype=float)\n",
    "    xin2=xin1.reshape(1,44)\n",
    "    \n",
    "    \n",
    "    return xin2\n",
    "       "
   ]
  },
  {
   "cell_type": "code",
   "execution_count": 89,
   "metadata": {},
   "outputs": [],
   "source": [
    "f = open('DTinventoryNewDemand.txt', 'r')\n",
    "split=[line.strip('[[') for line in f]\n",
    "#[print(line[0:2]) for line in f]\n",
    "\n",
    "f.close()"
   ]
  },
  {
   "cell_type": "code",
   "execution_count": 90,
   "metadata": {},
   "outputs": [],
   "source": [
    "xin=np.empty((0,44))\n",
    "for i in np.arange(len(split)):\n",
    "    \n",
    "    if len(split[i])==1:\n",
    "        continue\n",
    "        \n",
    "        \n",
    "    xi=inventoryread(split,i)\n",
    "    xin=np.append(xin,xi,axis=0)\n",
    "         "
   ]
  },
  {
   "cell_type": "code",
   "execution_count": 91,
   "metadata": {},
   "outputs": [],
   "source": [
    "Inve_TS=xin[:,0:44]-TSsmatrix[:,0:44]"
   ]
  },
  {
   "cell_type": "code",
   "execution_count": 92,
   "metadata": {},
   "outputs": [
    {
     "name": "stdout",
     "output_type": "stream",
     "text": [
      "(18500, 44)\n"
     ]
    },
    {
     "data": {
      "text/plain": [
       "3"
      ]
     },
     "execution_count": 92,
     "metadata": {},
     "output_type": "execute_result"
    }
   ],
   "source": [
    "print(Inve_TS.shape)\n",
    "\n",
    "Inve_TS\n",
    "\n",
    "Negatives=np.where(Inve_TS<0)\n",
    "\n",
    "NegativeAge=Negatives[1]\n",
    "\n",
    "NegativeDay=Negatives[0]\n",
    "\n",
    "len(Inve_TS[NegativeDay,NegativeAge])"
   ]
  },
  {
   "cell_type": "code",
   "execution_count": 93,
   "metadata": {},
   "outputs": [
    {
     "data": {
      "text/plain": [
       "0.00016216216216216215"
      ]
     },
     "execution_count": 93,
     "metadata": {},
     "output_type": "execute_result"
    }
   ],
   "source": [
    "len(Inve_TS[NegativeDay,NegativeAge])/18500"
   ]
  },
  {
   "cell_type": "code",
   "execution_count": 94,
   "metadata": {},
   "outputs": [
    {
     "data": {
      "text/plain": [
       "18501"
      ]
     },
     "execution_count": 94,
     "metadata": {},
     "output_type": "execute_result"
    }
   ],
   "source": [
    "len(split)"
   ]
  },
  {
   "cell_type": "code",
   "execution_count": 95,
   "metadata": {},
   "outputs": [
    {
     "data": {
      "text/plain": [
       "(18500, 44)"
      ]
     },
     "execution_count": 95,
     "metadata": {},
     "output_type": "execute_result"
    }
   ],
   "source": [
    "xin.shape"
   ]
  },
  {
   "cell_type": "code",
   "execution_count": 96,
   "metadata": {},
   "outputs": [],
   "source": [
    "SDinputs=np.std(xin,axis=0)"
   ]
  },
  {
   "cell_type": "code",
   "execution_count": 97,
   "metadata": {},
   "outputs": [],
   "source": [
    "MEANinputs=np.mean(xin,axis=0)"
   ]
  },
  {
   "cell_type": "code",
   "execution_count": 98,
   "metadata": {},
   "outputs": [],
   "source": [
    "import matplotlib.pyplot as plt"
   ]
  },
  {
   "cell_type": "code",
   "execution_count": 99,
   "metadata": {},
   "outputs": [
    {
     "data": {
      "text/plain": [
       "Text(0.5, 1.0, 'SDs')"
      ]
     },
     "execution_count": 99,
     "metadata": {},
     "output_type": "execute_result"
    },
    {
     "data": {
      "image/png": "[encoded data removed]",
      "text/plain": [
       "<Figure size 432x288 with 1 Axes>"
      ]
     },
     "metadata": {
      "needs_background": "light"
     },
     "output_type": "display_data"
    }
   ],
   "source": [
    "plt.bar(np.arange(44),SDinputs,align='center',width=0.4, alpha=0.8, facecolor='None', edgecolor='black')\n",
    "plt.title('SDs')"
   ]
  },
  {
   "cell_type": "code",
   "execution_count": 100,
   "metadata": {},
   "outputs": [
    {
     "data": {
      "text/plain": [
       "Text(0.5, 1.0, 'mean')"
      ]
     },
     "execution_count": 100,
     "metadata": {},
     "output_type": "execute_result"
    },
    {
     "data": {
      "image/png": "[encoded data removed]",
      "text/plain": [
       "<Figure size 432x288 with 1 Axes>"
      ]
     },
     "metadata": {
      "needs_background": "light"
     },
     "output_type": "display_data"
    }
   ],
   "source": [
    "plt.bar(np.arange(44),MEANinputs,align='center',width=0.4, alpha=0.8, facecolor='None', edgecolor='black')\n",
    "plt.title('mean')"
   ]
  },
  {
   "cell_type": "code",
   "execution_count": 101,
   "metadata": {},
   "outputs": [
    {
     "data": {
      "image/png": "[encoded data removed]",
      "text/plain": [
       "<Figure size 720x720 with 4 Axes>"
      ]
     },
     "metadata": {
      "needs_background": "light"
     },
     "output_type": "display_data"
    }
   ],
   "source": [
    "fig, axes = plt.subplots(2, 2, sharex=False,sharey=False,figsize=(10,10),  tight_layout=True)\n",
    "distance = []\n",
    "n_bins1 = 15\n",
    "n_bins2 = 20\n",
    "# H1\n",
    "#axes[1].subplot(221,sharex='col')\n",
    "#axes[0,0].plot(np.arange(11)+1,MEANinputs[0:11],'k.')\n",
    "axes[0,0].errorbar(np.arange(11)+1,MEANinputs[0:11], yerr=SDinputs[0:11], marker='o',linestyle='',markersize=3,fmt='k', alpha=0.8, elinewidth=0.7,ecolor='black', capsize=3)\n",
    "\n",
    "axes[0,0].set_title('Hospital 1',fontname='serif',fontsize=11)\n",
    "axes[0,0].grid(False)\n",
    "\n",
    "\n",
    "# H2\n",
    "\n",
    "#axes[0,1].plot(np.arange(11)+1,MEANinputs[11:22],'k.')\n",
    "axes[0,1].errorbar(np.arange(11)+1,MEANinputs[11:22], yerr=SDinputs[11:22], marker='o',linestyle='',markersize=3,fmt='k', alpha=0.7, elinewidth=0.7,ecolor='black', capsize=3)\n",
    "\n",
    "axes[0,1].set_title('Hospital 2',fontname='serif',fontsize=11)\n",
    "axes[0,1].grid(False)\n",
    "\n",
    "\n",
    "# H3\n",
    "\n",
    "#axes[1,0].plot(np.arange(11)+1,MEANinputs[22:33],'k.')\n",
    "axes[1,0].errorbar(np.arange(11)+1,MEANinputs[22:33], yerr=SDinputs[22:33], marker='o',linestyle='',markersize=3,fmt='k', alpha=0.7, elinewidth=0.7,ecolor='black', capsize=3)\n",
    "\n",
    "axes[1,0].set_title('Hospital 3',fontname='serif',fontsize=11)\n",
    "axes[1,0].grid(False)\n",
    "\n",
    "# H4\n",
    "\n",
    "#axes[1,1].plot(np.arange(11)+1,MEANinputs[33:44],'k.')\n",
    "axes[1,1].errorbar(np.arange(11)+1,MEANinputs[33:44], SDinputs[33:44], marker='o',linestyle='',markersize=3,fmt='k', alpha=0.7, elinewidth=0.7,ecolor='black', capsize=3)\n",
    "\n",
    "\n",
    "axes[1,1].set_title('Hospital 4',fontname='serif',fontsize=11)\n",
    "axes[1,1].grid(False)\n",
    "# Format the minor tick labels of the y-axis into empty strings with\n",
    "# `NullFormatter`, to avoid cumbering the axis with too many labels.\n",
    "#plt.gca().yaxis.set_minor_formatter(NullFormatter())\n",
    "# Adjust the subplot layout, because the logit one may take more space\n",
    "# than usual, due to y-tick labels like \"1 - 10^{-3}\"\n",
    "plt.subplots_adjust(top=1, bottom=0.05, left=0.10, right=0.95, hspace=0.5,\n",
    "                    wspace=0.35)\n",
    "fig.text(-0.03, 0.5, '', ha='center', va='center',rotation='vertical',fontname='serif')\n",
    "\n",
    "plt.savefig('InventoriesByMLPmodelDot.pdf',format='pdf', dpi=1000,bbox_inches='tight')\n",
    "plt.show()"
   ]
  },
  {
   "cell_type": "code",
   "execution_count": 103,
   "metadata": {},
   "outputs": [],
   "source": [
    "DTypred=np.round(svr.predict(xin))"
   ]
  },
  {
   "cell_type": "code",
   "execution_count": 104,
   "metadata": {},
   "outputs": [],
   "source": [
    "Inve_TS=xin[:,0:44]-DTypred[:,0:44]\n",
    "\n",
    "#plt.close()\n",
    "#plt.plot(np.arange(18500)+1,Inve_TS)\n",
    "#plt.savefig('DTInv_TS.pdf',format='pdf', dpi=300,bbox_inches='tight')\n",
    "#plt.show()\n"
   ]
  },
  {
   "cell_type": "code",
   "execution_count": 105,
   "metadata": {},
   "outputs": [
    {
     "data": {
      "text/plain": [
       "(18500, 44)"
      ]
     },
     "execution_count": 105,
     "metadata": {},
     "output_type": "execute_result"
    }
   ],
   "source": [
    "Inve_TS.shape"
   ]
  },
  {
   "cell_type": "code",
   "execution_count": 106,
   "metadata": {},
   "outputs": [
    {
     "data": {
      "text/plain": [
       "array([[ 1.,  0.,  2., ...,  3.,  4.,  5.],\n",
       "       [ 0.,  0.,  2., ...,  4.,  5.,  0.],\n",
       "       [ 0.,  0.,  1., ...,  5.,  0.,  4.],\n",
       "       ...,\n",
       "       [ 0.,  0.,  0., ...,  2., 10., 17.],\n",
       "       [ 0.,  0.,  2., ...,  3., 17.,  5.],\n",
       "       [ 0.,  2.,  0., ...,  0.,  2., 15.]])"
      ]
     },
     "execution_count": 106,
     "metadata": {},
     "output_type": "execute_result"
    }
   ],
   "source": [
    "Inve_TS"
   ]
  },
  {
   "cell_type": "code",
   "execution_count": 107,
   "metadata": {},
   "outputs": [],
   "source": [
    "Negatives=np.where(Inve_TS<0)"
   ]
  },
  {
   "cell_type": "code",
   "execution_count": 108,
   "metadata": {},
   "outputs": [],
   "source": [
    "NegativeAge=Negatives[1]"
   ]
  },
  {
   "cell_type": "code",
   "execution_count": 109,
   "metadata": {},
   "outputs": [],
   "source": [
    "NegativeDay=Negatives[0]"
   ]
  },
  {
   "cell_type": "code",
   "execution_count": 110,
   "metadata": {},
   "outputs": [
    {
     "data": {
      "text/plain": [
       "2413"
      ]
     },
     "execution_count": 110,
     "metadata": {},
     "output_type": "execute_result"
    }
   ],
   "source": [
    "len(Inve_TS[NegativeDay,NegativeAge])"
   ]
  },
  {
   "cell_type": "code",
   "execution_count": 111,
   "metadata": {},
   "outputs": [
    {
     "data": {
      "text/plain": [
       "0.008162162162162163"
      ]
     },
     "execution_count": 111,
     "metadata": {},
     "output_type": "execute_result"
    }
   ],
   "source": [
    "151/18500"
   ]
  },
  {
   "cell_type": "code",
   "execution_count": 112,
   "metadata": {},
   "outputs": [
    {
     "data": {
      "image/png": "[encoded data removed]",
      "text/plain": [
       "<Figure size 720x720 with 4 Axes>"
      ]
     },
     "metadata": {
      "needs_background": "light"
     },
     "output_type": "display_data"
    }
   ],
   "source": [
    "X=xin\n",
    "fig, axes = plt.subplots(2, 2, sharex=False,sharey=False,figsize=(10,10),  tight_layout=True)\n",
    "distance = []\n",
    "n_bins1 = 15\n",
    "n_bins2 = 20\n",
    "\n",
    "outlayersprops = dict(markerfacecolor='k',markersize=0.5, marker='.')\n",
    "medianprops = dict(linestyle='-', linewidth=0.5, color='red')\n",
    "meanprops = dict(marker='s',markerfacecolor='k',markeredgecolor='k')\n",
    "\n",
    "# H1\n",
    "#axes[1].subplot(221,sharex='col')\n",
    "axes[0,0].boxplot(X[:,0:11],notch=True,showmeans=True, meanprops=meanprops,medianprops=medianprops,flierprops=outlayersprops)\n",
    "#axes[0,0].errorbar(np.arange(11)+1,MEANinputs[0:11], yerr=SDinputs[0:11], fmt='None', alpha=0.7, elinewidth=0.7,ecolor='black', capsize=5)\n",
    "\n",
    "axes[0,0].set_title('Inventory of hospital 1',fontname='serif',fontsize=11)\n",
    "axes[0,0].grid(False)\n",
    "\n",
    "\n",
    "# H2\n",
    "\n",
    "axes[0,1].boxplot(X[:,11:22],notch=True,showmeans=True, meanprops=meanprops,flierprops=outlayersprops)\n",
    "#axes[0,1].errorbar(np.arange(11)+1,MEANinputs[11:22], yerr=SDinputs[11:22], fmt='None', alpha=0.7, elinewidth=0.7,ecolor='black', capsize=5)\n",
    "\n",
    "axes[0,1].set_title('Inventory of hospital 2',fontname='serif',fontsize=11)\n",
    "axes[0,1].grid(False)\n",
    "\n",
    "\n",
    "# H3\n",
    "\n",
    "axes[1,0].boxplot(X[:,22:33],notch=True,showmeans=True, meanprops=meanprops,flierprops=outlayersprops)\n",
    "#axes[1,0].errorbar(np.arange(11)+1,MEANinputs[22:33], yerr=SDinputs[22:33], fmt='None', alpha=0.7, elinewidth=0.7,ecolor='black', capsize=5)\n",
    "\n",
    "axes[1,0].set_title('Inventory of hospital 3',fontname='serif',fontsize=11)\n",
    "axes[1,0].grid(False)\n",
    "\n",
    "# H4\n",
    "\n",
    "axes[1,1].boxplot(X[:,33:44],notch=True,showmeans=True, meanprops=meanprops,flierprops=outlayersprops)\n",
    "#axes[1,1].errorbar(np.arange(11)+1,MEANinputs[33:44], SDinputs[33:44], fmt='None', alpha=0.7, elinewidth=0.7,ecolor='black', capsize=5)\n",
    "\n",
    "axes[1,1].set_title('linear')\n",
    "axes[1,1].set_title('Inventory of hospital 4',fontname='serif',fontsize=11)\n",
    "axes[1,1].grid(False)\n",
    "# Format the minor tick labels of the y-axis into empty strings with\n",
    "# `NullFormatter`, to avoid cumbering the axis with too many labels.\n",
    "#plt.gca().yaxis.set_minor_formatter(NullFormatter())\n",
    "# Adjust the subplot layout, because the logit one may take more space\n",
    "# than usual, due to y-tick labels like \"1 - 10^{-3}\"\n",
    "plt.subplots_adjust(top=1, bottom=0.05, left=0.10, right=0.95, hspace=0.5,\n",
    "                    wspace=0.35)\n",
    "fig.text(-0.03, 0.5, 'No. of blood units', ha='center', va='center',rotation='vertical',fontname='serif')\n",
    "fig.text(0.5, -0.03, 'Residual shelf life', ha='center', va='center',fontname='serif')\n",
    "\n",
    "plt.savefig('DTInventory.pdf',format='pdf', dpi=1000,bbox_inches='tight')\n",
    "plt.show()"
   ]
  },
  {
   "cell_type": "code",
   "execution_count": 113,
   "metadata": {},
   "outputs": [
    {
     "data": {
      "text/plain": [
       "Index(['h1a1', 'h1a2', 'h1a3', 'h1a4', 'h1a5', 'h1a6', 'h1a7', 'h1a8', 'h1a9',\n",
       "       'h1a10', 'h1a11', 'h2a1', 'h2a2', 'h2a3', 'h2a4', 'h2a5', 'h2a6',\n",
       "       'h2a7', 'h2a8', 'h2a9', 'h2a10', 'h2a11', 'h3a1', 'h3a2', 'h3a3',\n",
       "       'h3a4', 'h3a5', 'h3a6', 'h3a7', 'h3a8', 'h3a9', 'h3a10', 'h3a11',\n",
       "       'h4a1', 'h4a2', 'h4a3', 'h4a4', 'h4a5', 'h4a6', 'h4a7', 'h4a8', 'h4a9',\n",
       "       'h4a10', 'h4a11', 'order1', 'order2', 'order3', 'order4'],\n",
       "      dtype='object')"
      ]
     },
     "execution_count": 113,
     "metadata": {},
     "output_type": "execute_result"
    }
   ],
   "source": [
    "indx1=list(df_name[0:44]) #inventories\n",
    "indx2=list(df_name[220:224]) # orders\n",
    "indx=indx1+indx2\n",
    "pd.Index(indx)"
   ]
  },
  {
   "cell_type": "code",
   "execution_count": 115,
   "metadata": {},
   "outputs": [],
   "source": [
    "trainpredictions = svr.predict(X_train)\n",
    "\n",
    "trainpredictions[trainpredictions<0]=0\n",
    "\n",
    "trainpredictions=np.round(trainpredictions,0)"
   ]
  },
  {
   "cell_type": "code",
   "execution_count": 117,
   "metadata": {},
   "outputs": [
    {
     "ename": "NameError",
     "evalue": "name 'days_train' is not defined",
     "output_type": "error",
     "traceback": [
      "\u001b[0;31m---------------------------------------------------------------------------\u001b[0m",
      "\u001b[0;31mNameError\u001b[0m                                 Traceback (most recent call last)",
      "\u001b[0;32m<ipython-input-117-e94eee46e971>\u001b[0m in \u001b[0;36m<module>\u001b[0;34m\u001b[0m\n\u001b[1;32m      2\u001b[0m \u001b[0;34m\u001b[0m\u001b[0m\n\u001b[1;32m      3\u001b[0m \u001b[0mdfTrain\u001b[0m\u001b[0;34m=\u001b[0m\u001b[0mpd\u001b[0m\u001b[0;34m.\u001b[0m\u001b[0mDataFrame\u001b[0m\u001b[0;34m(\u001b[0m\u001b[0mnp\u001b[0m\u001b[0;34m.\u001b[0m\u001b[0mconcatenate\u001b[0m\u001b[0;34m(\u001b[0m\u001b[0;34m[\u001b[0m\u001b[0mX_train\u001b[0m\u001b[0;34m,\u001b[0m\u001b[0mtrainpredictions\u001b[0m\u001b[0;34m]\u001b[0m\u001b[0;34m,\u001b[0m\u001b[0maxis\u001b[0m\u001b[0;34m=\u001b[0m\u001b[0;36m1\u001b[0m\u001b[0;34m)\u001b[0m\u001b[0;34m,\u001b[0m\u001b[0mcolumns\u001b[0m\u001b[0;34m=\u001b[0m\u001b[0mdf_name\u001b[0m\u001b[0;34m[\u001b[0m\u001b[0;36m0\u001b[0m\u001b[0;34m:\u001b[0m\u001b[0;36m224\u001b[0m\u001b[0;34m]\u001b[0m\u001b[0;34m)\u001b[0m\u001b[0;34m\u001b[0m\u001b[0;34m\u001b[0m\u001b[0m\n\u001b[0;32m----> 4\u001b[0;31m \u001b[0mdfTrain\u001b[0m\u001b[0;34m[\u001b[0m\u001b[0;34m'Day'\u001b[0m\u001b[0;34m]\u001b[0m\u001b[0;34m=\u001b[0m\u001b[0mdays_train\u001b[0m\u001b[0;34m\u001b[0m\u001b[0;34m\u001b[0m\u001b[0m\n\u001b[0m\u001b[1;32m      5\u001b[0m \u001b[0mcols\u001b[0m\u001b[0;34m=\u001b[0m\u001b[0mdfTrain\u001b[0m\u001b[0;34m.\u001b[0m\u001b[0mcolumns\u001b[0m\u001b[0;34m.\u001b[0m\u001b[0mtolist\u001b[0m\u001b[0;34m(\u001b[0m\u001b[0;34m)\u001b[0m\u001b[0;34m\u001b[0m\u001b[0;34m\u001b[0m\u001b[0m\n\u001b[1;32m      6\u001b[0m \u001b[0mcols\u001b[0m\u001b[0;34m=\u001b[0m\u001b[0mcols\u001b[0m\u001b[0;34m[\u001b[0m\u001b[0;34m-\u001b[0m\u001b[0;36m1\u001b[0m\u001b[0;34m:\u001b[0m\u001b[0;34m]\u001b[0m\u001b[0;34m+\u001b[0m\u001b[0mcols\u001b[0m\u001b[0;34m[\u001b[0m\u001b[0;34m:\u001b[0m\u001b[0;34m-\u001b[0m\u001b[0;36m1\u001b[0m\u001b[0;34m]\u001b[0m\u001b[0;34m\u001b[0m\u001b[0;34m\u001b[0m\u001b[0m\n",
      "\u001b[0;31mNameError\u001b[0m: name 'days_train' is not defined"
     ]
    }
   ],
   "source": [
    "###Save Excel files\n",
    "\n",
    "dfTrain=pd.DataFrame(np.concatenate([X_train,trainpredictions],axis=1),columns=df_name[0:224])\n",
    "dfTrain['Day']=days_train\n",
    "cols=dfTrain.columns.tolist()\n",
    "cols=cols[-1:]+cols[:-1]\n",
    "dfTrain=dfTrain[cols]\n",
    "writer = pd.ExcelWriter('Final14MLPTrain6.xlsx')\n",
    "dfTrain.to_excel(writer,'Sheet1')\n",
    "writer.save()"
   ]
  },
  {
   "cell_type": "code",
   "execution_count": 340,
   "metadata": {
    "collapsed": true
   },
   "outputs": [],
   "source": [
    "dfTest=pd.DataFrame(np.concatenate([x_test,y_test],axis=1),columns=df_name[0:224])\n",
    "dfTest['Day']=days_test\n",
    "dfTest=dfTest[cols]\n",
    "writer = pd.ExcelWriter('Final14MLPTest6.xlsx')\n",
    "dfTest.to_excel(writer,'Sheet1')\n",
    "writer.save()"
   ]
  },
  {
   "cell_type": "code",
   "execution_count": 298,
   "metadata": {
    "collapsed": true
   },
   "outputs": [],
   "source": [
    "\n",
    "dfPred=pd.DataFrame(np.concatenate([x_test,predictions],axis=1),columns=df_name[0:224])\n",
    "mse=pd.DataFrame(mse.reshape(1,180), columns=df_name[44:224])\n",
    "dfPred['Day']=days_test\n",
    "dfPred=dfPred[cols]\n",
    "writer = pd.ExcelWriter('Final14MLPpredictions6.xlsx')\n",
    "dfPred.to_excel(writer,'Sheet1')\n",
    "mse.to_excel(writer,'Sheet2')\n",
    "writer.save()\n"
   ]
  },
  {
   "cell_type": "code",
   "execution_count": null,
   "metadata": {
    "collapsed": true
   },
   "outputs": [],
   "source": []
  }
 ],
 "metadata": {
  "kernelspec": {
   "display_name": "Python 3",
   "language": "python",
   "name": "python3"
  },
  "language_info": {
   "codemirror_mode": {
    "name": "ipython",
    "version": 3
   },
   "file_extension": ".py",
   "mimetype": "text/x-python",
   "name": "python",
   "nbconvert_exporter": "python",
   "pygments_lexer": "ipython3",
   "version": "3.6.10"
  }
 },
 "nbformat": 4,
 "nbformat_minor": 2
}
