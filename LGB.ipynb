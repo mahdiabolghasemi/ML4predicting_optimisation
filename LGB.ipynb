{
 "cells": [
  {
   "cell_type": "code",
   "execution_count": 1,
   "metadata": {},
   "outputs": [
    {
     "name": "stdout",
     "output_type": "stream",
     "text": [
      "Once deleted, variables cannot be recovered. Proceed (y/[n])? \n",
      "Nothing done.\n"
     ]
    }
   ],
   "source": [
    "%reset"
   ]
  },
  {
   "cell_type": "code",
   "execution_count": 6,
   "metadata": {},
   "outputs": [],
   "source": [
    "import pandas as pd\n",
    "import numpy as np"
   ]
  },
  {
   "cell_type": "code",
   "execution_count": 7,
   "metadata": {},
   "outputs": [],
   "source": [
    "##Cost calculation\n",
    "def cost(scaler,dmnd,mlp,cost_shortage, cost_outdate):\n",
    "\n",
    "    \n",
    "    Demand=[dmnd['Demand1'].values.tolist(),dmnd['Demand2'].values.tolist(),dmnd['Demand3'].values.tolist(),\n",
    "        dmnd['Demand4'].values.tolist()]\n",
    "    #print(Demand[0][0:5])\n",
    "    period=9250\n",
    "    \n",
    "    T=7  #period\n",
    "    D= 100  # number of  scenarios\n",
    "    #b=[[0, 3, 2, 3, 0, 0, 3, 4, 3, 3, 3],[0, 0, 2, 0, 3, 2, 3, 2, 1, 2, 1],[4, 5, 5, 9, 10, 8, 6, 9, 10, 7, 7],\n",
    "       #[6, 9, 3, 7, 2, 6, 5, 5, 4, 5, 4]] ##Initial inventory\n",
    "    \n",
    "    b=[[1, 0, 2, 2, 1, 0, 2, 3, 4, 4, 4],[0, 0, 1, 1, 2, 3, 4, 1, 1, 0, 3],[3, 4, 6, 8, 9, 8, 6, 8, 9, 8, 6],\n",
    "       [5, 8, 4, 6, 2, 5, 5, 6, 3, 4, 5]]\n",
    "    M = 11 ##len (b[0]) #life time period\n",
    "    N = 4 ##len (b) #number of hospital \n",
    "\n",
    "    #n=[4,3,15,15]\n",
    "    #p=[0.6,0.57,0.57,0.48]\n",
    "    RD=[[0 for k in range(period)] for j in range(N)] #relized demand\n",
    "    #RD = read_dat_file(\"ZINB.txt\")\n",
    "    RD=Demand\n",
    "    #print(RD[1][0:5])\n",
    "    G = [cost_shortage for j in range(N)]  #The emergency order cost at each hospital\n",
    "    H = [1 for j in range(N)]  #The holding cost at each hospital\n",
    "    H1=[[1 for j in range (M)]for i in range (N)]\n",
    "\n",
    "    E = [cost_outdate for j in range(N)]  #The expiry cost at each hospital\n",
    "    R = [1 for j in range(N)]  #The order cost at each hospital\n",
    "    C =[[1.5 for j in range(N)] for i in range(N)] # transshipment cost.the first dimention shows the origin hospital and \n",
    "#the second one shows the destination hospital\n",
    "    CTS=[0 for i in range (period)]\n",
    "    shortage=[0 for i in range (period)]\n",
    "    Orders=[0 for i in range (period)]\n",
    "    ## consideing these two additional costs\n",
    "    HoldCost= [0 for i in range (period)]\n",
    "    CoutCost=[0 for i in range (period)]\n",
    "    TransCost=[0 for i in range (period)]\n",
    "    \n",
    "    CTSTotal=0\n",
    "    fiorder = open('NewDemandorder.txt', 'w')\n",
    "    fitrans = open('NewDemandtrans.txt', 'w')\n",
    "    fiout = open('NewDemandoutdate.txt', 'w')\n",
    "    fishortage = open('NewDemandshortage.txt', 'w')\n",
    "    fiissue = open('NewDemandissue.txt', 'w')\n",
    "    fiinventory = open('inventoryNewDemand.txt', 'w')\n",
    "    fitranscost = open('transcost.txt', 'w')\n",
    "#fioutcost = open('currentoutdatecost.txt', 'w')\n",
    "#fishortagecost = open('currentshortagecost.txt', 'w')\n",
    "    fiholdcost = open('holdcost.txt', 'w')\n",
    "    \n",
    "    fiinventoryTS = open('inventoryTS.txt', 'w')\n",
    "\n",
    "    for t in range (period):\n",
    "        \n",
    "        fiinventory.write((\"\\n[\"))\n",
    "        for item in b:\n",
    "            fiinventory.write(\"%s,\" % item) \n",
    "        fiinventory.write(\"]\")                   \n",
    "        \n",
    "        Y = [0 for i in range(N)]   #orders\n",
    "        X= [[[0 for k in range(M)] for j in range(N)] for i in range(N)]  #X[hi][hf][age] : transshipment matrix\n",
    "        X1= [0 for j in range(N)] \n",
    "        \n",
    "        #b=np.array(b).reshape(1,44).reshape(1,-1)\n",
    "        prediction = mlp.predict(np.array(b).reshape(1,44).reshape(1,-1))\n",
    "        \n",
    "        #lgbTestData = lightgbm.Dataset(np.array(b).reshape(1,44).reshape(1,-1))\n",
    "        \n",
    "        #prediction = mdl.predict(lgbTestData)\n",
    "\n",
    "        prediction[prediction<0]=0\n",
    "\n",
    "        prediction=np.round(prediction,0)\n",
    "\n",
    "        d=prediction[0][0:176]       #Transshipments\n",
    "        X=d.reshape(4,4,11)\n",
    "\n",
    "        Y=prediction[0][176:180]     #'order1':'order4'\n",
    "        \n",
    "    \n",
    "    #Y,X = twosatge(b,N,M,T,D,G,H1,E,R,C)\n",
    "    \n",
    "        Corder=0\n",
    "        Ctrans=0\n",
    "        Cshort=0\n",
    "        Chold=0\n",
    "        Cout=0\n",
    "        #CTS=0\n",
    "        issue=[[0 for j in range (M)]for i in range (N)]\n",
    "        bD=[[0 for j in range (M)]for i in range (N)] #inventory after satisfying demand\n",
    "        by=[[0 for j in range (M)]for i in range (N)] #inventory after reciving order \n",
    "        F =[0 for i in range (N)]  # shortage at each hospital\n",
    "        Hunit =[0 for i in range (N)]  # total units which stay in system for one period at each hospital\n",
    "        Ounit=[0 for i in range (N)]  # outdate at each hospital\n",
    "        XIN= [[0 for j in range (M)]for i in range (N)]\n",
    "        XOUT= [[0 for j in range (M)]for i in range (N)] \n",
    "        bx= [[0 for j in range (M)]for i in range (N)] #inventory after transshipment\n",
    "        for i in range (N):\n",
    "            for j in range (M):\n",
    "                k=0\n",
    "                for l in range (N):\n",
    "                    k=k+X[i][l][j]\n",
    "                XOUT[i][j]=k\n",
    "        for i in range (N):\n",
    "            for j in range (M):\n",
    "                k=0\n",
    "                for l in range (N):\n",
    "                    k=k+X[l][i][j]\n",
    "                XIN[i][j]=k\n",
    "        for i in range (N):\n",
    "            q=0\n",
    "            for j in range (N):\n",
    "                for k in range (M):\n",
    "                    q= q+X[i][j][k]\n",
    "            X1[i]=q\t\t\n",
    "        for i in range (N):\n",
    "            for j in range (M):\n",
    "                bx[i][j]= b[i][j]+XIN[i][j]-XOUT[i][j]\n",
    "        for i in range (N):\n",
    "            for j in range (M):\n",
    "                if bx[i][j]>RD[i][t]:\n",
    "                    bD[i][j]= bx[i][j]-RD[i][t]\n",
    "                    issue[i][j]=RD[i][t]\n",
    "                    RD[i][t]=0\n",
    "                else:\n",
    "                    issue[i][j]=bx[i][j]\n",
    "                    bD[i][j]=0\n",
    "                    RD[i][t]=RD[i][t]-bx[i][j]\n",
    "            if RD[i][t]>0:\n",
    "                F[i]=RD[i][t]\t\n",
    "        for i in range (N):\n",
    "            Ounit[i]= bD[i][0] \n",
    "        for i in range (N):\n",
    "            j=1\n",
    "            k=0\n",
    "            while j<M:\n",
    "                k= k+bD[i][j]\n",
    "                j=j+1\n",
    "            Hunit[i]=k\n",
    "        for i in range (N):\n",
    "            for j in range (M):\n",
    "                if j==(M-1):\n",
    "                    by[i][j]=Y[i] \n",
    "                else:\n",
    "                    by[i][j]= bD[i][j+1]\n",
    "        for i in range (N):\n",
    "            for j in range (M):\t\n",
    "                b[i][j]=by[i][j]\t\t\t\t\n",
    "        for i in range (N):\n",
    "            Corder= Corder +R[i]*Y[i]\n",
    "        for i in range (N):\n",
    "                for j in range (N):\n",
    "                    for l in range (M):\n",
    "                        Ctrans = Ctrans+C[i][j]*X[i][j][l]\n",
    "        for i in range (N):\n",
    "            Cshort=Cshort+F[i]*G[i]\n",
    "            Chold=Chold+Hunit[i]*H[i]\n",
    "            Cout=Cout+Ounit[i]*E[i]\n",
    "        CTS[t]=Corder+Ctrans+Cshort+Chold+Cout\n",
    "        shortage[t]=Cshort\n",
    "        Orders[t]=Corder\n",
    "        # adding the trans and hoding cost and count\n",
    "        TransCost[t]=Ctrans\n",
    "        HoldCost[t]=Chold\n",
    "        CoutCost[t]=Cout\n",
    "        ## continue with others\n",
    "        CTSTotal = CTSTotal+CTS[t]\n",
    "        fiholdcost.write((\"\\n\\n[\"))\n",
    "        \n",
    "        for item in Hunit:\n",
    "            fiholdcost.write(\"%s,\" % item) \n",
    "        fiholdcost.write(\"]\")\n",
    "        fitranscost.write((\"\\n\\n[\"))\n",
    "        for item in X1:\n",
    "            fitranscost.write(\"%s,\" % item) \n",
    "        fitranscost.write(\"]\")\n",
    "        fiorder.write((\"\\n\\n[\"))\n",
    "        for item in Y:\n",
    "            fiorder.write(\"%s,\" % item) \n",
    "        fiorder.write(\"]\")\n",
    "        fiout.write((\"\\n\\n[\"))\n",
    "        for item in Ounit:\n",
    "            fiout.write(\"%s,\" % item)\n",
    "        fiout.write(\"]\")\n",
    "        fishortage.write((\"\\n\\n[\"))\n",
    "        for item in F:\n",
    "            fishortage.write(\"%s,\" % item)\n",
    "        fishortage.write(\"]\")\n",
    "        fitrans.write((\"\\n[\"))\n",
    "        for item in d:\n",
    "            fitrans.write(\"%s,\" % item)\n",
    "        fiissue.write((\"\\n\\n[\"))\n",
    "        for item in issue:\n",
    "            fiissue.write(\"%s,\" % item)\n",
    "        fiissue.write(\"]\")\t\n",
    "        \n",
    "        fiinventoryTS.write((\"\\n[\"))\n",
    "        for item in bx:                   # b: inventory after transshipment \n",
    "            fiinventoryTS.write(\"%s,\" % item) \n",
    "        fiinventoryTS.write(\"]\") \n",
    "        \n",
    "    fo = open('cost.txt', 'w')\n",
    "    fo.write(\"\\n\\n[\")\n",
    "    for item in CTS:\n",
    "        fo.write(\"%s,\" % item)\n",
    "    fo.write(\"]\")\n",
    "    fo.write(\"\\n\\nCTSTotal=\")\n",
    "    fo.write(\"%s\" %CTSTotal) \n",
    "    \n",
    "    fo.close() \n",
    "    fiorder.close()\n",
    "    fiout.close()\n",
    "    fitrans.close()\n",
    "    fishortage.close()   \n",
    "    fiissue.close()\t\n",
    "    fiinventory.close()\n",
    "    fiinventoryTS.close()\n",
    "    fiholdcost.close()\t\n",
    "    fitranscost.close()       \n",
    "\t\n",
    "\n",
    "#print (RD)\n",
    "#print (CTS)\n",
    "    #print ('Average Cost:',np.mean(CTS))\n",
    "    #print ('std of Cost:',np.std(CTS))\n",
    "    #print('NO. of days:',len(df))\n",
    "    \n",
    "    return( shortage,Orders,CTS,HoldCost,TransCost,CoutCost)"
   ]
  },
  {
   "cell_type": "code",
   "execution_count": 156,
   "metadata": {},
   "outputs": [],
   "source": [
    "##Cost calculation\n",
    "period=9250\n",
    "def costn(scaler,dmnd,ml,cost_shortage, cost_outdate):\n",
    "\n",
    "    \n",
    "    Demand=[dmnd['Demand1'].values.tolist(),dmnd['Demand2'].values.tolist(),dmnd['Demand3'].values.tolist(),\n",
    "        dmnd['Demand4'].values.tolist()]\n",
    "    #print(Demand[0][0:5])\n",
    "    period=9250\n",
    "    T=7  #period\n",
    "    D= 100  # number of  scenarios\n",
    "    #b=[[0, 3, 2, 3, 0, 0, 3, 4, 3, 3, 3],[0, 0, 2, 0, 3, 2, 3, 2, 1, 2, 1],[4, 5, 5, 9, 10, 8, 6, 9, 10, 7, 7],\n",
    "       #[6, 9, 3, 7, 2, 6, 5, 5, 4, 5, 4]] ##Initial inventory\n",
    "    b=[[1, 0, 2, 2, 1, 0, 2, 3, 4, 4, 4],[0, 0, 1, 1, 2, 3, 4, 1, 1, 0, 3],[3, 4, 6, 8, 9, 8, 6, 8, 9, 8, 6],\n",
    "       [5, 8, 4, 6, 2, 5, 5, 6, 3, 4, 5]]\n",
    "  \n",
    "  #  b=[[1, 0, 2, 2, 1, 0, 2, 3, 4, 4, 4,0],[0, 1, 1, 2, 3, 4, 1, 1, 0, 3,3,4],[ 6, 8, 9, 8, 6, 8, 9, 8, 6,\n",
    "   #    5,8, 4],[ 6, 2, 5, 5, 6, 3, 4, 5,2,0,0,0]]\n",
    "    \n",
    "    M = 11 ##len (b[0]) #life time period\n",
    "    N = 4 ##len (b) #number of hospital \n",
    "\n",
    "    #n=[4,3,15,15]\n",
    "    #p=[0.6,0.57,0.57,0.48]\n",
    "    RD=[[0 for k in range(period)] for j in range(N)] #relized demand\n",
    "    #RD = read_dat_file(\"ZINB.txt\")\n",
    "    RD=Demand\n",
    "    #print(RD[1][0:5])\n",
    "    G = [cost_shortage for j in range(N)]  #The emergency order cost at each hospital\n",
    "    H = [1 for j in range(N)]  #The holding cost at each hospital\n",
    "    H1=[[1 for j in range (M)]for i in range (N)]\n",
    "\n",
    "    E = [cost_outdate for j in range(N)]  #The expiry cost at each hospital\n",
    "    R = [1 for j in range(N)]  #The order cost at each hospital\n",
    "    C =[[1.5 for j in range(N)] for i in range(N)] # transshipment cost.the first dimention shows the origin hospital and \n",
    "    #the second one shows the destination hospital\n",
    "    CTS=[0 for i in range (period)]\n",
    "    shortage=[0 for i in range (period)]\n",
    "    Orders=[0 for i in range (period)]\n",
    "    ## consideing these two additional costs\n",
    "    HoldCost= [0 for i in range (period)]\n",
    "    CoutCost=[0 for i in range (period)]\n",
    "    TransCost=[0 for i in range (period)]\n",
    "    \n",
    "    CTSTotal=0\n",
    "    fiorder = open('nNewDemandorder.txt', 'w')\n",
    "    fitrans = open('nNewDemandtrans.txt', 'w')\n",
    "    fiout = open('nNewDemandoutdate.txt', 'w')\n",
    "    fishortage = open('nNewDemandshortage.txt', 'w')\n",
    "    fiissue = open('nNewDemandissue.txt', 'w')\n",
    "    fiinventory = open('ninventoryNewDemand.txt', 'w')\n",
    "    fitranscost = open('ntranscost.txt', 'w')\n",
    "    #fioutcost = open('currentoutdatecost.txt', 'w')\n",
    "    #fishortagecost = open('currentshortagecost.txt', 'w')\n",
    "    fiholdcost = open('nholdcost.txt', 'w')\n",
    "    fiinventoryTS = open('ninventoryTS.txt', 'w')\n",
    "\n",
    "    Corder=0\n",
    "    Ctrans=0\n",
    "    Cshort=0\n",
    "    Chold=0\n",
    "    Cout=0\n",
    "    \n",
    "    for t in range (period):\n",
    "        \n",
    "        fiinventory.write((\"\\n[\"))\n",
    "        for item in b:\n",
    "            fiinventory.write(\"%s,\" % item) \n",
    "        fiinventory.write(\"]\")                   \n",
    "        \n",
    "        Y = [0 for i in range(N)]   #orders\n",
    "        X= [[[0 for k in range(M)] for j in range(N)] for i in range(N)]  #X[hi][hf][age] : transshipment matrix\n",
    "        X1= [0 for j in range(N)] \n",
    "        \n",
    "\n",
    "        \n",
    "        #b_new=np.concatenate(np.array(b).reshape(1,44), np.array(HoldCost[0][t]),np.array(TransCost[0][t]))\n",
    "        #prediction = ml.predict(np.array(b_new).reshape(1,48).reshape(1,-1))\n",
    "        #prediction = [ml.predict(X_test_n)[t]]\n",
    "        #prediction = ml.predict(X_test_n[t,:].reshape(1, -1))\n",
    "        #prediction = ml.predict(X_all_n[t,:].reshape(1, -1))\n",
    "        \n",
    "        Corder=0\n",
    "        Ctrans=0\n",
    "        Cshort=0\n",
    "        Chold=0\n",
    "        Cout=0\n",
    " \n",
    "        \n",
    "        #b_new=np.concatenate(b,[Corder,Ctrans,Corder,Ctrans,Corder,Ctrans,Corder,Ctrans,Corder,Ctrans,Corder]).reshape(1,55)\n",
    "        #b_new=np.append(b,[[TransCost[t],TransCost[t],TransCost[t],TransCost[t],TransCost[t],HoldCost[t],HoldCost[t],HoldCost[t],HoldCost[t],HoldCost[t],HoldCost[t]]], axis=0)\n",
    "\n",
    "        b_new=np.append(b,[[TransCost[t],TransCost[t], Orders[t],Orders[t], CoutCost[t],CoutCost[t], shortage[t],shortage[t], HoldCost[t],HoldCost[t], CTS[t]]], axis=0)\n",
    "\n",
    "        prediction = ml.predict(np.array(b_new).reshape(1,55).reshape(1,-1))\n",
    " \n",
    "        #Use the one below only for MLP\n",
    "        #prediction = ml.predict(scaler.transform(np.array(b_new).reshape(1,55).reshape(1,-1)))\n",
    "        prediction=np.round(prediction,0)\n",
    "        prediction[prediction<0]=0\n",
    "        \n",
    "        d=prediction[0][0:176]       #Transshipments\n",
    "        X=d.reshape(4,4,11)\n",
    "\n",
    "        Y=prediction[0][176:180]     #'order1':'order4'\n",
    "        \n",
    "        #CTS=0\n",
    "        issue=[[0 for j in range (M)]for i in range (N)]\n",
    "        bD=[[0 for j in range (M)]for i in range (N)] #inventory after satisfying demand\n",
    "        by=[[0 for j in range (M)]for i in range (N)] #inventory after reciving order \n",
    "        F =[0 for i in range (N)]  # shortage at each hospital\n",
    "        Hunit =[0 for i in range (N)]  # total units which stay in system for one period at each hospital\n",
    "        Ounit=[0 for i in range (N)]  # outdate at each hospital\n",
    "        XIN= [[0 for j in range (M)]for i in range (N)]\n",
    "        XOUT= [[0 for j in range (M)]for i in range (N)] \n",
    "        bx= [[0 for j in range (M)]for i in range (N)] #inventory after transshipment\n",
    "        for i in range (N):\n",
    "            for j in range (M):\n",
    "                k=0\n",
    "                for l in range (N):\n",
    "                    k=k+X[i][l][j]\n",
    "                XOUT[i][j]=k\n",
    "        for i in range (N):\n",
    "            for j in range (M):\n",
    "                k=0\n",
    "                for l in range (N):\n",
    "                    k=k+X[l][i][j]\n",
    "                XIN[i][j]=k\n",
    "        for i in range (N):\n",
    "            q=0\n",
    "            for j in range (N):\n",
    "                for k in range (M):\n",
    "                    q= q+X[i][j][k]\n",
    "            X1[i]=q\t\t\n",
    "        for i in range (N):\n",
    "            for j in range (M):\n",
    "                bx[i][j]= b[i][j]+XIN[i][j]-XOUT[i][j]\n",
    "        for i in range (N):\n",
    "            for j in range (M):\n",
    "                if bx[i][j]>RD[i][t]:\n",
    "                    bD[i][j]= bx[i][j]-RD[i][t]\n",
    "                    issue[i][j]=RD[i][t]\n",
    "                    RD[i][t]=0\n",
    "                else:\n",
    "                    issue[i][j]=bx[i][j]\n",
    "                    bD[i][j]=0\n",
    "                    RD[i][t]=RD[i][t]-bx[i][j]\n",
    "            if RD[i][t]>0:\n",
    "                F[i]=RD[i][t]\t\n",
    "        for i in range (N):\n",
    "            Ounit[i]= bD[i][0] \n",
    "        for i in range (N):\n",
    "            j=1\n",
    "            k=0\n",
    "            while j<M:\n",
    "                k= k+bD[i][j]\n",
    "                j=j+1\n",
    "            Hunit[i]=k\n",
    "        for i in range (N):\n",
    "            for j in range (M):\n",
    "                if j==(M-1):\n",
    "                    by[i][j]=Y[i] \n",
    "                else:\n",
    "                    by[i][j]= bD[i][j+1]\n",
    "        for i in range (N):\n",
    "            for j in range (M):\t\n",
    "                b[i][j]=by[i][j]\t\t\t\t\n",
    "        for i in range (N):\n",
    "            Corder= Corder +R[i]*Y[i]\n",
    "        for i in range (N):\n",
    "                for j in range (N):\n",
    "                    for l in range (M):\n",
    "                        Ctrans = Ctrans+C[i][j]*X[i][j][l]\n",
    "        for i in range (N):\n",
    "            Cshort=Cshort+F[i]*G[i]\n",
    "            Chold=Chold+Hunit[i]*H[i]\n",
    "            Cout=Cout+Ounit[i]*E[i]\n",
    "        CTS[t]=Corder+Ctrans+Cshort+Chold+Cout\n",
    "        shortage[t]=Cshort\n",
    "        Orders[t]=Corder\n",
    "        # adding the trans and hoding cost and count\n",
    "        TransCost[t]=Ctrans\n",
    "        HoldCost[t]=Chold\n",
    "        CoutCost[t]=Cout\n",
    "        ## continue with others\n",
    "        CTSTotal = CTSTotal+CTS[t]\n",
    "        fiholdcost.write((\"\\n\\n[\"))\n",
    "\n",
    "        for item in Hunit:\n",
    "            fiholdcost.write(\"%s,\" % item) \n",
    "        fiholdcost.write(\"]\")\n",
    "        fitranscost.write((\"\\n\\n[\"))\n",
    "        for item in X1:\n",
    "            fitranscost.write(\"%s,\" % item) \n",
    "        fitranscost.write(\"]\")\n",
    "        fiorder.write((\"\\n\\n[\"))\n",
    "        for item in Y:\n",
    "            fiorder.write(\"%s,\" % item) \n",
    "        fiorder.write(\"]\")\n",
    "        fiout.write((\"\\n\\n[\"))\n",
    "        for item in Ounit:\n",
    "            fiout.write(\"%s,\" % item)\n",
    "        fiout.write(\"]\")\n",
    "        fishortage.write((\"\\n\\n[\"))\n",
    "        for item in F:\n",
    "            fishortage.write(\"%s,\" % item)\n",
    "        fishortage.write(\"]\")\n",
    "        fitrans.write((\"\\n[\"))\n",
    "        for item in d:\n",
    "            fitrans.write(\"%s,\" % item)\n",
    "        fiissue.write((\"\\n\\n[\"))\n",
    "        for item in issue:\n",
    "            fiissue.write(\"%s,\" % item)\n",
    "        fiissue.write(\"]\")\t\n",
    "        \n",
    "        fiinventoryTS.write((\"\\n[\"))\n",
    "        for item in bx:                   # b: inventory after transshipment \n",
    "            fiinventoryTS.write(\"%s,\" % item) \n",
    "        fiinventoryTS.write(\"]\") \n",
    "        \n",
    "    fo = open('ncost.txt', 'w')\n",
    "    fo.write(\"\\n\\n[\")\n",
    "    for item in CTS:\n",
    "        fo.write(\"%s,\" % item)\n",
    "    fo.write(\"]\")\n",
    "    fo.write(\"\\n\\nCTSTotal=\")\n",
    "    fo.write(\"%s\" %CTSTotal) \n",
    "    \n",
    "    fo.close() \n",
    "    fiorder.close()\n",
    "    fiout.close()\n",
    "    fitrans.close()\n",
    "    fishortage.close()   \n",
    "    fiissue.close()\t\n",
    "    fiinventory.close()\n",
    "    fiinventoryTS.close()\n",
    "    fiholdcost.close()\t\n",
    "    fitranscost.close()       \n",
    "\t\n",
    "\n",
    "#print (RD)\n",
    "#print (CTS)\n",
    "    #print ('Average Cost:',np.mean(CTS))\n",
    "    #print ('std of Cost:',np.std(CTS))\n",
    "    #print('NO. of days:',len(df))\n",
    "    \n",
    "    return( shortage,Orders,CTS,HoldCost,TransCost,CoutCost)"
   ]
  },
  {
   "cell_type": "code",
   "execution_count": 138,
   "metadata": {},
   "outputs": [
    {
     "name": "stdout",
     "output_type": "stream",
     "text": [
      "/Users/mahdi/Documents/Postdoc/RMIT /Code/new/fwdcodesLGB\n"
     ]
    }
   ],
   "source": [
    "%cd '/Users/mahdi/Documents/Postdoc/RMIT /Code/new/fwdcodesLGB'\n",
    "    \n",
    "df = pd.read_csv('/Users/mahdi/Documents/Postdoc/RMIT /Code/new/fwdcodesLGB/Final14.csv')\n",
    "# Getting dataframe columns names\n",
    "df_name=df.columns\n",
    "\n",
    "days=np.arange(len(df))+1\n",
    "\n",
    "data = np.load('final14.npy')\n",
    "Xin=data[:,0:44]\n",
    "yin=data[:,44:224] #only outputs\n"
   ]
  },
  {
   "cell_type": "code",
   "execution_count": 11,
   "metadata": {},
   "outputs": [],
   "source": [
    "dfDemand = pd.read_excel('/Users/mahdi/Documents/Postdoc/RMIT /Code/new/fwdcodesLGB/demand2.xlsx')\n",
    "\n",
    "dmnd=dfDemand\n",
    "Demand=[dmnd['Demand1'].values.tolist(),dmnd['Demand2'].values.tolist(),dmnd['Demand3'].values.tolist(),\n",
    "    dmnd['Demand4'].values.tolist()]"
   ]
  },
  {
   "cell_type": "code",
   "execution_count": 139,
   "metadata": {},
   "outputs": [],
   "source": [
    "from sklearn.model_selection import train_test_split\n",
    "X_train, X_test, y_train, y_test = train_test_split(Xin, yin, test_size=0.10, random_state=45)"
   ]
  },
  {
   "cell_type": "code",
   "execution_count": 140,
   "metadata": {
    "scrolled": true
   },
   "outputs": [
    {
     "name": "stdout",
     "output_type": "stream",
     "text": [
      "/Users/mahdi/Documents/Postdoc/RMIT /Code/new/50/fwdcodesLGB\n"
     ]
    }
   ],
   "source": [
    "%cd '/Users/mahdi/Documents/Postdoc/RMIT /Code/new/50/fwdcodesLGB'\n",
    "\n",
    "X_train_n = np.load('X_train_n.npy', allow_pickle=True)"
   ]
  },
  {
   "cell_type": "code",
   "execution_count": 141,
   "metadata": {},
   "outputs": [
    {
     "data": {
      "text/plain": [
       "(16650, 55)"
      ]
     },
     "execution_count": 141,
     "metadata": {},
     "output_type": "execute_result"
    }
   ],
   "source": [
    "X_train_n.shape"
   ]
  },
  {
   "cell_type": "code",
   "execution_count": 19,
   "metadata": {
    "scrolled": true
   },
   "outputs": [],
   "source": [
    "import lightgbm as lgb\n",
    "from lightgbm import LGBMRegressor\n",
    "from sklearn.datasets import make_regression"
   ]
  },
  {
   "cell_type": "code",
   "execution_count": 20,
   "metadata": {},
   "outputs": [],
   "source": [
    "from sklearn.multioutput import MultiOutputRegressor"
   ]
  },
  {
   "cell_type": "code",
   "execution_count": 21,
   "metadata": {},
   "outputs": [],
   "source": [
    "lgbMulti = MultiOutputRegressor(lgb.LGBMRegressor(boosting_type='gbdt', class_weight=None, colsample_bytree=1,\n",
    "               importance_type='split', learning_rate=0.3, max_depth=2**10-1,\n",
    "               min_child_samples=90, min_child_weight=0.001, min_split_gain=0.0,\n",
    "               n_estimators=100, n_jobs=-1, num_leaves=100, objective = 'mse',\n",
    "               random_state=123, reg_alpha=0.0, reg_lambda=0.0, silent=True,\n",
    "               subsample=1, subsample_for_bin=200000, subsample_freq=0)).fit(X_train[0:period,], y_train[0:period,])"
   ]
  },
  {
   "cell_type": "code",
   "execution_count": 22,
   "metadata": {},
   "outputs": [],
   "source": [
    "shortage_lgb,Orders_lgb,CTS_lgb, Inventory_lgb, Trans_lgb, Out_lgb =cost(scaler,dmnd,lgbMulti,cost_shortage=14, cost_outdate=11)"
   ]
  },
  {
   "cell_type": "code",
   "execution_count": 256,
   "metadata": {
    "scrolled": true
   },
   "outputs": [],
   "source": [
    "np.mean(CTS_lgb) ,np.mean(shortage_lgb),np.mean(Orders_lgb),np.mean(Inventory_lgb), np.mean(Trans_lgb), np.mean(Out_lgb)"
   ]
  },
  {
   "cell_type": "code",
   "execution_count": 25,
   "metadata": {},
   "outputs": [],
   "source": [
    "np.save('lgbMulti1.npy')"
   ]
  },
  {
   "cell_type": "code",
   "execution_count": 64,
   "metadata": {},
   "outputs": [
    {
     "name": "stdout",
     "output_type": "stream",
     "text": [
      "/Users/mahdi/Documents/Postdoc/RMIT /Code/new/50/fwdcodesLGB\n"
     ]
    }
   ],
   "source": [
    "%cd '/Users/mahdi/Documents/Postdoc/RMIT /Code/new/50/fwdcodesLGB'\n",
    "\n",
    "lgbMulti1=np.load('lgbMulti1.npy')"
   ]
  },
  {
   "cell_type": "code",
   "execution_count": 134,
   "metadata": {},
   "outputs": [],
   "source": [
    "#periodn=period*0.9=8325"
   ]
  },
  {
   "cell_type": "code",
   "execution_count": 143,
   "metadata": {},
   "outputs": [],
   "source": [
    "lgbMulti_n = MultiOutputRegressor(lgb.LGBMRegressor(boosting_type='gbdt', class_weight=None, colsample_bytree=1,\n",
    "               importance_type='split', learning_rate=0.3, max_depth=2**10-1,\n",
    "               min_child_samples=90, min_child_weight=0.001, min_split_gain=0.0,\n",
    "               n_estimators=100, n_jobs=-1, num_leaves=100, objective = 'mse',\n",
    "               random_state=123, reg_alpha=0.0, reg_lambda=0.0, silent=True,\n",
    "               subsample=1, subsample_for_bin=200000, subsample_freq=0)).fit(X_train_n[0:8325,], y_train[0:8325,])"
   ]
  },
  {
   "cell_type": "code",
   "execution_count": 157,
   "metadata": {},
   "outputs": [],
   "source": [
    "shortage_lgb_n,Orders_lgb_n,CTS_lgb_n, Inventory_lgb_n, Trans_lgb_n, Out_lgb_n =costn(scaler,dmnd,lgbMulti_n,cost_shortage=14, cost_outdate=11)"
   ]
  },
  {
   "cell_type": "code",
   "execution_count": 255,
   "metadata": {
    "scrolled": true
   },
   "outputs": [],
   "source": [
    "np.mean(CTS_lgb_n) ,np.mean(shortage_lgb_n),np.mean(Orders_lgb_n),np.mean(Inventory_lgb_n), np.mean(Trans_lgb_n), np.mean(Out_lgb_n)"
   ]
  },
  {
   "cell_type": "code",
   "execution_count": 159,
   "metadata": {},
   "outputs": [],
   "source": [
    "np.save('lgbMulti_n.npy',[Orders_lgb_n,shortage_lgb_n, CTS_lgb_n, Out_lgb_n, Trans_lgb_n, Inventory_lgb_n])"
   ]
  },
  {
   "cell_type": "code",
   "execution_count": 26,
   "metadata": {},
   "outputs": [],
   "source": [
    "#lgbMulti2 = MultiOutputRegressor(lgb.LGBMRegressor(boosting_type='gbdt', class_weight=None, colsample_bytree=1,\n",
    " #              importance_type='split', learning_rate=0.1, max_depth=2**10-1,\n",
    "  #             min_child_samples=90, min_child_weight=0.001, min_split_gain=0.0,\n",
    "   #            n_estimators=100, n_jobs=-1, num_leaves=70, objective = 'regression',\n",
    "    #            random_state=123, reg_alpha=0.0, reg_lambda=0.0, silent=True,\n",
    "     #          subsample=1, subsample_for_bin=200000, subsample_freq=0)).fit(X_train[0:period,], y_train[0:period,])\n",
    "lgbMulti2 = MultiOutputRegressor(lgb.LGBMRegressor(boosting_type='gbdt', class_weight=None, colsample_bytree=1,\n",
    "               importance_type='split', learning_rate=0.3, max_depth=2**10-1,\n",
    "               min_child_samples=90, min_child_weight=0.001, min_split_gain=0.0,\n",
    "               n_estimators=100, n_jobs=-1, num_leaves=100, objective = 'mae',\n",
    "               random_state=123, reg_alpha=0.0, reg_lambda=0.0, silent=True,\n",
    "               subsample=1, subsample_for_bin=200000, subsample_freq=0 )).fit(X_train[0:period,], y_train[0:period,])\n",
    "#lgbMulti1.set_params(**{'objective': custom_asymmetric_objective})"
   ]
  },
  {
   "cell_type": "code",
   "execution_count": 69,
   "metadata": {},
   "outputs": [],
   "source": [
    "shortage_lgb,Orders_lgb,CTS_lgb, Inventory_lgb, Trans_lgb, Out_lgb =cost(scaler,dmnd,lgbMulti2,cost_shortage=14, cost_outdate=11)"
   ]
  },
  {
   "cell_type": "code",
   "execution_count": 254,
   "metadata": {
    "scrolled": true
   },
   "outputs": [],
   "source": [
    "np.mean(CTS_lgb) ,np.mean(shortage_lgb),np.mean(Orders_lgb),np.mean(Inventory_lgb), np.mean(Trans_lgb), np.mean(Out_lgb)"
   ]
  },
  {
   "cell_type": "code",
   "execution_count": 72,
   "metadata": {},
   "outputs": [],
   "source": [
    "np.save('lgbMulti2.npy',[Orders_lgb,shortage_lgb, CTS_lgb, Out_lgb, Trans_lgb, Inventory_lgb])"
   ]
  },
  {
   "cell_type": "code",
   "execution_count": 160,
   "metadata": {},
   "outputs": [],
   "source": [
    "#lgbMulti2n = MultiOutputRegressor(lgb.LGBMRegressor(boosting_type='dart', class_weight=None, colsample_bytree=1,\n",
    " #              importance_type='split', learning_rate=0.1, max_depth=2**10-1,\n",
    "  #             min_child_samples=90, min_child_weight=0.001, min_split_gain=0.0,\n",
    "   #            n_estimators=100, n_jobs=-1, num_leaves=200, #objective = 'huber',\n",
    "    #            objective = 'regression', random_state=123, reg_alpha=0.5, reg_lambda=0.5, silent=True,\n",
    "     #          subsample=1, subsample_for_bin=200000, subsample_freq=0)).fit(X_train_n[0:1665,], y_train[0:1665,])\n",
    "#lgbMulti1.set_params(**{'objective': custom_asymmetric_objective})\n",
    "lgbMulti2n = MultiOutputRegressor(lgb.LGBMRegressor(boosting_type='gbdt',  \n",
    "                objective = 'mae', random_state=123 )).fit(X_train_n[0:8325,], y_train[0:8325,])\n"
   ]
  },
  {
   "cell_type": "code",
   "execution_count": 186,
   "metadata": {},
   "outputs": [],
   "source": [
    "shortage_lgb2_n,Orders_lgb2_n,CTS_lgb2_n, Inventory_lgb2_n, Trans_lgb2_n, Out_lgb2_n =costn(scaler,dmnd,lgbMulti2n,cost_shortage=14, cost_outdate=11)"
   ]
  },
  {
   "cell_type": "code",
   "execution_count": 187,
   "metadata": {
    "scrolled": false
   },
   "outputs": [
    {
     "data": {
      "text/plain": [
       "(78.44972972972973,\n",
       " 7.464648648648649,\n",
       " 22.310594594594594,\n",
       " 45.44475675675676,\n",
       " 0.9512432432432433,\n",
       " 2.2784864864864867)"
      ]
     },
     "execution_count": 187,
     "metadata": {},
     "output_type": "execute_result"
    }
   ],
   "source": [
    "np.mean(CTS_lgb2_n) ,np.mean(shortage_lgb2_n),np.mean(Orders_lgb2_n),np.mean(Inventory_lgb2_n), np.mean(Trans_lgb2_n), np.mean(Out_lgb2_n)"
   ]
  },
  {
   "cell_type": "code",
   "execution_count": 216,
   "metadata": {},
   "outputs": [],
   "source": [
    "np.save('lgbMulti2_n.npy',[Orders_lgb2_n,shortage_lgb2_n, CTS_lgb2_n, Out_lgb2_n, Trans_lgb2_n, Inventory_lgb2_n])"
   ]
  },
  {
   "cell_type": "code",
   "execution_count": 221,
   "metadata": {},
   "outputs": [],
   "source": [
    "#lgbMulti3 = MultiOutputRegressor(lgb.LGBMRegressor(boosting_type='gbdt', class_weight=None, colsample_bytree=1,\n",
    " #              importance_type='split', learning_rate=0.3, max_depth=2**10-1,\n",
    "  #             min_child_samples=90, min_child_weight=0.1, min_split_gain=0.0,\n",
    "   #            n_estimators=100, n_jobs=-1, num_leaves=300, objective = 'mae',\n",
    "    #           random_state=123, reg_alpha=1, reg_lambda=1, silent=True,\n",
    "     #          subsample=.9, subsample_for_bin=2000, subsample_freq=0)).fit(X_train[0:1665,], y_train[0:1665,])\n",
    "lgbMulti3 = MultiOutputRegressor(lgb.LGBMRegressor(boosting_type='gbdt',objective = 'huber',\n",
    "               random_state=123)).fit(X_train[0:period,], y_train[0:period,])"
   ]
  },
  {
   "cell_type": "code",
   "execution_count": 100,
   "metadata": {},
   "outputs": [],
   "source": [
    "shortage_lgb3,Orders_lgb,CTS_lgb, Inventory_lgb, Trans_lgb, Out_lgb =cost(scaler,dmnd,lgbMulti3,cost_shortage=14, cost_outdate=11)"
   ]
  },
  {
   "cell_type": "code",
   "execution_count": 257,
   "metadata": {
    "scrolled": false
   },
   "outputs": [],
   "source": [
    "np.mean(CTS_lgb) ,np.mean(shortage_lgb),np.mean(Orders_lgb),np.mean(Inventory_lgb), np.mean(Trans_lgb), np.mean(Out_lgb)"
   ]
  },
  {
   "cell_type": "code",
   "execution_count": 103,
   "metadata": {},
   "outputs": [],
   "source": [
    "np.save('lgbMulti3.npy',[[Orders_lgb,shortage_lgb, CTS_lgb, Out_lgb, Trans_lgb, Inventory_lgb]])"
   ]
  },
  {
   "cell_type": "code",
   "execution_count": 353,
   "metadata": {},
   "outputs": [],
   "source": [
    "#lightgbm.plot_importance(lgbMulti3, height=0.2, xlim=None, ylim=None, title='LightGBM Model Feature importance', xlabel='Feature importance', ylabel='Features', importance_type='auto', max_num_features=None, ignore_zero=True, figsize=None, dpi=)"
   ]
  },
  {
   "cell_type": "code",
   "execution_count": 222,
   "metadata": {},
   "outputs": [],
   "source": [
    "#lgbMulti3_n = MultiOutputRegressor(lgb.LGBMRegressor(boosting_type='dart', class_weight=None, colsample_bytree=1,\n",
    " #              importance_type='split', learning_rate=0.1, max_depth=2**10-1,\n",
    "  #             min_child_samples=90, min_child_weight=0.1, min_split_gain=0.3,\n",
    "   #            n_estimators=200, n_jobs=-1, num_leaves=300, objective = 'mae',\n",
    "    #           random_state=123, reg_alpha=0.1, reg_lambda=0.1, silent=True,\n",
    "     #          subsample=.9, subsample_for_bin=20000, subsample_freq=0)).fit(X_train_n[0:1665,], y_train[0:1665,])\n",
    "#lgbMulti1.set_params(**{'objective': custom_asymmetric_objective})\n",
    "lgbMulti3_n = MultiOutputRegressor(lgb.LGBMRegressor(random_state=123, boosting_type='gbdt', objective = 'huber')).fit(X_train_n[0:8325,], y_train[0:8325,])"
   ]
  },
  {
   "cell_type": "code",
   "execution_count": 224,
   "metadata": {},
   "outputs": [],
   "source": [
    "shortage_lgb3_n,Orders_lgb3_n,CTS_lgb3_n, Inventory_lgb3_n, Trans_lgb3_n, Out_lgb3_n =costn(scaler,dmnd,lgbMulti3_n,cost_shortage=14, cost_outdate=11)"
   ]
  },
  {
   "cell_type": "code",
   "execution_count": 258,
   "metadata": {
    "scrolled": true
   },
   "outputs": [],
   "source": [
    "np.mean(CTS_lgb3_n) ,np.mean(shortage_lgb3_n),np.mean(Orders_lgb3_n),np.mean(Inventory_lgb3_n), np.mean(Trans_lgb3_n), np.mean(Out_lgb3_n)"
   ]
  },
  {
   "cell_type": "code",
   "execution_count": 226,
   "metadata": {},
   "outputs": [],
   "source": [
    "np.save('lgbMulti3_n.npy',[Orders_lgb3_n,shortage_lgb3_n, CTS_lgb3_n, Out_lgb3_n, Trans_lgb3_n, Inventory_lgb3_n])"
   ]
  },
  {
   "cell_type": "code",
   "execution_count": 213,
   "metadata": {},
   "outputs": [],
   "source": [
    "#lgbMulti2 = MultiOutputRegressor(lgb.LGBMRegressor(boosting_type='gbdt', class_weight=None, colsample_bytree=1,\n",
    " #              importance_type='split', learning_rate=0.1, max_depth=45,\n",
    "  #             min_child_samples=90, min_child_weight=0.001, min_split_gain=0.0,\n",
    "   #            n_estimators=100, n_jobs=-1, num_leaves=100, objective = customgrad,\n",
    "    #           random_state=123, reg_alpha=0.0, reg_lambda=0.0, silent=True,\n",
    "      #         subsample=1, subsample_for_bin=200000, subsample_freq=0)).fit(X_train, y_train)\n",
    "#lgbMulti1.set_params(**{'objective': custom_asymmetric_objective})"
   ]
  },
  {
   "cell_type": "code",
   "execution_count": 227,
   "metadata": {},
   "outputs": [],
   "source": [
    "#f = open('DTNewDemandtrans.txt', 'r')\n",
    "#for new cost cost_nn use the one below\n",
    "f = open('nNewDemandtrans.txt', 'r')\n",
    "\n",
    "splitTS=[line.strip('[[') for line in f]\n",
    "#[print(line[0:2]) for line in f]\n",
    "\n",
    "f.close()"
   ]
  },
  {
   "cell_type": "code",
   "execution_count": 228,
   "metadata": {},
   "outputs": [],
   "source": [
    "## Read Transshipments to ndarray\n",
    "def TSread(split,i):\n",
    "    ts1=split[i]\n",
    "    ts2=ts1.strip('\\n')\n",
    "\n",
    "    ts3=ts2.strip(', ')\n",
    "\n",
    "    ts4=ts3.split(',')\n",
    "\n",
    "    ts5=np.array(ts4, dtype=float)\n",
    "    ts6=ts5.reshape(1,176)\n",
    "    \n",
    "    \n",
    "    return ts6"
   ]
  },
  {
   "cell_type": "code",
   "execution_count": 229,
   "metadata": {},
   "outputs": [],
   "source": [
    "## Transshipment matrix\n",
    "yts=np.empty((0,176))\n",
    "for i in np.arange(len(splitTS)):\n",
    "    \n",
    "    if len(splitTS[i])==1:\n",
    "        continue\n",
    "        \n",
    "        \n",
    "    yi=TSread(splitTS,i)\n",
    "    yts=np.append(yts,yi,axis=0)\n",
    "         "
   ]
  },
  {
   "cell_type": "code",
   "execution_count": 230,
   "metadata": {},
   "outputs": [
    {
     "data": {
      "text/plain": [
       "(9250, 176)"
      ]
     },
     "execution_count": 230,
     "metadata": {},
     "output_type": "execute_result"
    }
   ],
   "source": [
    "yts.shape"
   ]
  },
  {
   "cell_type": "code",
   "execution_count": 231,
   "metadata": {},
   "outputs": [
    {
     "data": {
      "text/html": [
       "<div>\n",
       "<style scoped>\n",
       "    .dataframe tbody tr th:only-of-type {\n",
       "        vertical-align: middle;\n",
       "    }\n",
       "\n",
       "    .dataframe tbody tr th {\n",
       "        vertical-align: top;\n",
       "    }\n",
       "\n",
       "    .dataframe thead th {\n",
       "        text-align: right;\n",
       "    }\n",
       "</style>\n",
       "<table border=\"1\" class=\"dataframe\">\n",
       "  <thead>\n",
       "    <tr style=\"text-align: right;\">\n",
       "      <th></th>\n",
       "      <th>h1a1h1</th>\n",
       "      <th>h1a2h1</th>\n",
       "      <th>h1a3h1</th>\n",
       "      <th>h1a4h1</th>\n",
       "      <th>h1a5h1</th>\n",
       "      <th>h1a6h1</th>\n",
       "      <th>h1a7h1</th>\n",
       "      <th>h1a8h1</th>\n",
       "      <th>h1a9h1</th>\n",
       "      <th>h1a10h1</th>\n",
       "      <th>...</th>\n",
       "      <th>h4a2h4</th>\n",
       "      <th>h4a3h4</th>\n",
       "      <th>h4a4h4</th>\n",
       "      <th>h4a5h4</th>\n",
       "      <th>h4a6h4</th>\n",
       "      <th>h4a7h4</th>\n",
       "      <th>h4a8h4</th>\n",
       "      <th>h4a9h4</th>\n",
       "      <th>h4a10h4</th>\n",
       "      <th>h4a11h4</th>\n",
       "    </tr>\n",
       "  </thead>\n",
       "  <tbody>\n",
       "    <tr>\n",
       "      <th>0</th>\n",
       "      <td>0.0</td>\n",
       "      <td>0.0</td>\n",
       "      <td>0.0</td>\n",
       "      <td>0.0</td>\n",
       "      <td>0.0</td>\n",
       "      <td>0.0</td>\n",
       "      <td>0.0</td>\n",
       "      <td>0.0</td>\n",
       "      <td>0.0</td>\n",
       "      <td>0.0</td>\n",
       "      <td>...</td>\n",
       "      <td>0.0</td>\n",
       "      <td>0.0</td>\n",
       "      <td>0.0</td>\n",
       "      <td>0.0</td>\n",
       "      <td>0.0</td>\n",
       "      <td>0.0</td>\n",
       "      <td>0.0</td>\n",
       "      <td>0.0</td>\n",
       "      <td>0.0</td>\n",
       "      <td>0.0</td>\n",
       "    </tr>\n",
       "    <tr>\n",
       "      <th>1</th>\n",
       "      <td>0.0</td>\n",
       "      <td>0.0</td>\n",
       "      <td>0.0</td>\n",
       "      <td>0.0</td>\n",
       "      <td>0.0</td>\n",
       "      <td>0.0</td>\n",
       "      <td>0.0</td>\n",
       "      <td>0.0</td>\n",
       "      <td>0.0</td>\n",
       "      <td>0.0</td>\n",
       "      <td>...</td>\n",
       "      <td>0.0</td>\n",
       "      <td>0.0</td>\n",
       "      <td>0.0</td>\n",
       "      <td>0.0</td>\n",
       "      <td>0.0</td>\n",
       "      <td>0.0</td>\n",
       "      <td>0.0</td>\n",
       "      <td>0.0</td>\n",
       "      <td>0.0</td>\n",
       "      <td>0.0</td>\n",
       "    </tr>\n",
       "    <tr>\n",
       "      <th>2</th>\n",
       "      <td>0.0</td>\n",
       "      <td>0.0</td>\n",
       "      <td>0.0</td>\n",
       "      <td>0.0</td>\n",
       "      <td>0.0</td>\n",
       "      <td>0.0</td>\n",
       "      <td>0.0</td>\n",
       "      <td>0.0</td>\n",
       "      <td>0.0</td>\n",
       "      <td>0.0</td>\n",
       "      <td>...</td>\n",
       "      <td>0.0</td>\n",
       "      <td>0.0</td>\n",
       "      <td>0.0</td>\n",
       "      <td>0.0</td>\n",
       "      <td>0.0</td>\n",
       "      <td>0.0</td>\n",
       "      <td>0.0</td>\n",
       "      <td>0.0</td>\n",
       "      <td>0.0</td>\n",
       "      <td>0.0</td>\n",
       "    </tr>\n",
       "    <tr>\n",
       "      <th>3</th>\n",
       "      <td>0.0</td>\n",
       "      <td>0.0</td>\n",
       "      <td>0.0</td>\n",
       "      <td>0.0</td>\n",
       "      <td>0.0</td>\n",
       "      <td>0.0</td>\n",
       "      <td>0.0</td>\n",
       "      <td>0.0</td>\n",
       "      <td>0.0</td>\n",
       "      <td>0.0</td>\n",
       "      <td>...</td>\n",
       "      <td>0.0</td>\n",
       "      <td>0.0</td>\n",
       "      <td>0.0</td>\n",
       "      <td>0.0</td>\n",
       "      <td>0.0</td>\n",
       "      <td>0.0</td>\n",
       "      <td>0.0</td>\n",
       "      <td>0.0</td>\n",
       "      <td>0.0</td>\n",
       "      <td>0.0</td>\n",
       "    </tr>\n",
       "    <tr>\n",
       "      <th>4</th>\n",
       "      <td>0.0</td>\n",
       "      <td>0.0</td>\n",
       "      <td>0.0</td>\n",
       "      <td>0.0</td>\n",
       "      <td>0.0</td>\n",
       "      <td>0.0</td>\n",
       "      <td>0.0</td>\n",
       "      <td>0.0</td>\n",
       "      <td>0.0</td>\n",
       "      <td>0.0</td>\n",
       "      <td>...</td>\n",
       "      <td>0.0</td>\n",
       "      <td>0.0</td>\n",
       "      <td>0.0</td>\n",
       "      <td>0.0</td>\n",
       "      <td>0.0</td>\n",
       "      <td>0.0</td>\n",
       "      <td>0.0</td>\n",
       "      <td>0.0</td>\n",
       "      <td>0.0</td>\n",
       "      <td>0.0</td>\n",
       "    </tr>\n",
       "  </tbody>\n",
       "</table>\n",
       "<p>5 rows × 176 columns</p>\n",
       "</div>"
      ],
      "text/plain": [
       "   h1a1h1  h1a2h1  h1a3h1  h1a4h1  h1a5h1  h1a6h1  h1a7h1  h1a8h1  h1a9h1  \\\n",
       "0     0.0     0.0     0.0     0.0     0.0     0.0     0.0     0.0     0.0   \n",
       "1     0.0     0.0     0.0     0.0     0.0     0.0     0.0     0.0     0.0   \n",
       "2     0.0     0.0     0.0     0.0     0.0     0.0     0.0     0.0     0.0   \n",
       "3     0.0     0.0     0.0     0.0     0.0     0.0     0.0     0.0     0.0   \n",
       "4     0.0     0.0     0.0     0.0     0.0     0.0     0.0     0.0     0.0   \n",
       "\n",
       "   h1a10h1  ...  h4a2h4  h4a3h4  h4a4h4  h4a5h4  h4a6h4  h4a7h4  h4a8h4  \\\n",
       "0      0.0  ...     0.0     0.0     0.0     0.0     0.0     0.0     0.0   \n",
       "1      0.0  ...     0.0     0.0     0.0     0.0     0.0     0.0     0.0   \n",
       "2      0.0  ...     0.0     0.0     0.0     0.0     0.0     0.0     0.0   \n",
       "3      0.0  ...     0.0     0.0     0.0     0.0     0.0     0.0     0.0   \n",
       "4      0.0  ...     0.0     0.0     0.0     0.0     0.0     0.0     0.0   \n",
       "\n",
       "   h4a9h4  h4a10h4  h4a11h4  \n",
       "0     0.0      0.0      0.0  \n",
       "1     0.0      0.0      0.0  \n",
       "2     0.0      0.0      0.0  \n",
       "3     0.0      0.0      0.0  \n",
       "4     0.0      0.0      0.0  \n",
       "\n",
       "[5 rows x 176 columns]"
      ]
     },
     "execution_count": 231,
     "metadata": {},
     "output_type": "execute_result"
    }
   ],
   "source": [
    "dfTS_name=df_name[44:220]\n",
    "dfTS=pd.DataFrame(yts, columns=dfTS_name)\n",
    "dfTS.head()"
   ]
  },
  {
   "cell_type": "code",
   "execution_count": 232,
   "metadata": {},
   "outputs": [],
   "source": [
    "## Sum of ages transshipped from each hospital\n",
    "TSh1a1=np.sum(dfTS.loc[:,('h1a1h1','h1a1h2','h1a1h3','h1a1h4')],axis=1)\n",
    "TSh1a1.name='TSh1a1'\n",
    "\n",
    "TSh1a2=np.sum(dfTS.loc[:,('h1a2h1','h1a2h2','h1a2h3','h1a2h4')],axis=1)\n",
    "TSh1a2.name='TSh1a2'\n",
    "\n",
    "TSh1a3=np.sum(dfTS.loc[:,('h1a3h1','h1a3h2','h1a3h3','h1a3h4')],axis=1)\n",
    "TSh1a3.name='TSh1a3'\n",
    "\n",
    "TSh1a4=np.sum(dfTS.loc[:,('h1a4h1','h1a4h2','h1a4h3','h1a4h4')],axis=1)\n",
    "TSh1a4.name='TSh1a4'\n",
    "\n",
    "TSh1a5=np.sum(dfTS.loc[:,('h1a5h1','h1a5h2','h1a5h3','h1a5h4')],axis=1)\n",
    "TSh1a5.name='TSh1a5'\n",
    "\n",
    "TSh1a6=np.sum(dfTS.loc[:,('h1a6h1','h1a6h2','h1a6h3','h1a6h4')],axis=1)\n",
    "TSh1a6.name='TSh1a6'\n",
    "\n",
    "TSh1a7=np.sum(dfTS.loc[:,('h1a7h1','h1a7h2','h1a7h3','h1a7h4')],axis=1)\n",
    "TSh1a7.name='TSh1a7'\n",
    "\n",
    "TSh1a8=np.sum(dfTS.loc[:,('h1a8h1','h1a8h2','h1a8h3','h1a8h4')],axis=1)\n",
    "TSh1a8.name='TSh1a8'\n",
    "\n",
    "TSh1a9=np.sum(dfTS.loc[:,('h1a9h1','h1a9h2','h1a9h3','h1a9h4')],axis=1)\n",
    "TSh1a9.name='TSh1a9'\n",
    "\n",
    "TSh1a10=np.sum(dfTS.loc[:,('h1a10h1','h1a10h2','h1a10h3','h1a10h4')],axis=1)\n",
    "TSh1a10.name='TSh1a10'\n",
    "\n",
    "TSh1a11=np.sum(dfTS.loc[:,('h1a11h1','h1a11h2','h1a11h3','h1a11h4')],axis=1)\n",
    "TSh1a11.name='TSh1a11'\n",
    "\n",
    "\n",
    "\n",
    "TSh2a1=np.sum(dfTS.loc[:,('h2a1h1','h2a1h2','h2a1h3','h2a1h4')],axis=1)\n",
    "TSh2a1.name='TSh2a1'\n",
    "\n",
    "TSh2a2=np.sum(dfTS.loc[:,('h2a2h1','h2a2h2','h2a2h3','h2a2h4')],axis=1)\n",
    "TSh2a2.name='TSh2a2'\n",
    "\n",
    "TSh2a3=np.sum(dfTS.loc[:,('h2a3h1','h2a3h2','h2a3h3','h2a3h4')],axis=1)\n",
    "TSh2a3.name='TSh2a3'\n",
    "\n",
    "TSh2a4=np.sum(dfTS.loc[:,('h2a4h1','h2a4h2','h2a4h3','h2a4h4')],axis=1)\n",
    "TSh2a4.name='TSh2a4'\n",
    "\n",
    "TSh2a5=np.sum(dfTS.loc[:,('h2a5h1','h2a5h2','h2a5h3','h2a5h4')],axis=1)\n",
    "TSh2a5.name='TSh2a5'\n",
    "\n",
    "TSh2a6=np.sum(dfTS.loc[:,('h2a6h1','h2a6h2','h2a6h3','h2a6h4')],axis=1)\n",
    "TSh2a6.name='TSh2a6'\n",
    "\n",
    "TSh2a7=np.sum(dfTS.loc[:,('h2a7h1','h2a7h2','h2a7h3','h2a7h4')],axis=1)\n",
    "TSh2a7.name='TSh2a7'\n",
    "\n",
    "TSh2a8=np.sum(dfTS.loc[:,('h2a8h1','h2a8h2','h2a8h3','h2a8h4')],axis=1)\n",
    "TSh2a8.name='TSh2a8'\n",
    "\n",
    "TSh2a9=np.sum(dfTS.loc[:,('h2a9h1','h2a9h2','h2a9h3','h2a9h4')],axis=1)\n",
    "TSh2a9.name='TSh2a9'\n",
    "\n",
    "TSh2a10=np.sum(dfTS.loc[:,('h2a10h1','h2a10h2','h2a10h3','h2a10h4')],axis=1)\n",
    "TSh2a10.name='TSh2a10'\n",
    "\n",
    "TSh2a11=np.sum(dfTS.loc[:,('h2a11h1','h2a11h2','h2a11h3','h2a11h4')],axis=1)\n",
    "TSh2a11.name='TSh2a11'\n",
    "\n",
    "\n",
    "\n",
    "TSh3a1=np.sum(dfTS.loc[:,('h3a1h1','h3a1h2','h3a1h3','h3a1h4')],axis=1)\n",
    "TSh3a1.name='TSh3a1'\n",
    "\n",
    "TSh3a2=np.sum(dfTS.loc[:,('h3a2h1','h3a2h2','h3a2h3','h3a2h4')],axis=1)\n",
    "TSh3a2.name='TSh3a2'\n",
    "\n",
    "TSh3a3=np.sum(dfTS.loc[:,('h3a3h1','h3a3h2','h3a3h3','h3a3h4')],axis=1)\n",
    "TSh3a3.name='TSh3a3'\n",
    "\n",
    "TSh3a4=np.sum(dfTS.loc[:,('h3a4h1','h3a4h2','h3a4h3','h3a4h4')],axis=1)\n",
    "TSh3a4.name='TSh3a4'\n",
    "\n",
    "TSh3a5=np.sum(dfTS.loc[:,('h3a5h1','h3a5h2','h3a5h3','h3a5h4')],axis=1)\n",
    "TSh3a5.name='TSh3a5'\n",
    "\n",
    "TSh3a6=np.sum(dfTS.loc[:,('h3a6h1','h3a6h2','h3a6h3','h3a6h4')],axis=1)\n",
    "TSh3a6.name='TSh3a6'\n",
    "\n",
    "TSh3a7=np.sum(dfTS.loc[:,('h3a7h1','h3a7h2','h3a7h3','h3a7h4')],axis=1)\n",
    "TSh3a7.name='TSh3a7'\n",
    "\n",
    "TSh3a8=np.sum(dfTS.loc[:,('h3a8h1','h3a8h2','h3a8h3','h3a8h4')],axis=1)\n",
    "TSh3a8.name='TSh3a8'\n",
    "\n",
    "TSh3a9=np.sum(dfTS.loc[:,('h3a9h1','h3a9h2','h3a9h3','h3a9h4')],axis=1)\n",
    "TSh3a9.name='TSh3a9'\n",
    "\n",
    "TSh3a10=np.sum(dfTS.loc[:,('h3a10h1','h3a10h2','h3a10h3','h3a10h4')],axis=1)\n",
    "TSh3a10.name='TSh3a10'\n",
    "\n",
    "TSh3a11=np.sum(dfTS.loc[:,('h3a11h1','h3a11h2','h3a11h3','h3a11h4')],axis=1)\n",
    "TSh3a11.name='TSh3a11'\n",
    "\n",
    "\n",
    "\n",
    "TSh4a1=np.sum(dfTS.loc[:,('h4a1h1','h4a1h2','h4a1h3','h4a1h4')],axis=1)\n",
    "TSh4a1.name='TSh4a1'\n",
    "\n",
    "TSh4a2=np.sum(dfTS.loc[:,('h4a2h1','h4a2h2','h4a2h3','h4a2h4')],axis=1)\n",
    "TSh4a2.name='TSh4a2'\n",
    "\n",
    "TSh4a3=np.sum(dfTS.loc[:,('h4a3h1','h4a3h2','h4a3h3','h4a3h4')],axis=1)\n",
    "TSh4a3.name='TSh4a3'\n",
    "\n",
    "TSh4a4=np.sum(dfTS.loc[:,('h4a4h1','h4a4h2','h4a4h3','h4a4h4')],axis=1)\n",
    "TSh4a4.name='TSh4a4'\n",
    "\n",
    "TSh4a5=np.sum(dfTS.loc[:,('h4a5h1','h4a5h2','h4a5h3','h4a5h4')],axis=1)\n",
    "TSh4a5.name='TSh4a5'\n",
    "\n",
    "TSh4a6=np.sum(dfTS.loc[:,('h4a6h1','h4a6h2','h4a6h3','h4a6h4')],axis=1)\n",
    "TSh4a6.name='TSh4a6'\n",
    "\n",
    "TSh4a7=np.sum(dfTS.loc[:,('h4a7h1','h4a7h2','h4a7h3','h4a7h4')],axis=1)\n",
    "TSh4a7.name='TSh4a7'\n",
    "\n",
    "TSh4a8=np.sum(dfTS.loc[:,('h4a8h1','h4a8h2','h4a8h3','h4a8h4')],axis=1)\n",
    "TSh4a8.name='TSh4a8'\n",
    "\n",
    "TSh4a9=np.sum(dfTS.loc[:,('h4a9h1','h4a9h2','h4a9h3','h4a9h4')],axis=1)\n",
    "TSh4a9.name='TSh4a9'\n",
    "\n",
    "TSh4a10=np.sum(dfTS.loc[:,('h4a10h1','h4a10h2','h4a10h3','h4a10h4')],axis=1)\n",
    "TSh4a10.name='TSh4a10'\n",
    "\n",
    "TSh4a11=np.sum(dfTS.loc[:,('h4a11h1','h4a11h2','h4a11h3','h4a11h4')],axis=1)\n",
    "TSh4a11.name='TSh4a11'\n",
    "\n",
    "TSsumAge=pd.concat([TSh1a1,TSh1a2,TSh1a3,TSh1a4,TSh1a5,TSh1a6,TSh1a7,TSh1a8,TSh1a9,TSh1a10,TSh1a11,\n",
    "                TSh2a1,TSh2a2,TSh2a3,TSh2a4,TSh2a5,TSh2a6,TSh2a7,TSh2a8,TSh2a9,TSh2a10,TSh2a11,\n",
    "                TSh3a1,TSh3a2,TSh3a3,TSh3a4,TSh3a5,TSh3a6,TSh3a7,TSh3a8,TSh3a9,TSh3a10,TSh3a11,\n",
    "                TSh4a1,TSh4a2,TSh4a3,TSh4a4,TSh4a5,TSh4a6,TSh4a7,TSh4a8,TSh4a9,TSh4a10,TSh4a11] \n",
    "            ,axis=1 )\n"
   ]
  },
  {
   "cell_type": "code",
   "execution_count": 233,
   "metadata": {
    "scrolled": false
   },
   "outputs": [
    {
     "data": {
      "text/html": [
       "<div>\n",
       "<style scoped>\n",
       "    .dataframe tbody tr th:only-of-type {\n",
       "        vertical-align: middle;\n",
       "    }\n",
       "\n",
       "    .dataframe tbody tr th {\n",
       "        vertical-align: top;\n",
       "    }\n",
       "\n",
       "    .dataframe thead th {\n",
       "        text-align: right;\n",
       "    }\n",
       "</style>\n",
       "<table border=\"1\" class=\"dataframe\">\n",
       "  <thead>\n",
       "    <tr style=\"text-align: right;\">\n",
       "      <th></th>\n",
       "      <th>TSh1a1</th>\n",
       "      <th>TSh1a2</th>\n",
       "      <th>TSh1a3</th>\n",
       "      <th>TSh1a4</th>\n",
       "      <th>TSh1a5</th>\n",
       "      <th>TSh1a6</th>\n",
       "      <th>TSh1a7</th>\n",
       "      <th>TSh1a8</th>\n",
       "      <th>TSh1a9</th>\n",
       "      <th>TSh1a10</th>\n",
       "      <th>...</th>\n",
       "      <th>TSh4a2</th>\n",
       "      <th>TSh4a3</th>\n",
       "      <th>TSh4a4</th>\n",
       "      <th>TSh4a5</th>\n",
       "      <th>TSh4a6</th>\n",
       "      <th>TSh4a7</th>\n",
       "      <th>TSh4a8</th>\n",
       "      <th>TSh4a9</th>\n",
       "      <th>TSh4a10</th>\n",
       "      <th>TSh4a11</th>\n",
       "    </tr>\n",
       "  </thead>\n",
       "  <tbody>\n",
       "    <tr>\n",
       "      <th>0</th>\n",
       "      <td>0.0</td>\n",
       "      <td>0.0</td>\n",
       "      <td>0.0</td>\n",
       "      <td>0.0</td>\n",
       "      <td>0.0</td>\n",
       "      <td>0.0</td>\n",
       "      <td>0.0</td>\n",
       "      <td>1.0</td>\n",
       "      <td>0.0</td>\n",
       "      <td>0.0</td>\n",
       "      <td>...</td>\n",
       "      <td>0.0</td>\n",
       "      <td>0.0</td>\n",
       "      <td>0.0</td>\n",
       "      <td>0.0</td>\n",
       "      <td>0.0</td>\n",
       "      <td>0.0</td>\n",
       "      <td>0.0</td>\n",
       "      <td>0.0</td>\n",
       "      <td>0.0</td>\n",
       "      <td>0.0</td>\n",
       "    </tr>\n",
       "    <tr>\n",
       "      <th>1</th>\n",
       "      <td>0.0</td>\n",
       "      <td>1.0</td>\n",
       "      <td>0.0</td>\n",
       "      <td>0.0</td>\n",
       "      <td>0.0</td>\n",
       "      <td>0.0</td>\n",
       "      <td>0.0</td>\n",
       "      <td>0.0</td>\n",
       "      <td>0.0</td>\n",
       "      <td>0.0</td>\n",
       "      <td>...</td>\n",
       "      <td>0.0</td>\n",
       "      <td>0.0</td>\n",
       "      <td>0.0</td>\n",
       "      <td>0.0</td>\n",
       "      <td>0.0</td>\n",
       "      <td>0.0</td>\n",
       "      <td>0.0</td>\n",
       "      <td>0.0</td>\n",
       "      <td>0.0</td>\n",
       "      <td>0.0</td>\n",
       "    </tr>\n",
       "    <tr>\n",
       "      <th>2</th>\n",
       "      <td>0.0</td>\n",
       "      <td>1.0</td>\n",
       "      <td>0.0</td>\n",
       "      <td>0.0</td>\n",
       "      <td>0.0</td>\n",
       "      <td>0.0</td>\n",
       "      <td>0.0</td>\n",
       "      <td>0.0</td>\n",
       "      <td>0.0</td>\n",
       "      <td>0.0</td>\n",
       "      <td>...</td>\n",
       "      <td>0.0</td>\n",
       "      <td>0.0</td>\n",
       "      <td>0.0</td>\n",
       "      <td>0.0</td>\n",
       "      <td>0.0</td>\n",
       "      <td>0.0</td>\n",
       "      <td>0.0</td>\n",
       "      <td>0.0</td>\n",
       "      <td>0.0</td>\n",
       "      <td>0.0</td>\n",
       "    </tr>\n",
       "    <tr>\n",
       "      <th>3</th>\n",
       "      <td>0.0</td>\n",
       "      <td>0.0</td>\n",
       "      <td>0.0</td>\n",
       "      <td>0.0</td>\n",
       "      <td>0.0</td>\n",
       "      <td>0.0</td>\n",
       "      <td>0.0</td>\n",
       "      <td>0.0</td>\n",
       "      <td>0.0</td>\n",
       "      <td>0.0</td>\n",
       "      <td>...</td>\n",
       "      <td>0.0</td>\n",
       "      <td>0.0</td>\n",
       "      <td>0.0</td>\n",
       "      <td>0.0</td>\n",
       "      <td>0.0</td>\n",
       "      <td>0.0</td>\n",
       "      <td>0.0</td>\n",
       "      <td>0.0</td>\n",
       "      <td>0.0</td>\n",
       "      <td>0.0</td>\n",
       "    </tr>\n",
       "    <tr>\n",
       "      <th>4</th>\n",
       "      <td>0.0</td>\n",
       "      <td>0.0</td>\n",
       "      <td>0.0</td>\n",
       "      <td>0.0</td>\n",
       "      <td>0.0</td>\n",
       "      <td>0.0</td>\n",
       "      <td>0.0</td>\n",
       "      <td>0.0</td>\n",
       "      <td>0.0</td>\n",
       "      <td>0.0</td>\n",
       "      <td>...</td>\n",
       "      <td>0.0</td>\n",
       "      <td>0.0</td>\n",
       "      <td>0.0</td>\n",
       "      <td>0.0</td>\n",
       "      <td>0.0</td>\n",
       "      <td>0.0</td>\n",
       "      <td>0.0</td>\n",
       "      <td>0.0</td>\n",
       "      <td>1.0</td>\n",
       "      <td>0.0</td>\n",
       "    </tr>\n",
       "  </tbody>\n",
       "</table>\n",
       "<p>5 rows × 44 columns</p>\n",
       "</div>"
      ],
      "text/plain": [
       "   TSh1a1  TSh1a2  TSh1a3  TSh1a4  TSh1a5  TSh1a6  TSh1a7  TSh1a8  TSh1a9  \\\n",
       "0     0.0     0.0     0.0     0.0     0.0     0.0     0.0     1.0     0.0   \n",
       "1     0.0     1.0     0.0     0.0     0.0     0.0     0.0     0.0     0.0   \n",
       "2     0.0     1.0     0.0     0.0     0.0     0.0     0.0     0.0     0.0   \n",
       "3     0.0     0.0     0.0     0.0     0.0     0.0     0.0     0.0     0.0   \n",
       "4     0.0     0.0     0.0     0.0     0.0     0.0     0.0     0.0     0.0   \n",
       "\n",
       "   TSh1a10  ...  TSh4a2  TSh4a3  TSh4a4  TSh4a5  TSh4a6  TSh4a7  TSh4a8  \\\n",
       "0      0.0  ...     0.0     0.0     0.0     0.0     0.0     0.0     0.0   \n",
       "1      0.0  ...     0.0     0.0     0.0     0.0     0.0     0.0     0.0   \n",
       "2      0.0  ...     0.0     0.0     0.0     0.0     0.0     0.0     0.0   \n",
       "3      0.0  ...     0.0     0.0     0.0     0.0     0.0     0.0     0.0   \n",
       "4      0.0  ...     0.0     0.0     0.0     0.0     0.0     0.0     0.0   \n",
       "\n",
       "   TSh4a9  TSh4a10  TSh4a11  \n",
       "0     0.0      0.0      0.0  \n",
       "1     0.0      0.0      0.0  \n",
       "2     0.0      0.0      0.0  \n",
       "3     0.0      0.0      0.0  \n",
       "4     0.0      1.0      0.0  \n",
       "\n",
       "[5 rows x 44 columns]"
      ]
     },
     "execution_count": 233,
     "metadata": {},
     "output_type": "execute_result"
    }
   ],
   "source": [
    "TSsumAge.head()"
   ]
  },
  {
   "cell_type": "code",
   "execution_count": 234,
   "metadata": {},
   "outputs": [],
   "source": [
    "writer = pd.ExcelWriter('TSageSumsDT.xlsx')\n",
    "TSsumAge.to_excel(writer,'Sheet1')\n",
    "writer.save()"
   ]
  },
  {
   "cell_type": "code",
   "execution_count": 235,
   "metadata": {},
   "outputs": [],
   "source": [
    "def inventoryread(split,i):\n",
    "    p5=split[i]\n",
    "    p6=p5.strip('],]\\n')\n",
    "    p7=p6.split('],[')\n",
    "    xin=[p7[i].split(',') for i in [0,1,2,3]]\n",
    "    xin1=np.array(xin,dtype=float)\n",
    "    xin2=xin1.reshape(1,44)\n",
    "    \n",
    "    \n",
    "    return xin2\n",
    "       "
   ]
  },
  {
   "cell_type": "code",
   "execution_count": 236,
   "metadata": {},
   "outputs": [],
   "source": [
    "f = open('ninventoryNewDemand.txt', 'r')\n",
    "split=[line.strip('[[') for line in f]\n",
    "#[print(line[0:2]) for line in f]\n",
    "\n",
    "f.close()"
   ]
  },
  {
   "cell_type": "code",
   "execution_count": 237,
   "metadata": {},
   "outputs": [],
   "source": [
    "xin=np.empty((0,44))\n",
    "for i in np.arange(len(split)):\n",
    "    \n",
    "    if len(split[i])==1:\n",
    "        continue\n",
    "        \n",
    "        \n",
    "    xi=inventoryread(split,i)\n",
    "    xin=np.append(xin,xi,axis=0)\n",
    "         "
   ]
  },
  {
   "cell_type": "code",
   "execution_count": 238,
   "metadata": {},
   "outputs": [],
   "source": [
    "TSsmatrix=np.array(TSsumAge)\n",
    "#TSsmatrix=TSsumAge.as_matrix(columns=None)"
   ]
  },
  {
   "cell_type": "code",
   "execution_count": 239,
   "metadata": {
    "scrolled": true
   },
   "outputs": [
    {
     "data": {
      "text/plain": [
       "array([[0., 0., 0., ..., 0., 0., 0.],\n",
       "       [0., 1., 0., ..., 0., 0., 0.],\n",
       "       [0., 1., 0., ..., 0., 0., 0.],\n",
       "       ...,\n",
       "       [0., 0., 0., ..., 0., 0., 0.],\n",
       "       [0., 0., 0., ..., 0., 0., 0.],\n",
       "       [0., 0., 0., ..., 1., 1., 1.]])"
      ]
     },
     "execution_count": 239,
     "metadata": {},
     "output_type": "execute_result"
    }
   ],
   "source": [
    "TSsmatrix[:,0:44]"
   ]
  },
  {
   "cell_type": "code",
   "execution_count": 240,
   "metadata": {},
   "outputs": [],
   "source": [
    "import matplotlib.pyplot as plt"
   ]
  },
  {
   "cell_type": "code",
   "execution_count": 241,
   "metadata": {},
   "outputs": [
    {
     "data": {
      "image/png": "[encoded data removed]",
      "text/plain": [
       "<Figure size 432x288 with 1 Axes>"
      ]
     },
     "metadata": {
      "needs_background": "light"
     },
     "output_type": "display_data"
    }
   ],
   "source": [
    "plt.close('all')\n",
    "plt.bar(np.arange(44), np.sum(TSsmatrix,axis=0))\n",
    "plt.xticks(np.arange(44),['h1a1','h1a2','h1a3','h1a4','h1a5','h1a6','h1a7','h1a8','h1a9','h1a10','h1a11',\n",
    "                'h2a1','h2a2','h2a3','h2a4','h2a5','h2a6','h2a7','h2a8','h2a9','h2a10','h2a11',\n",
    "                'h3a1','h3a2','h3a3','h3a4','h3a5','h3a6','h3a7','h3a8','h3a9','h3a10','h3a11',\n",
    "                'h4a1','h4a2','h4a3','h4a4','h4a5','h4a6','h4a7','h4a8','h4a9','h4a10','h4a11'] \n",
    "          ,fontsize=4,rotation=49)\n",
    "plt.title('Total transshipment between hospitals at each shelf life-MLP model')\n",
    "plt.savefig('LGBM-nhubtransshipmentAge.pdf',bbox_inches='tight')"
   ]
  },
  {
   "cell_type": "code",
   "execution_count": 242,
   "metadata": {},
   "outputs": [],
   "source": [
    "Inve_TS=xin[:,0:44]-TSsmatrix[:,0:44]"
   ]
  },
  {
   "cell_type": "code",
   "execution_count": 243,
   "metadata": {},
   "outputs": [
    {
     "name": "stdout",
     "output_type": "stream",
     "text": [
      "(9250, 44)\n"
     ]
    },
    {
     "data": {
      "text/plain": [
       "27"
      ]
     },
     "execution_count": 243,
     "metadata": {},
     "output_type": "execute_result"
    }
   ],
   "source": [
    "print(Inve_TS.shape)\n",
    "\n",
    "Inve_TS\n",
    "\n",
    "Negatives=np.where(Inve_TS<0)\n",
    "\n",
    "NegativeAge=Negatives[1]\n",
    "\n",
    "NegativeDay=Negatives[0]\n",
    "\n",
    "len(Inve_TS[NegativeDay])"
   ]
  },
  {
   "cell_type": "code",
   "execution_count": 245,
   "metadata": {
    "scrolled": true
   },
   "outputs": [
    {
     "data": {
      "text/plain": [
       "0.0029189189189189188"
      ]
     },
     "execution_count": 245,
     "metadata": {},
     "output_type": "execute_result"
    }
   ],
   "source": [
    "len(Inve_TS[NegativeDay,NegativeAge])/9250"
   ]
  },
  {
   "cell_type": "code",
   "execution_count": 246,
   "metadata": {},
   "outputs": [],
   "source": [
    "import matplotlib.pyplot as plt"
   ]
  },
  {
   "cell_type": "code",
   "execution_count": 247,
   "metadata": {},
   "outputs": [],
   "source": [
    "def inventoryread(split,i):\n",
    "    p5=split[i]\n",
    "    p6=p5.strip('],]\\n')\n",
    "    p7=p6.split('],[')\n",
    "    xin=[p7[i].split(',') for i in [0,1,2,3]]\n",
    "    xin1=np.array(xin,dtype=float)\n",
    "    xin2=xin1.reshape(1,44)\n",
    "    \n",
    "    \n",
    "    return xin2\n",
    "       "
   ]
  },
  {
   "cell_type": "code",
   "execution_count": 248,
   "metadata": {},
   "outputs": [],
   "source": [
    "#f = open('DTinventoryNewDemand.txt', 'r')\n",
    "#use the one below for cossnn function\n",
    "f = open('ninventoryNewDemand.txt', 'r')\n",
    "split=[line.strip('[[') for line in f]\n",
    "#[print(line[0:2]) for line in f]\n",
    "\n",
    "f.close()"
   ]
  },
  {
   "cell_type": "code",
   "execution_count": 249,
   "metadata": {},
   "outputs": [],
   "source": [
    "xin=np.empty((0,44))\n",
    "for i in np.arange(len(split)):\n",
    "    \n",
    "    if len(split[i])==1:\n",
    "        continue\n",
    "        \n",
    "        \n",
    "    xi=inventoryread(split,i)\n",
    "    xin=np.append(xin,xi,axis=0)\n",
    "         "
   ]
  },
  {
   "cell_type": "code",
   "execution_count": 250,
   "metadata": {},
   "outputs": [],
   "source": [
    "SDinputs=np.std(xin,axis=0)"
   ]
  },
  {
   "cell_type": "code",
   "execution_count": 251,
   "metadata": {},
   "outputs": [],
   "source": [
    "MEANinputs=np.mean(xin,axis=0)"
   ]
  },
  {
   "cell_type": "code",
   "execution_count": 252,
   "metadata": {},
   "outputs": [
    {
     "data": {
      "text/plain": [
       "Text(0.5, 1.0, 'mean')"
      ]
     },
     "execution_count": 252,
     "metadata": {},
     "output_type": "execute_result"
    },
    {
     "data": {
      "image/png": "[encoded data removed]",
      "text/plain": [
       "<Figure size 432x288 with 1 Axes>"
      ]
     },
     "metadata": {
      "needs_background": "light"
     },
     "output_type": "display_data"
    }
   ],
   "source": [
    "plt.bar(np.arange(44),MEANinputs,align='center',width=0.4, alpha=0.8, facecolor='None', edgecolor='black')\n",
    "plt.title('mean')"
   ]
  },
  {
   "cell_type": "code",
   "execution_count": 253,
   "metadata": {
    "scrolled": true
   },
   "outputs": [
    {
     "data": {
      "image/png": "[encoded data removed]",
      "text/plain": [
       "<Figure size 720x720 with 4 Axes>"
      ]
     },
     "metadata": {
      "needs_background": "light"
     },
     "output_type": "display_data"
    }
   ],
   "source": [
    "X=xin\n",
    "fig, axes = plt.subplots(2, 2, sharex=False,sharey=False,figsize=(10,10),  tight_layout=True)\n",
    "distance = []\n",
    "n_bins1 = 15\n",
    "n_bins2 = 20\n",
    "\n",
    "outlayersprops = dict(markerfacecolor='k',markersize=0.5, marker='.')\n",
    "medianprops = dict(linestyle='-', linewidth=0.5, color='red')\n",
    "meanprops = dict(marker='s',markerfacecolor='k',markeredgecolor='k')\n",
    "\n",
    "# H1\n",
    "#axes[1].subplot(221,sharex='col')\n",
    "axes[0,0].boxplot(X[:,0:11],notch=True,showmeans=True, meanprops=meanprops,medianprops=medianprops,flierprops=outlayersprops)\n",
    "#axes[0,0].errorbar(np.arange(11)+1,MEANinputs[0:11], yerr=SDinputs[0:11], fmt='None', alpha=0.7, elinewidth=0.7,ecolor='black', capsize=5)\n",
    "\n",
    "axes[0,0].set_title('Inventory of hospital 1',fontname='serif',fontsize=20)\n",
    "axes[0,0].grid(False)\n",
    "\n",
    "\n",
    "# H2\n",
    "axes[0,1].boxplot(X[:,11:22],notch=True,showmeans=True, meanprops=meanprops,flierprops=outlayersprops)\n",
    "#axes[0,1].errorbar(np.arange(11)+1,MEANinputs[11:22], yerr=SDinputs[11:22], fmt='None', alpha=0.7, elinewidth=0.7,ecolor='black', capsize=5)\n",
    "\n",
    "axes[0,1].set_title('Inventory of hospital 2',fontname='serif',fontsize=20)\n",
    "axes[0,1].grid(False)\n",
    "\n",
    "\n",
    "# H3\n",
    "axes[1,0].boxplot(X[:,22:33],notch=True,showmeans=True, meanprops=meanprops,flierprops=outlayersprops)\n",
    "#axes[1,0].errorbar(np.arange(11)+1,MEANinputs[22:33], yerr=SDinputs[22:33], fmt='None', alpha=0.7, elinewidth=0.7,ecolor='black', capsize=5)\n",
    "\n",
    "axes[1,0].set_title('Inventory of hospital 3',fontname='serif',fontsize=20)\n",
    "axes[1,0].grid(False)\n",
    "\n",
    "# H4\n",
    "axes[1,1].boxplot(X[:,33:44],notch=True,showmeans=True, meanprops=meanprops,flierprops=outlayersprops)\n",
    "#axes[1,1].errorbar(np.arange(11)+1,MEANinputs[33:44], SDinputs[33:44], fmt='None', alpha=0.7, elinewidth=0.7,ecolor='black', capsize=5)\n",
    "\n",
    "axes[1,1].set_title('linear')\n",
    "axes[1,1].set_title('Inventory of hospital 4',fontname='serif',fontsize=20)\n",
    "axes[1,1].grid(False)\n",
    "# Format the minor tick labels of the y-axis into empty strings with\n",
    "# `NullFormatter`, to avoid cumbering the axis with too many labels.\n",
    "#plt.gca().yaxis.set_minor_formatter(NullFormatter())\n",
    "# Adjust the subplot layout, because the logit one may take more space\n",
    "# than usual, due to y-tick labels like \"1 - 10^{-3}\"\n",
    "plt.subplots_adjust(top=1, bottom=0.05, left=0.10, right=0.95, hspace=0.5,\n",
    "                    wspace=0.35)\n",
    "fig.text(-0.03, 0.5, 'No. of blood units', ha='center', va='center',rotation='vertical',fontname='serif',fontsize=22)\n",
    "fig.text(0.5, -0.03, 'Residual shelf life (LGBM-Huber)', ha='center', va='center',fontname='serif',fontsize=22)\n",
    "\n",
    "plt.savefig('LGBM-nHubInventory.pdf',format='pdf', dpi=200,bbox_inches='tight')\n",
    "plt.show()"
   ]
  },
  {
   "cell_type": "code",
   "execution_count": null,
   "metadata": {},
   "outputs": [],
   "source": []
  }
 ],
 "metadata": {
  "kernelspec": {
   "display_name": "Python 3",
   "language": "python",
   "name": "python3"
  },
  "language_info": {
   "codemirror_mode": {
    "name": "ipython",
    "version": 3
   },
   "file_extension": ".py",
   "mimetype": "text/x-python",
   "name": "python",
   "nbconvert_exporter": "python",
   "pygments_lexer": "ipython3",
   "version": "3.6.10"
  }
 },
 "nbformat": 4,
 "nbformat_minor": 2
}
