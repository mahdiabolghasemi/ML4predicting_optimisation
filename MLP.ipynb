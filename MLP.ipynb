{
 "cells": [
  {
   "cell_type": "code",
   "execution_count": null,
   "metadata": {},
   "outputs": [],
   "source": [
    "%reset"
   ]
  },
  {
   "cell_type": "code",
   "execution_count": 1,
   "metadata": {},
   "outputs": [],
   "source": [
    "import pandas as pd\n",
    "import numpy as np"
   ]
  },
  {
   "cell_type": "code",
   "execution_count": 88,
   "metadata": {},
   "outputs": [],
   "source": [
    "##Cost calculation\n",
    "def cost(scaler,dmnd,mlp,cost_shortage, cost_outdate):\n",
    "\n",
    "    \n",
    "    Demand=[dmnd['Demand1'].values.tolist(),dmnd['Demand2'].values.tolist(),dmnd['Demand3'].values.tolist(),\n",
    "        dmnd['Demand4'].values.tolist()]\n",
    "    #print(Demand[0][0:5])\n",
    "    period=9250\n",
    "    T=7  #period\n",
    "    D= 100  # number of  scenarios\n",
    "    #b=[[0, 3, 2, 3, 0, 0, 3, 4, 3, 3, 3],[0, 0, 2, 0, 3, 2, 3, 2, 1, 2, 1],[4, 5, 5, 9, 10, 8, 6, 9, 10, 7, 7],\n",
    "       #[6, 9, 3, 7, 2, 6, 5, 5, 4, 5, 4]] ##Initial inventory\n",
    "    \n",
    "    b=[[1, 0, 2, 2, 1, 0, 2, 3, 4, 4, 4],[0, 0, 1, 1, 2, 3, 4, 1, 1, 0, 3],[3, 4, 6, 8, 9, 8, 6, 8, 9, 8, 6],\n",
    "       [5, 8, 4, 6, 2, 5, 5, 6, 3, 4, 5]]\n",
    "    M = 11 ##len (b[0]) #life time period\n",
    "    N = 4 ##len (b) #number of hospital \n",
    "\n",
    "    #n=[4,3,15,15]\n",
    "    #p=[0.6,0.57,0.57,0.48]\n",
    "    RD=[[0 for k in range(period)] for j in range(N)] #relized demand\n",
    "    #RD = read_dat_file(\"ZINB.txt\")\n",
    "    RD=Demand\n",
    "    #print(RD[1][0:5])\n",
    "    G = [cost_shortage for j in range(N)]  #The emergency order cost at each hospital\n",
    "    H = [1 for j in range(N)]  #The holding cost at each hospital\n",
    "    H1=[[1 for j in range (M)]for i in range (N)]\n",
    "\n",
    "    E = [cost_outdate for j in range(N)]  #The expiry cost at each hospital\n",
    "    R = [1 for j in range(N)]  #The order cost at each hospital\n",
    "    C =[[1.5 for j in range(N)] for i in range(N)] # transshipment cost.the first dimention shows the origin hospital and \n",
    "#the second one shows the destination hospital\n",
    "    CTS=[0 for i in range (period)]\n",
    "    shortage=[0 for i in range (period)]\n",
    "    Orders=[0 for i in range (period)]\n",
    "    ## consideing these two additional costs\n",
    "    HoldCost= [0 for i in range (period)]\n",
    "    CoutCost=[0 for i in range (period)]\n",
    "    TransCost=[0 for i in range (period)]\n",
    "    \n",
    "    CTSTotal=0\n",
    "    fiorder = open('NewDemandorder.txt', 'w')\n",
    "    fitrans = open('NewDemandtrans.txt', 'w')\n",
    "    fiout = open('NewDemandoutdate.txt', 'w')\n",
    "    fishortage = open('NewDemandshortage.txt', 'w')\n",
    "    fiissue = open('NewDemandissue.txt', 'w')\n",
    "    fiinventory = open('inventoryNewDemand.txt', 'w')\n",
    "    fitranscost = open('transcost.txt', 'w')\n",
    "#fioutcost = open('currentoutdatecost.txt', 'w')\n",
    "#fishortagecost = open('currentshortagecost.txt', 'w')\n",
    "    fiholdcost = open('holdcost.txt', 'w')\n",
    "    \n",
    "    for t in range (period):\n",
    "        \n",
    "        fiinventory.write((\"\\n[\"))\n",
    "        for item in b:\n",
    "            fiinventory.write(\"%s,\" % item) \n",
    "        fiinventory.write(\"]\")                   \n",
    "        \n",
    "        Y = [0 for i in range(N)]   #orders\n",
    "        X= [[[0 for k in range(M)] for j in range(N)] for i in range(N)]  #X[hi][hf][age] : transshipment matrix\n",
    "        X1= [0 for j in range(N)] \n",
    "        \n",
    "        #bnew=np.array(b).reshape(1,44).reshape(1,-1)\n",
    "        btransform=scaler.transform(np.array(b).reshape(1,44).reshape(1,-1))   ##**input scaler for MLP model** \n",
    "        prediction = mlp.predict(btransform.reshape(1,44))\n",
    "      \n",
    "        #prediction = mlp.predict(np.array(b).reshape(1,44).reshape(1,-1))\n",
    "\n",
    "\n",
    "        prediction[prediction<0]=0\n",
    "\n",
    "        prediction=np.round(prediction,0)\n",
    "\n",
    "        d=prediction[0][0:176]       #Transshipments\n",
    "        X=d.reshape(4,4,11)\n",
    "\n",
    "        Y=prediction[0][176:180]     #'order1':'order4'\n",
    "        \n",
    "    \n",
    "    #Y,X = twosatge(b,N,M,T,D,G,H1,E,R,C)\n",
    "    \n",
    "        Corder=0\n",
    "        Ctrans=0\n",
    "        Cshort=0\n",
    "        Chold=0\n",
    "        Cout=0\n",
    "        #CTS=0\n",
    "        issue=[[0 for j in range (M)]for i in range (N)]\n",
    "        bD=[[0 for j in range (M)]for i in range (N)] #inventory after satisfying demand\n",
    "        by=[[0 for j in range (M)]for i in range (N)] #inventory after reciving order \n",
    "        F =[0 for i in range (N)]  # shortage at each hospital\n",
    "        Hunit =[0 for i in range (N)]  # total units which stay in system for one period at each hospital\n",
    "        Ounit=[0 for i in range (N)]  # outdate at each hospital\n",
    "        XIN= [[0 for j in range (M)]for i in range (N)]\n",
    "        XOUT= [[0 for j in range (M)]for i in range (N)] \n",
    "        bx= [[0 for j in range (M)]for i in range (N)] #inventory after transshipment\n",
    "        for i in range (N):\n",
    "            for j in range (M):\n",
    "                k=0\n",
    "                for l in range (N):\n",
    "                    k=k+X[i][l][j]\n",
    "                XOUT[i][j]=k\n",
    "        for i in range (N):\n",
    "            for j in range (M):\n",
    "                k=0\n",
    "                for l in range (N):\n",
    "                    k=k+X[l][i][j]\n",
    "                XIN[i][j]=k\n",
    "        for i in range (N):\n",
    "            q=0\n",
    "            for j in range (N):\n",
    "                for k in range (M):\n",
    "                    q= q+X[i][j][k]\n",
    "            X1[i]=q\t\t\n",
    "        for i in range (N):\n",
    "            for j in range (M):\n",
    "                bx[i][j]= b[i][j]+XIN[i][j]-XOUT[i][j]\n",
    "        for i in range (N):\n",
    "            for j in range (M):\n",
    "                if bx[i][j]>RD[i][t]:\n",
    "                    bD[i][j]= bx[i][j]-RD[i][t]\n",
    "                    issue[i][j]=RD[i][t]\n",
    "                    RD[i][t]=0\n",
    "                else:\n",
    "                    issue[i][j]=bx[i][j]\n",
    "                    bD[i][j]=0\n",
    "                    RD[i][t]=RD[i][t]-bx[i][j]\n",
    "            if RD[i][t]>0:\n",
    "                F[i]=RD[i][t]\t\n",
    "        for i in range (N):\n",
    "            Ounit[i]= bD[i][0] \n",
    "        for i in range (N):\n",
    "            j=1\n",
    "            k=0\n",
    "            while j<M:\n",
    "                k= k+bD[i][j]\n",
    "                j=j+1\n",
    "            Hunit[i]=k\n",
    "        for i in range (N):\n",
    "            for j in range (M):\n",
    "                if j==(M-1):\n",
    "                    by[i][j]=Y[i] \n",
    "                else:\n",
    "                    by[i][j]= bD[i][j+1]\n",
    "        for i in range (N):\n",
    "            for j in range (M):\t\n",
    "                b[i][j]=by[i][j]\t\t\t\t\n",
    "        for i in range (N):\n",
    "            Corder= Corder +R[i]*Y[i]\n",
    "        for i in range (N):\n",
    "                for j in range (N):\n",
    "                    for l in range (M):\n",
    "                        Ctrans = Ctrans+C[i][j]*X[i][j][l]\n",
    "        for i in range (N):\n",
    "            Cshort=Cshort+F[i]*G[i]\n",
    "            Chold=Chold+Hunit[i]*H[i]\n",
    "            Cout=Cout+Ounit[i]*E[i]\n",
    "        CTS[t]=Corder+Ctrans+Cshort+Chold+Cout\n",
    "        shortage[t]=Cshort\n",
    "        Orders[t]=Corder\n",
    "        # adding the trans and hoding cost and count\n",
    "        TransCost[t]=Ctrans\n",
    "        HoldCost[t]=Chold\n",
    "        CoutCost[t]=Cout\n",
    "        ## continue with others\n",
    "        CTSTotal = CTSTotal+CTS[t]\n",
    "        fiholdcost.write((\"\\n\\n[\"))\n",
    "        for item in Hunit:\n",
    "            fiholdcost.write(\"%s,\" % item) \n",
    "        fiholdcost.write(\"]\")\n",
    "        fitranscost.write((\"\\n\\n[\"))\n",
    "        for item in X1:\n",
    "            fitranscost.write(\"%s,\" % item) \n",
    "        fitranscost.write(\"]\")\n",
    "        fiorder.write((\"\\n\\n[\"))\n",
    "        for item in Y:\n",
    "            fiorder.write(\"%s,\" % item) \n",
    "        fiorder.write(\"]\")\n",
    "        fiout.write((\"\\n\\n[\"))\n",
    "        for item in Ounit:\n",
    "            fiout.write(\"%s,\" % item)\n",
    "        fiout.write(\"]\")\n",
    "        fishortage.write((\"\\n\\n[\"))\n",
    "        for item in F:\n",
    "            fishortage.write(\"%s,\" % item)\n",
    "        fishortage.write(\"]\")\n",
    "        fitrans.write((\"\\n[\"))\n",
    "        for item in d:\n",
    "            fitrans.write(\"%s,\" % item)\n",
    "        fiissue.write((\"\\n\\n[\"))\n",
    "        for item in issue:\n",
    "            fiissue.write(\"%s,\" % item)\n",
    "        fiissue.write(\"]\")\t\n",
    "    fo = open('cost.txt', 'w')\n",
    "    fo.write(\"\\n\\n[\")\n",
    "    for item in CTS:\n",
    "        fo.write(\"%s,\" % item)\n",
    "    fo.write(\"]\")\n",
    "    fo.write(\"\\n\\nCTSTotal=\")\n",
    "    fo.write(\"%s\" %CTSTotal) \n",
    "    fo.close() \n",
    "    fiorder.close()\n",
    "    fiout.close()\n",
    "    fitrans.close()\n",
    "    fishortage.close()   \n",
    "    fiissue.close()\t\n",
    "    fiinventory.close()\n",
    "    fiholdcost.close()\t\n",
    "    fitranscost.close()       \n",
    "\t\n",
    "\n",
    "#print (RD)\n",
    "#print (CTS)\n",
    "    #print ('Average Cost:',np.mean(CTS))\n",
    "    #print ('std of Cost:',np.std(CTS))\n",
    "    #print('NO. of days:',len(df))\n",
    "    \n",
    "    return(shortage,Orders,CTS,HoldCost,TransCost,CoutCost)"
   ]
  },
  {
   "cell_type": "code",
   "execution_count": 89,
   "metadata": {},
   "outputs": [],
   "source": [
    "##Cost calculation for Keras models\n",
    "def costK(scaler,dmnd,mlp,cost_shortage, cost_outdate):\n",
    "\n",
    "    \n",
    "    Demand=[dmnd['Demand1'].values.tolist(),dmnd['Demand2'].values.tolist(),dmnd['Demand3'].values.tolist(),\n",
    "        dmnd['Demand4'].values.tolist()]\n",
    "    #print(Demand[0][0:5])\n",
    "    period=9250\n",
    "    T=7  #period\n",
    "    D= 100  # number of  scenarios\n",
    "    #b=[[0, 3, 2, 3, 0, 0, 3, 4, 3, 3, 3],[0, 0, 2, 0, 3, 2, 3, 2, 1, 2, 1],[4, 5, 5, 9, 10, 8, 6, 9, 10, 7, 7],\n",
    "       #[6, 9, 3, 7, 2, 6, 5, 5, 4, 5, 4]] ##Initial inventory\n",
    "    \n",
    "    b=[[1, 0, 2, 2, 1, 0, 2, 3, 4, 4, 4],[0, 0, 1, 1, 2, 3, 4, 1, 1, 0, 3],[3, 4, 6, 8, 9, 8, 6, 8, 9, 8, 6],\n",
    "       [5, 8, 4, 6, 2, 5, 5, 6, 3, 4, 5]]\n",
    "    M = 11 ##len (b[0]) #life time period\n",
    "    N = 4 ##len (b) #number of hospital \n",
    "\n",
    "    #n=[4,3,15,15]\n",
    "    #p=[0.6,0.57,0.57,0.48]\n",
    "    RD=[[0 for k in range(period)] for j in range(N)] #relized demand\n",
    "    #RD = read_dat_file(\"ZINB.txt\")\n",
    "    RD=Demand\n",
    "    #print(RD[1][0:5])\n",
    "    G = [cost_shortage for j in range(N)]  #The emergency order cost at each hospital\n",
    "    H = [1 for j in range(N)]  #The holding cost at each hospital\n",
    "    H1=[[1 for j in range (M)]for i in range (N)]\n",
    "\n",
    "    E = [cost_outdate for j in range(N)]  #The expiry cost at each hospital\n",
    "    R = [1 for j in range(N)]  #The order cost at each hospital\n",
    "    C =[[1.5 for j in range(N)] for i in range(N)] # transshipment cost.the first dimention shows the origin hospital and \n",
    "#the second one shows the destination hospital\n",
    "    CTS=[0 for i in range (period)]\n",
    "    shortage=[0 for i in range (period)]\n",
    "    Orders=[0 for i in range (period)]\n",
    "    ## consideing these two additional costs\n",
    "    HoldCost= [0 for i in range (period)]\n",
    "    CoutCost=[0 for i in range (period)]\n",
    "    TransCost=[0 for i in range (period)]\n",
    "    \n",
    "    CTSTotal=0\n",
    "    fiorder = open('DTNewDemandorder.txt', 'w')\n",
    "    fitrans = open('DTNewDemandtrans.txt', 'w')\n",
    "    fiout = open('DTNewDemandoutdate.txt', 'w')\n",
    "    fishortage = open('DTNewDemandshortage.txt', 'w')\n",
    "    fiissue = open('DTNewDemandissue.txt', 'w')\n",
    "    fiinventory = open('DTinventoryNewDemand.txt', 'w')\n",
    "    fitranscost = open('DTtranscost.txt', 'w')\n",
    "#fioutcost = open('currentoutdatecost.txt', 'w')\n",
    "#fishortagecost = open('currentshortagecost.txt', 'w')\n",
    "    fiholdcost = open('DTholdcost.txt', 'w')\n",
    "    \n",
    "    for t in range (period):\n",
    "        \n",
    "        fiinventory.write((\"\\n[\"))\n",
    "        for item in b:\n",
    "            fiinventory.write(\"%s,\" % item) \n",
    "        fiinventory.write(\"]\")                   \n",
    "        \n",
    "        Y = [0 for i in range(N)]   #orders\n",
    "        X= [[[0 for k in range(M)] for j in range(N)] for i in range(N)]  #X[hi][hf][age] : transshipment matrix\n",
    "        X1= [0 for j in range(N)] \n",
    "        \n",
    "        #b=np.array(b).reshape(1,44).reshape(1,-1)\n",
    "        #btransform=scaler.transform(np.array(b).reshape(1,44).reshape(1,-1))   ##**input scaler for MLP model** \n",
    "        prediction = [mlpk[t]]\n",
    "      \n",
    "        #prediction = mlp.predict(np.array(b).reshape(1,44).reshape(1,-1))\n",
    "        \n",
    "        #lgbTestData = lightgbm.Dataset(np.array(b).reshape(1,44).reshape(1,-1))\n",
    "        \n",
    "        #prediction = mdl.predict(lgbTestData)\n",
    "\n",
    "        #prediction[prediction<0]=0\n",
    "\n",
    "        prediction=np.round(prediction,0)\n",
    "\n",
    "        d=prediction[0][0:176]       #Transshipments\n",
    "        X=d.reshape(4,4,11)\n",
    "\n",
    "        Y=prediction[0][176:180]     #'order1':'order4'\n",
    "        \n",
    "    \n",
    "    #Y,X = twosatge(b,N,M,T,D,G,H1,E,R,C)\n",
    "    \n",
    "        Corder=0\n",
    "        Ctrans=0\n",
    "        Cshort=0\n",
    "        Chold=0\n",
    "        Cout=0\n",
    "        #CTS=0\n",
    "        issue=[[0 for j in range (M)]for i in range (N)]\n",
    "        bD=[[0 for j in range (M)]for i in range (N)] #inventory after satisfying demand\n",
    "        by=[[0 for j in range (M)]for i in range (N)] #inventory after reciving order \n",
    "        F =[0 for i in range (N)]  # shortage at each hospital\n",
    "        Hunit =[0 for i in range (N)]  # total units which stay in system for one period at each hospital\n",
    "        Ounit=[0 for i in range (N)]  # outdate at each hospital\n",
    "        XIN= [[0 for j in range (M)]for i in range (N)]\n",
    "        XOUT= [[0 for j in range (M)]for i in range (N)] \n",
    "        bx= [[0 for j in range (M)]for i in range (N)] #inventory after transshipment\n",
    "        for i in range (N):\n",
    "            for j in range (M):\n",
    "                k=0\n",
    "                for l in range (N):\n",
    "                    k=k+X[i][l][j]\n",
    "                XOUT[i][j]=k\n",
    "        for i in range (N):\n",
    "            for j in range (M):\n",
    "                k=0\n",
    "                for l in range (N):\n",
    "                    k=k+X[l][i][j]\n",
    "                XIN[i][j]=k\n",
    "        for i in range (N):\n",
    "            q=0\n",
    "            for j in range (N):\n",
    "                for k in range (M):\n",
    "                    q= q+X[i][j][k]\n",
    "            X1[i]=q\t\t\n",
    "        for i in range (N):\n",
    "            for j in range (M):\n",
    "                bx[i][j]= b[i][j]+XIN[i][j]-XOUT[i][j]\n",
    "        for i in range (N):\n",
    "            for j in range (M):\n",
    "                if bx[i][j]>RD[i][t]:\n",
    "                    bD[i][j]= bx[i][j]-RD[i][t]\n",
    "                    issue[i][j]=RD[i][t]\n",
    "                    RD[i][t]=0\n",
    "                else:\n",
    "                    issue[i][j]=bx[i][j]\n",
    "                    bD[i][j]=0\n",
    "                    RD[i][t]=RD[i][t]-bx[i][j]\n",
    "            if RD[i][t]>0:\n",
    "                F[i]=RD[i][t]\t\n",
    "        for i in range (N):\n",
    "            Ounit[i]= bD[i][0] \n",
    "        for i in range (N):\n",
    "            j=1\n",
    "            k=0\n",
    "            while j<M:\n",
    "                k= k+bD[i][j]\n",
    "                j=j+1\n",
    "            Hunit[i]=k\n",
    "        for i in range (N):\n",
    "            for j in range (M):\n",
    "                if j==(M-1):\n",
    "                    by[i][j]=Y[i] \n",
    "                else:\n",
    "                    by[i][j]= bD[i][j+1]\n",
    "        for i in range (N):\n",
    "            for j in range (M):\t\n",
    "                b[i][j]=by[i][j]\t\t\t\t\n",
    "        for i in range (N):\n",
    "            Corder= Corder +R[i]*Y[i]\n",
    "        for i in range (N):\n",
    "                for j in range (N):\n",
    "                    for l in range (M):\n",
    "                        Ctrans = Ctrans+C[i][j]*X[i][j][l]\n",
    "        for i in range (N):\n",
    "            Cshort=Cshort+F[i]*G[i]\n",
    "            Chold=Chold+Hunit[i]*H[i]\n",
    "            Cout=Cout+Ounit[i]*E[i]\n",
    "        CTS[t]=Corder+Ctrans+Cshort+Chold+Cout\n",
    "        shortage[t]=Cshort\n",
    "        Orders[t]=Corder\n",
    "        # adding the trans and hoding cost and count\n",
    "        TransCost[t]=Ctrans\n",
    "        HoldCost[t]=Chold\n",
    "        CoutCost[t]=Cout\n",
    "        ## continue with others\n",
    "        CTSTotal = CTSTotal+CTS[t]\n",
    "        fiholdcost.write((\"\\n\\n[\"))\n",
    "        for item in Hunit:\n",
    "            fiholdcost.write(\"%s,\" % item) \n",
    "        fiholdcost.write(\"]\")\n",
    "        fitranscost.write((\"\\n\\n[\"))\n",
    "        for item in X1:\n",
    "            fitranscost.write(\"%s,\" % item) \n",
    "        fitranscost.write(\"]\")\n",
    "        fiorder.write((\"\\n\\n[\"))\n",
    "        for item in Y:\n",
    "            fiorder.write(\"%s,\" % item) \n",
    "        fiorder.write(\"]\")\n",
    "        fiout.write((\"\\n\\n[\"))\n",
    "        for item in Ounit:\n",
    "            fiout.write(\"%s,\" % item)\n",
    "        fiout.write(\"]\")\n",
    "        fishortage.write((\"\\n\\n[\"))\n",
    "        for item in F:\n",
    "            fishortage.write(\"%s,\" % item)\n",
    "        fishortage.write(\"]\")\n",
    "        fitrans.write((\"\\n[\"))\n",
    "        for item in d:\n",
    "            fitrans.write(\"%s,\" % item)\n",
    "        fiissue.write((\"\\n\\n[\"))\n",
    "        for item in issue:\n",
    "            fiissue.write(\"%s,\" % item)\n",
    "        fiissue.write(\"]\")\t\n",
    "    fo = open('DTcost.txt', 'w')\n",
    "    fo.write(\"\\n\\n[\")\n",
    "    for item in CTS:\n",
    "        fo.write(\"%s,\" % item)\n",
    "    fo.write(\"]\")\n",
    "    fo.write(\"\\n\\nCTSTotal=\")\n",
    "    fo.write(\"%s\" %CTSTotal) \n",
    "    fo.close() \n",
    "    fiorder.close()\n",
    "    fiout.close()\n",
    "    fitrans.close()\n",
    "    fishortage.close()   \n",
    "    fiissue.close()\t\n",
    "    fiinventory.close()\n",
    "    fiholdcost.close()\t\n",
    "    fitranscost.close()       \n",
    "\t\n",
    "\n",
    "#print (RD)\n",
    "#print (CTS)\n",
    "    #print ('Average Cost:',np.mean(CTS))\n",
    "    #print ('std of Cost:',np.std(CTS))\n",
    "    #print('NO. of days:',len(df))\n",
    "    \n",
    "    return(shortage,Orders,CTS,HoldCost,TransCost,CoutCost)"
   ]
  },
  {
   "cell_type": "code",
   "execution_count": 324,
   "metadata": {},
   "outputs": [
    {
     "data": {
      "text/plain": [
       "array([[0., 0., 0., 0., 0., 0., 0., 0., 0., 0., 0., 0., 0., 0., 0., 0.,\n",
       "        0., 0., 0., 0., 0., 0., 0., 0., 0., 0., 0., 0., 0., 0., 0., 0.,\n",
       "        0., 0., 0., 0., 0., 0., 0., 0., 0., 0., 0., 0., 0., 0., 0., 0.,\n",
       "        0., 0., 0., 0., 0., 0., 0.]])"
      ]
     },
     "execution_count": 324,
     "metadata": {},
     "output_type": "execute_result"
    }
   ],
   "source": [
    "b=np.array([[1, 0, 2, 2, 1, 0, 2, 3, 4, 4, 4],[0, 0, 1, 1, 2, 3, 4, 1, 1, 0, 3],[3, 4, 6, 8, 9, 8, 6, 8, 9, 8, 6],\n",
    "       [5, 8, 4, 6, 2, 5, 5, 6, 3, 4, 5]])\n",
    "#scaler.transform(b)\n",
    "m= np.append(b,[[1,2,3,4,5,6,5,8,0,1,1]]).reshape(1,55)\n",
    "m\n",
    "StandardScaler().fit_transform(m)\n",
    "#m2=np.array(m.reshape(1,55))\n",
    "#m2\n",
    "#scaler.transform(m)\n",
    "#b"
   ]
  },
  {
   "cell_type": "code",
   "execution_count": 325,
   "metadata": {},
   "outputs": [],
   "source": [
    "##Cost calculation\n",
    "period=9250\n",
    "def costn(scaler,dmnd,ml,cost_shortage, cost_outdate):\n",
    "\n",
    "    \n",
    "    Demand=[dmnd['Demand1'].values.tolist(),dmnd['Demand2'].values.tolist(),dmnd['Demand3'].values.tolist(),\n",
    "        dmnd['Demand4'].values.tolist()]\n",
    "    #print(Demand[0][0:5])\n",
    "    period=9250\n",
    "    T=7  #period\n",
    "    D= 100  # number of  scenarios\n",
    "    #b=[[0, 3, 2, 3, 0, 0, 3, 4, 3, 3, 3],[0, 0, 2, 0, 3, 2, 3, 2, 1, 2, 1],[4, 5, 5, 9, 10, 8, 6, 9, 10, 7, 7],\n",
    "       #[6, 9, 3, 7, 2, 6, 5, 5, 4, 5, 4]] ##Initial inventory\n",
    "    b=[[1, 0, 2, 2, 1, 0, 2, 3, 4, 4, 4],[0, 0, 1, 1, 2, 3, 4, 1, 1, 0, 3],[3, 4, 6, 8, 9, 8, 6, 8, 9, 8, 6],\n",
    "       [5, 8, 4, 6, 2, 5, 5, 6, 3, 4, 5]]\n",
    "  \n",
    "  #  b=[[1, 0, 2, 2, 1, 0, 2, 3, 4, 4, 4,0],[0, 1, 1, 2, 3, 4, 1, 1, 0, 3,3,4],[ 6, 8, 9, 8, 6, 8, 9, 8, 6,\n",
    "   #    5,8, 4],[ 6, 2, 5, 5, 6, 3, 4, 5,2,0,0,0]]\n",
    "    \n",
    "    M = 11 ##len (b[0]) #life time period\n",
    "    N = 4 ##len (b) #number of hospital \n",
    "\n",
    "    #n=[4,3,15,15]\n",
    "    #p=[0.6,0.57,0.57,0.48]\n",
    "    RD=[[0 for k in range(period)] for j in range(N)] #relized demand\n",
    "    #RD = read_dat_file(\"ZINB.txt\")\n",
    "    RD=Demand\n",
    "    #print(RD[1][0:5])\n",
    "    G = [cost_shortage for j in range(N)]  #The emergency order cost at each hospital\n",
    "    H = [1 for j in range(N)]  #The holding cost at each hospital\n",
    "    H1=[[1 for j in range (M)]for i in range (N)]\n",
    "\n",
    "    E = [cost_outdate for j in range(N)]  #The expiry cost at each hospital\n",
    "    R = [1 for j in range(N)]  #The order cost at each hospital\n",
    "    C =[[1.5 for j in range(N)] for i in range(N)] # transshipment cost.the first dimention shows the origin hospital and \n",
    "    #the second one shows the destination hospital\n",
    "    CTS=[0 for i in range (period)]\n",
    "    shortage=[0 for i in range (period)]\n",
    "    Orders=[0 for i in range (period)]\n",
    "    ## consideing these two additional costs\n",
    "    HoldCost= [0 for i in range (period)]\n",
    "    CoutCost=[0 for i in range (period)]\n",
    "    TransCost=[0 for i in range (period)]\n",
    "    \n",
    "    CTSTotal=0\n",
    "    fiorder = open('nNewDemandorder.txt', 'w')\n",
    "    fitrans = open('nNewDemandtrans.txt', 'w')\n",
    "    fiout = open('nNewDemandoutdate.txt', 'w')\n",
    "    fishortage = open('nNewDemandshortage.txt', 'w')\n",
    "    fiissue = open('nNewDemandissue.txt', 'w')\n",
    "    fiinventory = open('ninventoryNewDemand.txt', 'w')\n",
    "    fitranscost = open('ntranscost.txt', 'w')\n",
    "    #fioutcost = open('currentoutdatecost.txt', 'w')\n",
    "    #fishortagecost = open('currentshortagecost.txt', 'w')\n",
    "    fiholdcost = open('nholdcost.txt', 'w')\n",
    "    fiinventoryTS = open('ninventoryTS.txt', 'w')\n",
    "\n",
    "    Corder=0\n",
    "    Ctrans=0\n",
    "    Cshort=0\n",
    "    Chold=0\n",
    "    Cout=0\n",
    "    \n",
    "    for t in range (period):\n",
    "        \n",
    "        fiinventory.write((\"\\n[\"))\n",
    "        for item in b:\n",
    "            fiinventory.write(\"%s,\" % item) \n",
    "        fiinventory.write(\"]\")                   \n",
    "        \n",
    "        Y = [0 for i in range(N)]   #orders\n",
    "        X= [[[0 for k in range(M)] for j in range(N)] for i in range(N)]  #X[hi][hf][age] : transshipment matrix\n",
    "        X1= [0 for j in range(N)] \n",
    "        \n",
    "\n",
    "        \n",
    "        #b_new=np.concatenate(np.array(b).reshape(1,44), np.array(HoldCost[0][t]),np.array(TransCost[0][t]))\n",
    "        #prediction = ml.predict(np.array(b_new).reshape(1,48).reshape(1,-1))\n",
    "        #prediction = [ml.predict(X_test_n)[t]]\n",
    "        #prediction = ml.predict(X_test_n[t,:].reshape(1, -1))\n",
    "        #prediction = ml.predict(X_all_n[t,:].reshape(1, -1))\n",
    "        \n",
    "        Corder=0\n",
    "        Ctrans=0\n",
    "        Cshort=0\n",
    "        Chold=0\n",
    "        Cout=0\n",
    "      \n",
    "        \n",
    "        #b_new=np.concatenate(b,[Corder,Ctrans,Corder,Ctrans,Corder,Ctrans,Corder,Ctrans,Corder,Ctrans,Corder]).reshape(1,55)\n",
    "        #b_new=np.append(b,[[TransCost[t],TransCost[t],TransCost[t],TransCost[t],TransCost[t],HoldCost[t],HoldCost[t],HoldCost[t],HoldCost[t],HoldCost[t],HoldCost[t]]], axis=0)\n",
    "\n",
    "        b_new=np.append(b,[[TransCost[t],TransCost[t], Orders[t],Orders[t], CoutCost[t],CoutCost[t], shortage[t],shortage[t], HoldCost[t],HoldCost[t], CTS[t]]], axis=0).reshape(1,55).reshape(1,-1)\n",
    "        #b_new=np.append(b,[[TransCost[t],TransCost[t]]], axis=0).reshape(1,46)\n",
    "\n",
    "        b_new_transform=StandardScaler().fit_transform(b_new)\n",
    "        prediction = ml.predict(b_new.reshape(1,55))\n",
    " \n",
    "\n",
    "        #Use the one below only for MLP\n",
    "        #prediction = ml.predict(scaler.transform(np.array(b_new).reshape(1,55).reshape(1,-1)))\n",
    "        prediction=np.round(prediction,0)\n",
    "        prediction[prediction<0]=0\n",
    "        \n",
    "        d=prediction[0][0:176]       #Transshipments\n",
    "        X=d.reshape(4,4,11)\n",
    "\n",
    "        Y=prediction[0][176:180]     #'order1':'order4'\n",
    "        \n",
    "        #CTS=0\n",
    "        issue=[[0 for j in range (M)]for i in range (N)]\n",
    "        bD=[[0 for j in range (M)]for i in range (N)] #inventory after satisfying demand\n",
    "        by=[[0 for j in range (M)]for i in range (N)] #inventory after reciving order \n",
    "        F =[0 for i in range (N)]  # shortage at each hospital\n",
    "        Hunit =[0 for i in range (N)]  # total units which stay in system for one period at each hospital\n",
    "        Ounit=[0 for i in range (N)]  # outdate at each hospital\n",
    "        XIN= [[0 for j in range (M)]for i in range (N)]\n",
    "        XOUT= [[0 for j in range (M)]for i in range (N)] \n",
    "        bx= [[0 for j in range (M)]for i in range (N)] #inventory after transshipment\n",
    "        for i in range (N):\n",
    "            for j in range (M):\n",
    "                k=0\n",
    "                for l in range (N):\n",
    "                    k=k+X[i][l][j]\n",
    "                XOUT[i][j]=k\n",
    "        for i in range (N):\n",
    "            for j in range (M):\n",
    "                k=0\n",
    "                for l in range (N):\n",
    "                    k=k+X[l][i][j]\n",
    "                XIN[i][j]=k\n",
    "        for i in range (N):\n",
    "            q=0\n",
    "            for j in range (N):\n",
    "                for k in range (M):\n",
    "                    q= q+X[i][j][k]\n",
    "            X1[i]=q\t\t\n",
    "        for i in range (N):\n",
    "            for j in range (M):\n",
    "                bx[i][j]= b[i][j]+XIN[i][j]-XOUT[i][j]\n",
    "        for i in range (N):\n",
    "            for j in range (M):\n",
    "                if bx[i][j]>RD[i][t]:\n",
    "                    bD[i][j]= bx[i][j]-RD[i][t]\n",
    "                    issue[i][j]=RD[i][t]\n",
    "                    RD[i][t]=0\n",
    "                else:\n",
    "                    issue[i][j]=bx[i][j]\n",
    "                    bD[i][j]=0\n",
    "                    RD[i][t]=RD[i][t]-bx[i][j]\n",
    "            if RD[i][t]>0:\n",
    "                F[i]=RD[i][t]\t\n",
    "        for i in range (N):\n",
    "            Ounit[i]= bD[i][0] \n",
    "        for i in range (N):\n",
    "            j=1\n",
    "            k=0\n",
    "            while j<M:\n",
    "                k= k+bD[i][j]\n",
    "                j=j+1\n",
    "            Hunit[i]=k\n",
    "        for i in range (N):\n",
    "            for j in range (M):\n",
    "                if j==(M-1):\n",
    "                    by[i][j]=Y[i] \n",
    "                else:\n",
    "                    by[i][j]= bD[i][j+1]\n",
    "        for i in range (N):\n",
    "            for j in range (M):\t\n",
    "                b[i][j]=by[i][j]\t\t\t\t\n",
    "        for i in range (N):\n",
    "            Corder= Corder +R[i]*Y[i]\n",
    "        for i in range (N):\n",
    "                for j in range (N):\n",
    "                    for l in range (M):\n",
    "                        Ctrans = Ctrans+C[i][j]*X[i][j][l]\n",
    "        for i in range (N):\n",
    "            Cshort=Cshort+F[i]*G[i]\n",
    "            Chold=Chold+Hunit[i]*H[i]\n",
    "            Cout=Cout+Ounit[i]*E[i]\n",
    "        CTS[t]=Corder+Ctrans+Cshort+Chold+Cout\n",
    "        shortage[t]=Cshort\n",
    "        Orders[t]=Corder\n",
    "        # adding the trans and hoding cost and count\n",
    "        TransCost[t]=Ctrans\n",
    "        HoldCost[t]=Chold\n",
    "        CoutCost[t]=Cout\n",
    "        ## continue with others\n",
    "        CTSTotal = CTSTotal+CTS[t]\n",
    "        fiholdcost.write((\"\\n\\n[\"))\n",
    "\n",
    "        for item in Hunit:\n",
    "            fiholdcost.write(\"%s,\" % item) \n",
    "        fiholdcost.write(\"]\")\n",
    "        fitranscost.write((\"\\n\\n[\"))\n",
    "        for item in X1:\n",
    "            fitranscost.write(\"%s,\" % item) \n",
    "        fitranscost.write(\"]\")\n",
    "        fiorder.write((\"\\n\\n[\"))\n",
    "        for item in Y:\n",
    "            fiorder.write(\"%s,\" % item) \n",
    "        fiorder.write(\"]\")\n",
    "        fiout.write((\"\\n\\n[\"))\n",
    "        for item in Ounit:\n",
    "            fiout.write(\"%s,\" % item)\n",
    "        fiout.write(\"]\")\n",
    "        fishortage.write((\"\\n\\n[\"))\n",
    "        for item in F:\n",
    "            fishortage.write(\"%s,\" % item)\n",
    "        fishortage.write(\"]\")\n",
    "        fitrans.write((\"\\n[\"))\n",
    "        for item in d:\n",
    "            fitrans.write(\"%s,\" % item)\n",
    "        fiissue.write((\"\\n\\n[\"))\n",
    "        for item in issue:\n",
    "            fiissue.write(\"%s,\" % item)\n",
    "        fiissue.write(\"]\")\t\n",
    "        \n",
    "        fiinventoryTS.write((\"\\n[\"))\n",
    "        for item in bx:                   # b: inventory after transshipment \n",
    "            fiinventoryTS.write(\"%s,\" % item) \n",
    "        fiinventoryTS.write(\"]\") \n",
    "        \n",
    "    fo = open('ncost.txt', 'w')\n",
    "    fo.write(\"\\n\\n[\")\n",
    "    for item in CTS:\n",
    "        fo.write(\"%s,\" % item)\n",
    "    fo.write(\"]\")\n",
    "    fo.write(\"\\n\\nCTSTotal=\")\n",
    "    fo.write(\"%s\" %CTSTotal) \n",
    "    \n",
    "    fo.close() \n",
    "    fiorder.close()\n",
    "    fiout.close()\n",
    "    fitrans.close()\n",
    "    fishortage.close()   \n",
    "    fiissue.close()\t\n",
    "    fiinventory.close()\n",
    "    fiinventoryTS.close()\n",
    "    fiholdcost.close()\t\n",
    "    fitranscost.close()       \n",
    "\t\n",
    "\n",
    "#print (RD)\n",
    "#print (CTS)\n",
    "    #print ('Average Cost:',np.mean(CTS))\n",
    "    #print ('std of Cost:',np.std(CTS))\n",
    "    #print('NO. of days:',len(df))\n",
    "    \n",
    "    return( shortage,Orders,CTS,HoldCost,TransCost,CoutCost)"
   ]
  },
  {
   "cell_type": "code",
   "execution_count": 6,
   "metadata": {},
   "outputs": [
    {
     "name": "stdout",
     "output_type": "stream",
     "text": [
      "/Users/mahdi/Documents/Postdoc/RMIT /Code/new/50/fwdcodesMLP\n"
     ]
    }
   ],
   "source": [
    "%cd '/Users/mahdi/Documents/Postdoc/RMIT /Code/new/50/fwdcodesMLP'\n",
    "    \n",
    "df = pd.read_csv('/Users/mahdi/Documents/Postdoc/RMIT /Code/new/50/fwdcodesMLP/Final14.csv')\n",
    "# Getting dataframe columns names\n",
    "df_name=df.columns\n",
    "\n",
    "days=np.arange(len(df))+1\n",
    "\n",
    "data = np.load('final14.npy')\n",
    "Xin=data[0:period,0:44]\n",
    "yin=data[0:period,44:224] #only outputs\n"
   ]
  },
  {
   "cell_type": "code",
   "execution_count": 7,
   "metadata": {},
   "outputs": [
    {
     "data": {
      "text/plain": [
       "9250"
      ]
     },
     "execution_count": 7,
     "metadata": {},
     "output_type": "execute_result"
    }
   ],
   "source": [
    "period"
   ]
  },
  {
   "cell_type": "code",
   "execution_count": 8,
   "metadata": {},
   "outputs": [],
   "source": [
    "dfDemand = pd.read_excel('/Users/mahdi/Documents/Postdoc/RMIT /Code/new/50/fwdcodesMLP/demand2.xlsx')\n",
    "\n",
    "dmnd=dfDemand\n",
    "Demand=[dmnd['Demand1'].values.tolist(),dmnd['Demand2'].values.tolist(),dmnd['Demand3'].values.tolist(),\n",
    "    dmnd['Demand4'].values.tolist()]"
   ]
  },
  {
   "cell_type": "code",
   "execution_count": 9,
   "metadata": {},
   "outputs": [],
   "source": [
    "from sklearn.model_selection import train_test_split\n",
    "X_train, X_test, y_train, y_test = train_test_split(Xin, yin, test_size=0.10, random_state=45)"
   ]
  },
  {
   "cell_type": "code",
   "execution_count": 158,
   "metadata": {},
   "outputs": [
    {
     "name": "stdout",
     "output_type": "stream",
     "text": [
      "/Users/mahdi/Documents/Postdoc/RMIT /Code/new/50/fwdcodesMLP\n"
     ]
    }
   ],
   "source": [
    "%cd '/Users/mahdi/Documents/Postdoc/RMIT /Code/new/50/fwdcodesMLP'\n",
    "\n",
    "X_train_n = np.load('X_train_n.npy', allow_pickle=True)"
   ]
  },
  {
   "cell_type": "code",
   "execution_count": 159,
   "metadata": {
    "scrolled": false
   },
   "outputs": [
    {
     "data": {
      "text/plain": [
       "(9250, 44)"
      ]
     },
     "execution_count": 159,
     "metadata": {},
     "output_type": "execute_result"
    }
   ],
   "source": [
    "Xin.shape"
   ]
  },
  {
   "cell_type": "code",
   "execution_count": 196,
   "metadata": {},
   "outputs": [],
   "source": [
    "from sklearn.neural_network import MLPRegressor\n",
    "from sklearn.preprocessing import StandardScaler\n",
    "scaler = StandardScaler()\n",
    "Xtransform=scaler.fit_transform(Xin)  # normalizing inputs"
   ]
  },
  {
   "cell_type": "code",
   "execution_count": 227,
   "metadata": {},
   "outputs": [
    {
     "data": {
      "text/plain": [
       "array([[-0.15753819, -0.26634724, -0.33008378, ...,  2.07075279,\n",
       "         2.07075279, -1.72495405],\n",
       "       [-0.15753819, -0.26634724,  4.58662304, ...,  1.18693451,\n",
       "         1.18693451, -1.72470826],\n",
       "       [-0.15753819, -0.26634724, -0.33008378, ...,  0.8334072 ,\n",
       "         0.8334072 , -1.72444281],\n",
       "       ...,\n",
       "       [-0.15753819, -0.26634724, -0.33008378, ..., -0.93422936,\n",
       "        -0.93422936,  1.71838256],\n",
       "       [-0.15753819, -0.26634724, -0.33008378, ..., -0.58070205,\n",
       "        -0.58070205,  1.71882936],\n",
       "       [-0.15753819, -0.26634724,  2.94772077, ..., -0.93422936,\n",
       "        -0.93422936,  1.71925758]])"
      ]
     },
     "execution_count": 227,
     "metadata": {},
     "output_type": "execute_result"
    }
   ],
   "source": []
  },
  {
   "cell_type": "code",
   "execution_count": 24,
   "metadata": {},
   "outputs": [],
   "source": [
    "from sklearn.multioutput import MultiOutputRegressor"
   ]
  },
  {
   "cell_type": "code",
   "execution_count": 56,
   "metadata": {
    "scrolled": true
   },
   "outputs": [],
   "source": [
    "mlp = MultiOutputRegressor(MLPRegressor(hidden_layer_sizes=(7,7), activation= 'tanh', momentum= 0.7, solver= 'adam')).fit(Xtransform, yin)"
   ]
  },
  {
   "cell_type": "code",
   "execution_count": 26,
   "metadata": {},
   "outputs": [],
   "source": [
    "shortage_mlp1,Orders_mlp1,CTS_mlp1, Inventory_mlp1, Trans_mlp1, Out_mlp1 =cost(scaler,dmnd,mlp,cost_shortage=14, cost_outdate=11)"
   ]
  },
  {
   "cell_type": "code",
   "execution_count": 27,
   "metadata": {},
   "outputs": [
    {
     "data": {
      "text/plain": [
       "(76.78518918918918,\n",
       " 5.339675675675676,\n",
       " 22.425405405405407,\n",
       " 45.391351351351354,\n",
       " 1.7652972972972973,\n",
       " 1.8634594594594596)"
      ]
     },
     "execution_count": 27,
     "metadata": {},
     "output_type": "execute_result"
    }
   ],
   "source": [
    "np.mean(CTS_mlp1) ,np.mean(shortage_mlp1),np.mean(Orders_mlp1), np.mean(Inventory_mlp1), np.mean(Trans_mlp1), np.mean(Out_mlp1) "
   ]
  },
  {
   "cell_type": "code",
   "execution_count": null,
   "metadata": {},
   "outputs": [],
   "source": []
  },
  {
   "cell_type": "code",
   "execution_count": 60,
   "metadata": {},
   "outputs": [],
   "source": [
    "Xtransform_n=scaler.fit_transform(X_train_n[0:9250,:])  # normalizing inputs "
   ]
  },
  {
   "cell_type": "code",
   "execution_count": 61,
   "metadata": {},
   "outputs": [
    {
     "name": "stderr",
     "output_type": "stream",
     "text": [
      "/Users/mahdi/opt/anaconda3/lib/python3.6/site-packages/sklearn/neural_network/_multilayer_perceptron.py:571: ConvergenceWarning: Stochastic Optimizer: Maximum iterations (200) reached and the optimization hasn't converged yet.\n",
      "  % self.max_iter, ConvergenceWarning)\n"
     ]
    }
   ],
   "source": [
    "mlpn = MLPRegressor(hidden_layer_sizes=(7,7), activation= 'tanh', momentum= 0.7, solver= 'adam')\n",
    "mlpn = mlpn.fit(Xtransform_n,yin[0:9250,])"
   ]
  },
  {
   "cell_type": "code",
   "execution_count": 62,
   "metadata": {},
   "outputs": [],
   "source": [
    "shortage_mlpn,Orders_mlpn,CTS_mlpn, Inventory_mlpn, Trans_mlpn, Out_mlpn =costn(scaler,dmnd,mlpn,cost_shortage=14, cost_outdate=11)"
   ]
  },
  {
   "cell_type": "code",
   "execution_count": 63,
   "metadata": {
    "scrolled": false
   },
   "outputs": [
    {
     "data": {
      "text/plain": [
       "(121.05691891891892,\n",
       " 63.39048648648649,\n",
       " 18.33308108108108,\n",
       " 36.88518918918919,\n",
       " 0.0008108108108108108,\n",
       " 2.4473513513513514)"
      ]
     },
     "execution_count": 63,
     "metadata": {},
     "output_type": "execute_result"
    }
   ],
   "source": [
    "np.mean(CTS_mlpn) ,np.mean(shortage_mlpn),np.mean(Orders_mlpn), np.mean(Inventory_mlpn), np.mean(Trans_mlpn), np.mean(Out_mlpn) "
   ]
  },
  {
   "cell_type": "code",
   "execution_count": null,
   "metadata": {},
   "outputs": [],
   "source": []
  },
  {
   "cell_type": "code",
   "execution_count": 27,
   "metadata": {
    "scrolled": true
   },
   "outputs": [],
   "source": [
    "#pip install hep_ml"
   ]
  },
  {
   "cell_type": "code",
   "execution_count": 85,
   "metadata": {},
   "outputs": [],
   "source": [
    "import hep_ml as hml"
   ]
  },
  {
   "cell_type": "code",
   "execution_count": 86,
   "metadata": {
    "scrolled": true
   },
   "outputs": [],
   "source": [
    "from hep_ml.nnet import MLPRegressor"
   ]
  },
  {
   "cell_type": "code",
   "execution_count": 118,
   "metadata": {},
   "outputs": [],
   "source": [
    "#network1 = MLPRegressor(layers=[7,7], loss='mae_loss', trainer='irprop-', epochs=100)\n",
    "network2 = MLPRegressor(layers=[7,7], loss='mse_loss', trainer='irprop-', epochs=100)\n",
    "network3 = MLPRegressor(layers=[7,7], loss='smooth_huber_loss', trainer='irprop-', epochs=50)\n",
    "#network1.fit(X_train, yin[0:1665,1])\n",
    "#probability = network1.predict(X_test)"
   ]
  },
  {
   "cell_type": "code",
   "execution_count": 92,
   "metadata": {},
   "outputs": [],
   "source": [
    "#git clone https://github.com/arogozhnikov/hep_ml.git\n",
    "#cd hep_ml\n",
    "#pip install ."
   ]
  },
  {
   "cell_type": "code",
   "execution_count": 19,
   "metadata": {
    "scrolled": true
   },
   "outputs": [],
   "source": [
    "#mlp1 = MultiOutputRegressor(network1).fit(Xtransform, yin)"
   ]
  },
  {
   "cell_type": "code",
   "execution_count": 208,
   "metadata": {},
   "outputs": [],
   "source": [
    "shortage_mlp1,Orders_mlp1,CTS_mlp1, Inventory_mlp1, Trans_mlp1, Out_mlp1 =cost(scaler,dmnd,mlp1,cost_shortage=14, cost_outdate=11)"
   ]
  },
  {
   "cell_type": "code",
   "execution_count": 209,
   "metadata": {},
   "outputs": [
    {
     "data": {
      "text/plain": [
       "(77.19243243243243,\n",
       " 5.6454054054054055,\n",
       " 22.173513513513512,\n",
       " 45.71081081081081,\n",
       " 1.4805405405405405,\n",
       " 2.1821621621621623)"
      ]
     },
     "execution_count": 209,
     "metadata": {},
     "output_type": "execute_result"
    }
   ],
   "source": [
    "np.mean(CTS_mlp1) ,np.mean(shortage_mlp1),np.mean(Orders_mlp1), np.mean(Inventory_mlp1), np.mean(Trans_mlp1), np.mean(Out_mlp1) "
   ]
  },
  {
   "cell_type": "code",
   "execution_count": null,
   "metadata": {},
   "outputs": [],
   "source": []
  },
  {
   "cell_type": "code",
   "execution_count": 91,
   "metadata": {},
   "outputs": [],
   "source": [
    "mlp2 = MultiOutputRegressor(network2).fit(Xtransform, yin)"
   ]
  },
  {
   "cell_type": "code",
   "execution_count": 93,
   "metadata": {},
   "outputs": [],
   "source": [
    "shortage_mlp2,Orders_mlp2,CTS_mlp2, Inventory_mlp2, Trans_mlp2, Out_mlp2 = cost(scaler,dmnd,mlp2,cost_shortage=14, cost_outdate=11)"
   ]
  },
  {
   "cell_type": "code",
   "execution_count": 94,
   "metadata": {},
   "outputs": [
    {
     "data": {
      "text/plain": [
       "(77.3108108108108,\n",
       " 6.74572972972973,\n",
       " 22.33545945945946,\n",
       " 44.83448648648648,\n",
       " 1.4127567567567567,\n",
       " 1.9823783783783784)"
      ]
     },
     "execution_count": 94,
     "metadata": {},
     "output_type": "execute_result"
    }
   ],
   "source": [
    "np.mean(CTS_mlp2) ,np.mean(shortage_mlp2),np.mean(Orders_mlp2), np.mean(Inventory_mlp2), np.mean(Trans_mlp2), np.mean(Out_mlp2) "
   ]
  },
  {
   "cell_type": "code",
   "execution_count": 209,
   "metadata": {
    "scrolled": true
   },
   "outputs": [
    {
     "data": {
      "text/plain": [
       "(77.19243243243243,\n",
       " 5.6454054054054055,\n",
       " 22.173513513513512,\n",
       " 45.71081081081081,\n",
       " 1.4805405405405405,\n",
       " 2.1821621621621623)"
      ]
     },
     "execution_count": 209,
     "metadata": {},
     "output_type": "execute_result"
    }
   ],
   "source": [
    "np.mean(CTS_mlp2) ,np.mean(shortage_mlp2),np.mean(Orders_mlp2), np.mean(Inventory_mlp2), np.mean(Trans_mlp2), np.mean(Out_mlp2) "
   ]
  },
  {
   "cell_type": "code",
   "execution_count": 329,
   "metadata": {},
   "outputs": [],
   "source": [
    "mlp2n = MultiOutputRegressor(network2).fit(Xtransform_n, yin)"
   ]
  },
  {
   "cell_type": "code",
   "execution_count": 330,
   "metadata": {},
   "outputs": [],
   "source": [
    "shortage_mlp2n,Orders_mlp2n,CTS_mlp2n, Inventory_mlp2n, Trans_mlp2n, Out_mlp2n = costn(scaler,dmnd,mlp2n,cost_shortage=14, cost_outdate=11)"
   ]
  },
  {
   "cell_type": "code",
   "execution_count": 331,
   "metadata": {},
   "outputs": [
    {
     "data": {
      "text/plain": [
       "(299.72335135135137,\n",
       " 148.99935135135135,\n",
       " 14.308756756756758,\n",
       " 110.27913513513514,\n",
       " 0.7397837837837837,\n",
       " 25.396324324324326)"
      ]
     },
     "execution_count": 331,
     "metadata": {},
     "output_type": "execute_result"
    }
   ],
   "source": [
    "np.mean(CTS_mlp2n) ,np.mean(shortage_mlp2n),np.mean(Orders_mlp2n), np.mean(Inventory_mlp2n), np.mean(Trans_mlp2n), np.mean(Out_mlp2n) "
   ]
  },
  {
   "cell_type": "code",
   "execution_count": 94,
   "metadata": {},
   "outputs": [
    {
     "data": {
      "text/plain": [
       "(77.3108108108108,\n",
       " 6.74572972972973,\n",
       " 22.33545945945946,\n",
       " 44.83448648648648,\n",
       " 1.4127567567567567,\n",
       " 1.9823783783783784)"
      ]
     },
     "execution_count": 94,
     "metadata": {},
     "output_type": "execute_result"
    }
   ],
   "source": [
    "np.mean(CTS_mlp2) ,np.mean(shortage_mlp2),np.mean(Orders_mlp2), np.mean(Inventory_mlp2), np.mean(Trans_mlp2), np.mean(Out_mlp2) "
   ]
  },
  {
   "cell_type": "code",
   "execution_count": null,
   "metadata": {},
   "outputs": [],
   "source": []
  },
  {
   "cell_type": "code",
   "execution_count": 95,
   "metadata": {},
   "outputs": [],
   "source": [
    "np.save('mlp2.npy',mlp2)"
   ]
  },
  {
   "cell_type": "code",
   "execution_count": 96,
   "metadata": {},
   "outputs": [],
   "source": [
    "np.save('mlp2_res.npy',[shortage_mlp2,Orders_mlp2,CTS_mlp2, Inventory_mlp2, Trans_mlp2, Out_mlp2])"
   ]
  },
  {
   "cell_type": "code",
   "execution_count": null,
   "metadata": {},
   "outputs": [],
   "source": []
  },
  {
   "cell_type": "code",
   "execution_count": 119,
   "metadata": {},
   "outputs": [],
   "source": [
    "mlp3 = MultiOutputRegressor(network3).fit(Xtransform, yin)"
   ]
  },
  {
   "cell_type": "code",
   "execution_count": 120,
   "metadata": {},
   "outputs": [],
   "source": [
    "shortage_ml3,Orders_mlp3,CTS_mlp3, Inventory_mlp3, Trans_mlp3, Out_mlp3 =cost(scaler,dmnd,mlp3,cost_shortage=14, cost_outdate=11)"
   ]
  },
  {
   "cell_type": "code",
   "execution_count": 121,
   "metadata": {
    "scrolled": false
   },
   "outputs": [
    {
     "data": {
      "text/plain": [
       "(89.68956756756756,\n",
       " 23.530594594594593,\n",
       " 21.183243243243243,\n",
       " 42.293729729729726,\n",
       " 0.16686486486486488,\n",
       " 2.515135135135135)"
      ]
     },
     "execution_count": 121,
     "metadata": {},
     "output_type": "execute_result"
    }
   ],
   "source": [
    "np.mean(CTS_mlp3) ,np.mean(shortage_ml3),np.mean(Orders_mlp3), np.mean(Inventory_mlp3), np.mean(Trans_mlp3), np.mean(Out_mlp3) "
   ]
  },
  {
   "cell_type": "code",
   "execution_count": 239,
   "metadata": {},
   "outputs": [
    {
     "data": {
      "text/plain": [
       "(77.4472972972973,\n",
       " 7.075675675675676,\n",
       " 22.077297297297296,\n",
       " 45.49567567567568,\n",
       " 0.5213513513513514,\n",
       " 2.2772972972972974)"
      ]
     },
     "execution_count": 239,
     "metadata": {},
     "output_type": "execute_result"
    }
   ],
   "source": [
    "np.mean(CTS_mlp3) ,np.mean(shortage_ml3),np.mean(Orders_mlp3), np.mean(Inventory_mlp3), np.mean(Trans_mlp3), np.mean(Out_mlp3) "
   ]
  },
  {
   "cell_type": "code",
   "execution_count": 122,
   "metadata": {},
   "outputs": [],
   "source": [
    "np.save('mlp3.npy',mlp3)"
   ]
  },
  {
   "cell_type": "code",
   "execution_count": 123,
   "metadata": {},
   "outputs": [],
   "source": [
    "np.save('mlp3_res.npy',[shortage_ml3,Orders_mlp3,CTS_mlp3, Inventory_mlp3, Trans_mlp3, Out_mlp3])"
   ]
  },
  {
   "cell_type": "code",
   "execution_count": 161,
   "metadata": {},
   "outputs": [],
   "source": [
    "mlp3n = MultiOutputRegressor(network3).fit(Xtransform_n, yin)"
   ]
  },
  {
   "cell_type": "code",
   "execution_count": 326,
   "metadata": {},
   "outputs": [],
   "source": [
    "shortage_mlp3n,Orders_mlp3n,CTS_mlp3n, Inventory_mlp3n, Trans_mlp3n, Out_mlp3n =costn(scaler,dmnd,mlp3n,cost_shortage=14, cost_outdate=11)"
   ]
  },
  {
   "cell_type": "code",
   "execution_count": 327,
   "metadata": {
    "scrolled": false
   },
   "outputs": [
    {
     "data": {
      "text/plain": [
       "(301.7194594594595,\n",
       " 105.336,\n",
       " 17.906486486486486,\n",
       " 147.872,\n",
       " 0.0,\n",
       " 30.604972972972973)"
      ]
     },
     "execution_count": 327,
     "metadata": {},
     "output_type": "execute_result"
    }
   ],
   "source": [
    "np.mean(CTS_mlp3n) ,np.mean(shortage_mlp3n),np.mean(Orders_mlp3n), np.mean(Inventory_mlp3n), np.mean(Trans_mlp3n), np.mean(Out_mlp3n) "
   ]
  },
  {
   "cell_type": "code",
   "execution_count": 2,
   "metadata": {},
   "outputs": [],
   "source": []
  },
  {
   "cell_type": "code",
   "execution_count": 97,
   "metadata": {
    "scrolled": true
   },
   "outputs": [],
   "source": [
    "#from tensorflow.keras.models import Sequential\n",
    "#from tensorflow.keras.layers import Dense# Load dependencies\n",
    "\n",
    "# Load data\n",
    "#dataset = np.loadtxt('./chennai_reservoir_levels.csv', delimiter='|', skiprows=1, usecols=(1,2,3,4))\n",
    "\n",
    "# Shuffle dataset\n",
    "#np.random.shuffle(dataset)\n",
    "\n",
    "# Separate features and targets\n",
    "#X = Xtransform_n\n",
    "#Y = yin\n",
    "\n",
    "# Set the input shape\n",
    "#input_shape = (44,)\n",
    " \n",
    "# Create the model\n",
    "#model = Sequential()\n",
    "#model.add(Dense(16, input_shape=input_shape, activation='relu'))\n",
    "#model.add(Dense(8, activation='relu'))\n",
    "#model.add(Dense(180, activation='linear'))\n",
    "\n",
    "# Configure the model and start training\n",
    "#model.compile(loss='mean_absolute_error', optimizer='adam', metrics=['mean_absolute_error'])\n",
    "#model.fit(X, Y, epochs=100, batch_size=5, verbose=1, validation_split=0.2)"
   ]
  },
  {
   "cell_type": "code",
   "execution_count": 196,
   "metadata": {
    "scrolled": true
   },
   "outputs": [],
   "source": [
    "#mlpk1=np.array(model.predict(Xtransform_n).tolist())"
   ]
  },
  {
   "cell_type": "code",
   "execution_count": 197,
   "metadata": {},
   "outputs": [],
   "source": [
    "#mlpk1[mlpk1<0]=0"
   ]
  },
  {
   "cell_type": "code",
   "execution_count": 198,
   "metadata": {},
   "outputs": [],
   "source": [
    "#mlpk=mlpk1"
   ]
  },
  {
   "cell_type": "code",
   "execution_count": 199,
   "metadata": {
    "scrolled": true
   },
   "outputs": [],
   "source": [
    "#shortage_mlpn,Orders_mlpn,CTS_mlpn, Inventory_mlpn, Trans_mlpn, Out_mlpn =costK(scaler,dmnd,model,cost_shortage=14, cost_outdate=11)"
   ]
  },
  {
   "cell_type": "code",
   "execution_count": 98,
   "metadata": {
    "scrolled": false
   },
   "outputs": [],
   "source": [
    "#np.nanmean(CTS_mlpn) ,np.mean(shortage_mlpn),np.mean(Orders_mlpn), np.mean(Inventory_mlpn), np.mean(Trans_mlpn), np.mean(Out_mlpn) "
   ]
  },
  {
   "cell_type": "code",
   "execution_count": 33,
   "metadata": {},
   "outputs": [],
   "source": [
    "# Separate features and targets\n",
    "#X = Xtransform_n\n",
    "#Y = yin \n",
    "# Set the input shape\n",
    "#input_shape = (44,)\n",
    " \n",
    "# Create the model\n",
    "#model2 = Sequential()\n",
    "#model2.add(Dense(32, input_shape=input_shape, activation='relu'))\n",
    "#model.add(Dense(8, activation='relu'))\n",
    "#model2.add(Dense(180, activation='linear'))\n",
    "\n",
    "# Configure the model and start training\n",
    "#model2.compile(loss='mean_squared_error', optimizer='adam', metrics=['mean_squared_error'])\n",
    "#model2.fit(X, Y, epochs=500, batch_size=1, verbose=1, validation_split=0.2)"
   ]
  },
  {
   "cell_type": "code",
   "execution_count": 157,
   "metadata": {},
   "outputs": [],
   "source": [
    "#shortage_mlpn2, Orders_mlpn2, CTS_mlpn2, Inventory_mlpn2, Trans_mlpn2, Out_mlpn2 =costK(scaler,dmnd,mlpn2,cost_shortage=14, cost_outdate=11)"
   ]
  },
  {
   "cell_type": "code",
   "execution_count": 153,
   "metadata": {
    "scrolled": true
   },
   "outputs": [],
   "source": [
    "#mlpk2=np.array(model2.predict(Xtransform_n).tolist())"
   ]
  },
  {
   "cell_type": "code",
   "execution_count": 154,
   "metadata": {},
   "outputs": [],
   "source": [
    "#mlpk2[mlpk2<0]=0"
   ]
  },
  {
   "cell_type": "code",
   "execution_count": 156,
   "metadata": {
    "scrolled": true
   },
   "outputs": [],
   "source": [
    "#shortage_mlpk2,Orders_mlpk2,CTS_mlpk2, Inventory_mlpk2, Trans_mlpk2, Out_mlpk2 =costK(scaler,dmnd,model2,cost_shortage=14, cost_outdate=11)"
   ]
  },
  {
   "cell_type": "code",
   "execution_count": 34,
   "metadata": {
    "scrolled": true
   },
   "outputs": [],
   "source": [
    "#np.nanmean(CTS_mlpk2) ,np.mean(shortage_mlpk2),np.mean(Orders_mlpk2), np.mean(Inventory_mlpk2), np.mean(Trans_mlpk2), np.mean(Out_mlpk2) "
   ]
  },
  {
   "cell_type": "code",
   "execution_count": 35,
   "metadata": {},
   "outputs": [],
   "source": [
    "# Separate features and targets\n",
    "#X = Xtransform_n\n",
    "#Y = yin \n",
    "# Set the input shape\n",
    "#input_shape = (44,)\n",
    " \n",
    "# Create the model\n",
    "#model3 = Sequential()\n",
    "#model3.add(Dense(32, input_shape=input_shape, activation='relu'))\n",
    "#model3.add(Dense(180, activation='relu'))\n",
    "#model3.add(Dense(180, activation='linear'))\n",
    "\n",
    "# Configure the model and start training\n",
    "#model3.compile(loss='huber_loss', optimizer='adam', metrics=['huber_error'])\n",
    "#model3.fit(X, Y, epochs=20, batch_size=1, verbose=1, validation_split=0.2)"
   ]
  },
  {
   "cell_type": "code",
   "execution_count": 181,
   "metadata": {
    "scrolled": true
   },
   "outputs": [],
   "source": [
    "mlpk3=np.array(model3.predict(Xtransform_n).tolist())"
   ]
  },
  {
   "cell_type": "code",
   "execution_count": 182,
   "metadata": {},
   "outputs": [],
   "source": [
    "mlpk3[mlpk3<0]=0"
   ]
  },
  {
   "cell_type": "code",
   "execution_count": 183,
   "metadata": {},
   "outputs": [],
   "source": [
    "mlpk=mlpk3"
   ]
  },
  {
   "cell_type": "code",
   "execution_count": 185,
   "metadata": {
    "scrolled": true
   },
   "outputs": [],
   "source": [
    "shortage_mlpk3,Orders_mlpk3,CTS_mlpk3, Inventory_mlpk3, Trans_mlpk3, Out_mlpk3 =costK(scaler,dmnd,model3,cost_shortage=14, cost_outdate=11)"
   ]
  },
  {
   "cell_type": "code",
   "execution_count": 36,
   "metadata": {
    "scrolled": false
   },
   "outputs": [],
   "source": [
    "#np.nanmean(CTS_mlpk3) ,np.mean(shortage_mlpk3),np.mean(Orders_mlpk3), np.mean(Inventory_mlpk3), np.mean(Trans_mlpk3), np.mean(Out_mlpk3) "
   ]
  },
  {
   "cell_type": "code",
   "execution_count": 27,
   "metadata": {},
   "outputs": [],
   "source": [
    "#np.save('DTresultsDemand2.npy',[ShortageMLP,OrdersMLP,costMLP])"
   ]
  },
  {
   "cell_type": "code",
   "execution_count": 124,
   "metadata": {},
   "outputs": [],
   "source": [
    "f = open('NewDemandtrans.txt', 'r')\n",
    "splitTS=[line.strip('[[') for line in f]\n",
    "#[print(line[0:2]) for line in f]\n",
    "\n",
    "f.close()"
   ]
  },
  {
   "cell_type": "code",
   "execution_count": 125,
   "metadata": {},
   "outputs": [],
   "source": [
    "## Read Transshipments to ndarray\n",
    "def TSread(split,i):\n",
    "    ts1=split[i]\n",
    "    ts2=ts1.strip('\\n')\n",
    "\n",
    "    ts3=ts2.strip(', ')\n",
    "\n",
    "    ts4=ts3.split(',')\n",
    "\n",
    "    ts5=np.array(ts4, dtype=float)\n",
    "    ts6=ts5.reshape(1,176)\n",
    "    \n",
    "    \n",
    "    return ts6"
   ]
  },
  {
   "cell_type": "code",
   "execution_count": 126,
   "metadata": {},
   "outputs": [],
   "source": [
    "## Transshipment matrix\n",
    "yts=np.empty((0,176))\n",
    "for i in np.arange(len(splitTS)):\n",
    "    \n",
    "    if len(splitTS[i])==1:\n",
    "        continue\n",
    "        \n",
    "        \n",
    "    yi=TSread(splitTS,i)\n",
    "    yts=np.append(yts,yi,axis=0)\n",
    "         "
   ]
  },
  {
   "cell_type": "code",
   "execution_count": 127,
   "metadata": {},
   "outputs": [
    {
     "data": {
      "text/plain": [
       "(9250, 176)"
      ]
     },
     "execution_count": 127,
     "metadata": {},
     "output_type": "execute_result"
    }
   ],
   "source": [
    "yts.shape"
   ]
  },
  {
   "cell_type": "code",
   "execution_count": 128,
   "metadata": {},
   "outputs": [
    {
     "data": {
      "text/html": [
       "<div>\n",
       "<style scoped>\n",
       "    .dataframe tbody tr th:only-of-type {\n",
       "        vertical-align: middle;\n",
       "    }\n",
       "\n",
       "    .dataframe tbody tr th {\n",
       "        vertical-align: top;\n",
       "    }\n",
       "\n",
       "    .dataframe thead th {\n",
       "        text-align: right;\n",
       "    }\n",
       "</style>\n",
       "<table border=\"1\" class=\"dataframe\">\n",
       "  <thead>\n",
       "    <tr style=\"text-align: right;\">\n",
       "      <th></th>\n",
       "      <th>h1a1h1</th>\n",
       "      <th>h1a2h1</th>\n",
       "      <th>h1a3h1</th>\n",
       "      <th>h1a4h1</th>\n",
       "      <th>h1a5h1</th>\n",
       "      <th>h1a6h1</th>\n",
       "      <th>h1a7h1</th>\n",
       "      <th>h1a8h1</th>\n",
       "      <th>h1a9h1</th>\n",
       "      <th>h1a10h1</th>\n",
       "      <th>...</th>\n",
       "      <th>h4a2h4</th>\n",
       "      <th>h4a3h4</th>\n",
       "      <th>h4a4h4</th>\n",
       "      <th>h4a5h4</th>\n",
       "      <th>h4a6h4</th>\n",
       "      <th>h4a7h4</th>\n",
       "      <th>h4a8h4</th>\n",
       "      <th>h4a9h4</th>\n",
       "      <th>h4a10h4</th>\n",
       "      <th>h4a11h4</th>\n",
       "    </tr>\n",
       "  </thead>\n",
       "  <tbody>\n",
       "    <tr>\n",
       "      <th>0</th>\n",
       "      <td>0.0</td>\n",
       "      <td>0.0</td>\n",
       "      <td>0.0</td>\n",
       "      <td>0.0</td>\n",
       "      <td>0.0</td>\n",
       "      <td>0.0</td>\n",
       "      <td>0.0</td>\n",
       "      <td>0.0</td>\n",
       "      <td>0.0</td>\n",
       "      <td>0.0</td>\n",
       "      <td>...</td>\n",
       "      <td>0.0</td>\n",
       "      <td>0.0</td>\n",
       "      <td>0.0</td>\n",
       "      <td>0.0</td>\n",
       "      <td>0.0</td>\n",
       "      <td>0.0</td>\n",
       "      <td>0.0</td>\n",
       "      <td>0.0</td>\n",
       "      <td>0.0</td>\n",
       "      <td>0.0</td>\n",
       "    </tr>\n",
       "    <tr>\n",
       "      <th>1</th>\n",
       "      <td>0.0</td>\n",
       "      <td>0.0</td>\n",
       "      <td>0.0</td>\n",
       "      <td>0.0</td>\n",
       "      <td>0.0</td>\n",
       "      <td>0.0</td>\n",
       "      <td>0.0</td>\n",
       "      <td>0.0</td>\n",
       "      <td>0.0</td>\n",
       "      <td>0.0</td>\n",
       "      <td>...</td>\n",
       "      <td>0.0</td>\n",
       "      <td>0.0</td>\n",
       "      <td>0.0</td>\n",
       "      <td>0.0</td>\n",
       "      <td>0.0</td>\n",
       "      <td>0.0</td>\n",
       "      <td>0.0</td>\n",
       "      <td>0.0</td>\n",
       "      <td>0.0</td>\n",
       "      <td>0.0</td>\n",
       "    </tr>\n",
       "    <tr>\n",
       "      <th>2</th>\n",
       "      <td>0.0</td>\n",
       "      <td>0.0</td>\n",
       "      <td>0.0</td>\n",
       "      <td>0.0</td>\n",
       "      <td>0.0</td>\n",
       "      <td>0.0</td>\n",
       "      <td>0.0</td>\n",
       "      <td>0.0</td>\n",
       "      <td>0.0</td>\n",
       "      <td>0.0</td>\n",
       "      <td>...</td>\n",
       "      <td>0.0</td>\n",
       "      <td>0.0</td>\n",
       "      <td>0.0</td>\n",
       "      <td>0.0</td>\n",
       "      <td>0.0</td>\n",
       "      <td>0.0</td>\n",
       "      <td>0.0</td>\n",
       "      <td>0.0</td>\n",
       "      <td>0.0</td>\n",
       "      <td>0.0</td>\n",
       "    </tr>\n",
       "    <tr>\n",
       "      <th>3</th>\n",
       "      <td>0.0</td>\n",
       "      <td>0.0</td>\n",
       "      <td>0.0</td>\n",
       "      <td>0.0</td>\n",
       "      <td>0.0</td>\n",
       "      <td>0.0</td>\n",
       "      <td>0.0</td>\n",
       "      <td>0.0</td>\n",
       "      <td>0.0</td>\n",
       "      <td>0.0</td>\n",
       "      <td>...</td>\n",
       "      <td>0.0</td>\n",
       "      <td>0.0</td>\n",
       "      <td>0.0</td>\n",
       "      <td>0.0</td>\n",
       "      <td>0.0</td>\n",
       "      <td>0.0</td>\n",
       "      <td>0.0</td>\n",
       "      <td>0.0</td>\n",
       "      <td>0.0</td>\n",
       "      <td>0.0</td>\n",
       "    </tr>\n",
       "    <tr>\n",
       "      <th>4</th>\n",
       "      <td>0.0</td>\n",
       "      <td>0.0</td>\n",
       "      <td>0.0</td>\n",
       "      <td>0.0</td>\n",
       "      <td>0.0</td>\n",
       "      <td>0.0</td>\n",
       "      <td>0.0</td>\n",
       "      <td>0.0</td>\n",
       "      <td>0.0</td>\n",
       "      <td>0.0</td>\n",
       "      <td>...</td>\n",
       "      <td>0.0</td>\n",
       "      <td>0.0</td>\n",
       "      <td>0.0</td>\n",
       "      <td>0.0</td>\n",
       "      <td>0.0</td>\n",
       "      <td>0.0</td>\n",
       "      <td>0.0</td>\n",
       "      <td>0.0</td>\n",
       "      <td>0.0</td>\n",
       "      <td>0.0</td>\n",
       "    </tr>\n",
       "  </tbody>\n",
       "</table>\n",
       "<p>5 rows × 176 columns</p>\n",
       "</div>"
      ],
      "text/plain": [
       "   h1a1h1  h1a2h1  h1a3h1  h1a4h1  h1a5h1  h1a6h1  h1a7h1  h1a8h1  h1a9h1  \\\n",
       "0     0.0     0.0     0.0     0.0     0.0     0.0     0.0     0.0     0.0   \n",
       "1     0.0     0.0     0.0     0.0     0.0     0.0     0.0     0.0     0.0   \n",
       "2     0.0     0.0     0.0     0.0     0.0     0.0     0.0     0.0     0.0   \n",
       "3     0.0     0.0     0.0     0.0     0.0     0.0     0.0     0.0     0.0   \n",
       "4     0.0     0.0     0.0     0.0     0.0     0.0     0.0     0.0     0.0   \n",
       "\n",
       "   h1a10h1  ...  h4a2h4  h4a3h4  h4a4h4  h4a5h4  h4a6h4  h4a7h4  h4a8h4  \\\n",
       "0      0.0  ...     0.0     0.0     0.0     0.0     0.0     0.0     0.0   \n",
       "1      0.0  ...     0.0     0.0     0.0     0.0     0.0     0.0     0.0   \n",
       "2      0.0  ...     0.0     0.0     0.0     0.0     0.0     0.0     0.0   \n",
       "3      0.0  ...     0.0     0.0     0.0     0.0     0.0     0.0     0.0   \n",
       "4      0.0  ...     0.0     0.0     0.0     0.0     0.0     0.0     0.0   \n",
       "\n",
       "   h4a9h4  h4a10h4  h4a11h4  \n",
       "0     0.0      0.0      0.0  \n",
       "1     0.0      0.0      0.0  \n",
       "2     0.0      0.0      0.0  \n",
       "3     0.0      0.0      0.0  \n",
       "4     0.0      0.0      0.0  \n",
       "\n",
       "[5 rows x 176 columns]"
      ]
     },
     "execution_count": 128,
     "metadata": {},
     "output_type": "execute_result"
    }
   ],
   "source": [
    "dfTS_name=df_name[44:220]\n",
    "dfTS=pd.DataFrame(yts, columns=dfTS_name)\n",
    "dfTS.head()"
   ]
  },
  {
   "cell_type": "code",
   "execution_count": 129,
   "metadata": {},
   "outputs": [],
   "source": [
    "## Sum of ages transshipped from each hospital\n",
    "TSh1a1=np.sum(dfTS.loc[:,('h1a1h1','h1a1h2','h1a1h3','h1a1h4')],axis=1)\n",
    "TSh1a1.name='TSh1a1'\n",
    "\n",
    "TSh1a2=np.sum(dfTS.loc[:,('h1a2h1','h1a2h2','h1a2h3','h1a2h4')],axis=1)\n",
    "TSh1a2.name='TSh1a2'\n",
    "\n",
    "TSh1a3=np.sum(dfTS.loc[:,('h1a3h1','h1a3h2','h1a3h3','h1a3h4')],axis=1)\n",
    "TSh1a3.name='TSh1a3'\n",
    "\n",
    "TSh1a4=np.sum(dfTS.loc[:,('h1a4h1','h1a4h2','h1a4h3','h1a4h4')],axis=1)\n",
    "TSh1a4.name='TSh1a4'\n",
    "\n",
    "TSh1a5=np.sum(dfTS.loc[:,('h1a5h1','h1a5h2','h1a5h3','h1a5h4')],axis=1)\n",
    "TSh1a5.name='TSh1a5'\n",
    "\n",
    "TSh1a6=np.sum(dfTS.loc[:,('h1a6h1','h1a6h2','h1a6h3','h1a6h4')],axis=1)\n",
    "TSh1a6.name='TSh1a6'\n",
    "\n",
    "TSh1a7=np.sum(dfTS.loc[:,('h1a7h1','h1a7h2','h1a7h3','h1a7h4')],axis=1)\n",
    "TSh1a7.name='TSh1a7'\n",
    "\n",
    "TSh1a8=np.sum(dfTS.loc[:,('h1a8h1','h1a8h2','h1a8h3','h1a8h4')],axis=1)\n",
    "TSh1a8.name='TSh1a8'\n",
    "\n",
    "TSh1a9=np.sum(dfTS.loc[:,('h1a9h1','h1a9h2','h1a9h3','h1a9h4')],axis=1)\n",
    "TSh1a9.name='TSh1a9'\n",
    "\n",
    "TSh1a10=np.sum(dfTS.loc[:,('h1a10h1','h1a10h2','h1a10h3','h1a10h4')],axis=1)\n",
    "TSh1a10.name='TSh1a10'\n",
    "\n",
    "TSh1a11=np.sum(dfTS.loc[:,('h1a11h1','h1a11h2','h1a11h3','h1a11h4')],axis=1)\n",
    "TSh1a11.name='TSh1a11'\n",
    "\n",
    "\n",
    "\n",
    "TSh2a1=np.sum(dfTS.loc[:,('h2a1h1','h2a1h2','h2a1h3','h2a1h4')],axis=1)\n",
    "TSh2a1.name='TSh2a1'\n",
    "\n",
    "TSh2a2=np.sum(dfTS.loc[:,('h2a2h1','h2a2h2','h2a2h3','h2a2h4')],axis=1)\n",
    "TSh2a2.name='TSh2a2'\n",
    "\n",
    "TSh2a3=np.sum(dfTS.loc[:,('h2a3h1','h2a3h2','h2a3h3','h2a3h4')],axis=1)\n",
    "TSh2a3.name='TSh2a3'\n",
    "\n",
    "TSh2a4=np.sum(dfTS.loc[:,('h2a4h1','h2a4h2','h2a4h3','h2a4h4')],axis=1)\n",
    "TSh2a4.name='TSh2a4'\n",
    "\n",
    "TSh2a5=np.sum(dfTS.loc[:,('h2a5h1','h2a5h2','h2a5h3','h2a5h4')],axis=1)\n",
    "TSh2a5.name='TSh2a5'\n",
    "\n",
    "TSh2a6=np.sum(dfTS.loc[:,('h2a6h1','h2a6h2','h2a6h3','h2a6h4')],axis=1)\n",
    "TSh2a6.name='TSh2a6'\n",
    "\n",
    "TSh2a7=np.sum(dfTS.loc[:,('h2a7h1','h2a7h2','h2a7h3','h2a7h4')],axis=1)\n",
    "TSh2a7.name='TSh2a7'\n",
    "\n",
    "TSh2a8=np.sum(dfTS.loc[:,('h2a8h1','h2a8h2','h2a8h3','h2a8h4')],axis=1)\n",
    "TSh2a8.name='TSh2a8'\n",
    "\n",
    "TSh2a9=np.sum(dfTS.loc[:,('h2a9h1','h2a9h2','h2a9h3','h2a9h4')],axis=1)\n",
    "TSh2a9.name='TSh2a9'\n",
    "\n",
    "TSh2a10=np.sum(dfTS.loc[:,('h2a10h1','h2a10h2','h2a10h3','h2a10h4')],axis=1)\n",
    "TSh2a10.name='TSh2a10'\n",
    "\n",
    "TSh2a11=np.sum(dfTS.loc[:,('h2a11h1','h2a11h2','h2a11h3','h2a11h4')],axis=1)\n",
    "TSh2a11.name='TSh2a11'\n",
    "\n",
    "\n",
    "\n",
    "TSh3a1=np.sum(dfTS.loc[:,('h3a1h1','h3a1h2','h3a1h3','h3a1h4')],axis=1)\n",
    "TSh3a1.name='TSh3a1'\n",
    "\n",
    "TSh3a2=np.sum(dfTS.loc[:,('h3a2h1','h3a2h2','h3a2h3','h3a2h4')],axis=1)\n",
    "TSh3a2.name='TSh3a2'\n",
    "\n",
    "TSh3a3=np.sum(dfTS.loc[:,('h3a3h1','h3a3h2','h3a3h3','h3a3h4')],axis=1)\n",
    "TSh3a3.name='TSh3a3'\n",
    "\n",
    "TSh3a4=np.sum(dfTS.loc[:,('h3a4h1','h3a4h2','h3a4h3','h3a4h4')],axis=1)\n",
    "TSh3a4.name='TSh3a4'\n",
    "\n",
    "TSh3a5=np.sum(dfTS.loc[:,('h3a5h1','h3a5h2','h3a5h3','h3a5h4')],axis=1)\n",
    "TSh3a5.name='TSh3a5'\n",
    "\n",
    "TSh3a6=np.sum(dfTS.loc[:,('h3a6h1','h3a6h2','h3a6h3','h3a6h4')],axis=1)\n",
    "TSh3a6.name='TSh3a6'\n",
    "\n",
    "TSh3a7=np.sum(dfTS.loc[:,('h3a7h1','h3a7h2','h3a7h3','h3a7h4')],axis=1)\n",
    "TSh3a7.name='TSh3a7'\n",
    "\n",
    "TSh3a8=np.sum(dfTS.loc[:,('h3a8h1','h3a8h2','h3a8h3','h3a8h4')],axis=1)\n",
    "TSh3a8.name='TSh3a8'\n",
    "\n",
    "TSh3a9=np.sum(dfTS.loc[:,('h3a9h1','h3a9h2','h3a9h3','h3a9h4')],axis=1)\n",
    "TSh3a9.name='TSh3a9'\n",
    "\n",
    "TSh3a10=np.sum(dfTS.loc[:,('h3a10h1','h3a10h2','h3a10h3','h3a10h4')],axis=1)\n",
    "TSh3a10.name='TSh3a10'\n",
    "\n",
    "TSh3a11=np.sum(dfTS.loc[:,('h3a11h1','h3a11h2','h3a11h3','h3a11h4')],axis=1)\n",
    "TSh3a11.name='TSh3a11'\n",
    "\n",
    "\n",
    "\n",
    "TSh4a1=np.sum(dfTS.loc[:,('h4a1h1','h4a1h2','h4a1h3','h4a1h4')],axis=1)\n",
    "TSh4a1.name='TSh4a1'\n",
    "\n",
    "TSh4a2=np.sum(dfTS.loc[:,('h4a2h1','h4a2h2','h4a2h3','h4a2h4')],axis=1)\n",
    "TSh4a2.name='TSh4a2'\n",
    "\n",
    "TSh4a3=np.sum(dfTS.loc[:,('h4a3h1','h4a3h2','h4a3h3','h4a3h4')],axis=1)\n",
    "TSh4a3.name='TSh4a3'\n",
    "\n",
    "TSh4a4=np.sum(dfTS.loc[:,('h4a4h1','h4a4h2','h4a4h3','h4a4h4')],axis=1)\n",
    "TSh4a4.name='TSh4a4'\n",
    "\n",
    "TSh4a5=np.sum(dfTS.loc[:,('h4a5h1','h4a5h2','h4a5h3','h4a5h4')],axis=1)\n",
    "TSh4a5.name='TSh4a5'\n",
    "\n",
    "TSh4a6=np.sum(dfTS.loc[:,('h4a6h1','h4a6h2','h4a6h3','h4a6h4')],axis=1)\n",
    "TSh4a6.name='TSh4a6'\n",
    "\n",
    "TSh4a7=np.sum(dfTS.loc[:,('h4a7h1','h4a7h2','h4a7h3','h4a7h4')],axis=1)\n",
    "TSh4a7.name='TSh4a7'\n",
    "\n",
    "TSh4a8=np.sum(dfTS.loc[:,('h4a8h1','h4a8h2','h4a8h3','h4a8h4')],axis=1)\n",
    "TSh4a8.name='TSh4a8'\n",
    "\n",
    "TSh4a9=np.sum(dfTS.loc[:,('h4a9h1','h4a9h2','h4a9h3','h4a9h4')],axis=1)\n",
    "TSh4a9.name='TSh4a9'\n",
    "\n",
    "TSh4a10=np.sum(dfTS.loc[:,('h4a10h1','h4a10h2','h4a10h3','h4a10h4')],axis=1)\n",
    "TSh4a10.name='TSh4a10'\n",
    "\n",
    "TSh4a11=np.sum(dfTS.loc[:,('h4a11h1','h4a11h2','h4a11h3','h4a11h4')],axis=1)\n",
    "TSh4a11.name='TSh4a11'\n",
    "\n",
    "TSsumAge=pd.concat([TSh1a1,TSh1a2,TSh1a3,TSh1a4,TSh1a5,TSh1a6,TSh1a7,TSh1a8,TSh1a9,TSh1a10,TSh1a11,\n",
    "                TSh2a1,TSh2a2,TSh2a3,TSh2a4,TSh2a5,TSh2a6,TSh2a7,TSh2a8,TSh2a9,TSh2a10,TSh2a11,\n",
    "                TSh3a1,TSh3a2,TSh3a3,TSh3a4,TSh3a5,TSh3a6,TSh3a7,TSh3a8,TSh3a9,TSh3a10,TSh3a11,\n",
    "                TSh4a1,TSh4a2,TSh4a3,TSh4a4,TSh4a5,TSh4a6,TSh4a7,TSh4a8,TSh4a9,TSh4a10,TSh4a11] \n",
    "            ,axis=1 )\n"
   ]
  },
  {
   "cell_type": "code",
   "execution_count": 130,
   "metadata": {},
   "outputs": [
    {
     "data": {
      "text/html": [
       "<div>\n",
       "<style scoped>\n",
       "    .dataframe tbody tr th:only-of-type {\n",
       "        vertical-align: middle;\n",
       "    }\n",
       "\n",
       "    .dataframe tbody tr th {\n",
       "        vertical-align: top;\n",
       "    }\n",
       "\n",
       "    .dataframe thead th {\n",
       "        text-align: right;\n",
       "    }\n",
       "</style>\n",
       "<table border=\"1\" class=\"dataframe\">\n",
       "  <thead>\n",
       "    <tr style=\"text-align: right;\">\n",
       "      <th></th>\n",
       "      <th>TSh1a1</th>\n",
       "      <th>TSh1a2</th>\n",
       "      <th>TSh1a3</th>\n",
       "      <th>TSh1a4</th>\n",
       "      <th>TSh1a5</th>\n",
       "      <th>TSh1a6</th>\n",
       "      <th>TSh1a7</th>\n",
       "      <th>TSh1a8</th>\n",
       "      <th>TSh1a9</th>\n",
       "      <th>TSh1a10</th>\n",
       "      <th>...</th>\n",
       "      <th>TSh4a2</th>\n",
       "      <th>TSh4a3</th>\n",
       "      <th>TSh4a4</th>\n",
       "      <th>TSh4a5</th>\n",
       "      <th>TSh4a6</th>\n",
       "      <th>TSh4a7</th>\n",
       "      <th>TSh4a8</th>\n",
       "      <th>TSh4a9</th>\n",
       "      <th>TSh4a10</th>\n",
       "      <th>TSh4a11</th>\n",
       "    </tr>\n",
       "  </thead>\n",
       "  <tbody>\n",
       "    <tr>\n",
       "      <th>0</th>\n",
       "      <td>0.0</td>\n",
       "      <td>0.0</td>\n",
       "      <td>0.0</td>\n",
       "      <td>0.0</td>\n",
       "      <td>0.0</td>\n",
       "      <td>0.0</td>\n",
       "      <td>0.0</td>\n",
       "      <td>0.0</td>\n",
       "      <td>0.0</td>\n",
       "      <td>0.0</td>\n",
       "      <td>...</td>\n",
       "      <td>0.0</td>\n",
       "      <td>0.0</td>\n",
       "      <td>0.0</td>\n",
       "      <td>0.0</td>\n",
       "      <td>0.0</td>\n",
       "      <td>0.0</td>\n",
       "      <td>0.0</td>\n",
       "      <td>0.0</td>\n",
       "      <td>0.0</td>\n",
       "      <td>0.0</td>\n",
       "    </tr>\n",
       "    <tr>\n",
       "      <th>1</th>\n",
       "      <td>0.0</td>\n",
       "      <td>1.0</td>\n",
       "      <td>0.0</td>\n",
       "      <td>0.0</td>\n",
       "      <td>0.0</td>\n",
       "      <td>0.0</td>\n",
       "      <td>0.0</td>\n",
       "      <td>0.0</td>\n",
       "      <td>0.0</td>\n",
       "      <td>0.0</td>\n",
       "      <td>...</td>\n",
       "      <td>0.0</td>\n",
       "      <td>0.0</td>\n",
       "      <td>0.0</td>\n",
       "      <td>0.0</td>\n",
       "      <td>0.0</td>\n",
       "      <td>0.0</td>\n",
       "      <td>0.0</td>\n",
       "      <td>0.0</td>\n",
       "      <td>0.0</td>\n",
       "      <td>0.0</td>\n",
       "    </tr>\n",
       "    <tr>\n",
       "      <th>2</th>\n",
       "      <td>0.0</td>\n",
       "      <td>0.0</td>\n",
       "      <td>0.0</td>\n",
       "      <td>0.0</td>\n",
       "      <td>0.0</td>\n",
       "      <td>0.0</td>\n",
       "      <td>0.0</td>\n",
       "      <td>0.0</td>\n",
       "      <td>0.0</td>\n",
       "      <td>0.0</td>\n",
       "      <td>...</td>\n",
       "      <td>0.0</td>\n",
       "      <td>0.0</td>\n",
       "      <td>0.0</td>\n",
       "      <td>0.0</td>\n",
       "      <td>0.0</td>\n",
       "      <td>0.0</td>\n",
       "      <td>0.0</td>\n",
       "      <td>0.0</td>\n",
       "      <td>0.0</td>\n",
       "      <td>0.0</td>\n",
       "    </tr>\n",
       "    <tr>\n",
       "      <th>3</th>\n",
       "      <td>0.0</td>\n",
       "      <td>0.0</td>\n",
       "      <td>0.0</td>\n",
       "      <td>0.0</td>\n",
       "      <td>0.0</td>\n",
       "      <td>0.0</td>\n",
       "      <td>0.0</td>\n",
       "      <td>0.0</td>\n",
       "      <td>0.0</td>\n",
       "      <td>0.0</td>\n",
       "      <td>...</td>\n",
       "      <td>0.0</td>\n",
       "      <td>0.0</td>\n",
       "      <td>0.0</td>\n",
       "      <td>0.0</td>\n",
       "      <td>0.0</td>\n",
       "      <td>0.0</td>\n",
       "      <td>0.0</td>\n",
       "      <td>0.0</td>\n",
       "      <td>0.0</td>\n",
       "      <td>0.0</td>\n",
       "    </tr>\n",
       "    <tr>\n",
       "      <th>4</th>\n",
       "      <td>0.0</td>\n",
       "      <td>0.0</td>\n",
       "      <td>0.0</td>\n",
       "      <td>0.0</td>\n",
       "      <td>0.0</td>\n",
       "      <td>0.0</td>\n",
       "      <td>0.0</td>\n",
       "      <td>0.0</td>\n",
       "      <td>0.0</td>\n",
       "      <td>0.0</td>\n",
       "      <td>...</td>\n",
       "      <td>0.0</td>\n",
       "      <td>0.0</td>\n",
       "      <td>0.0</td>\n",
       "      <td>0.0</td>\n",
       "      <td>0.0</td>\n",
       "      <td>0.0</td>\n",
       "      <td>0.0</td>\n",
       "      <td>0.0</td>\n",
       "      <td>0.0</td>\n",
       "      <td>0.0</td>\n",
       "    </tr>\n",
       "  </tbody>\n",
       "</table>\n",
       "<p>5 rows × 44 columns</p>\n",
       "</div>"
      ],
      "text/plain": [
       "   TSh1a1  TSh1a2  TSh1a3  TSh1a4  TSh1a5  TSh1a6  TSh1a7  TSh1a8  TSh1a9  \\\n",
       "0     0.0     0.0     0.0     0.0     0.0     0.0     0.0     0.0     0.0   \n",
       "1     0.0     1.0     0.0     0.0     0.0     0.0     0.0     0.0     0.0   \n",
       "2     0.0     0.0     0.0     0.0     0.0     0.0     0.0     0.0     0.0   \n",
       "3     0.0     0.0     0.0     0.0     0.0     0.0     0.0     0.0     0.0   \n",
       "4     0.0     0.0     0.0     0.0     0.0     0.0     0.0     0.0     0.0   \n",
       "\n",
       "   TSh1a10  ...  TSh4a2  TSh4a3  TSh4a4  TSh4a5  TSh4a6  TSh4a7  TSh4a8  \\\n",
       "0      0.0  ...     0.0     0.0     0.0     0.0     0.0     0.0     0.0   \n",
       "1      0.0  ...     0.0     0.0     0.0     0.0     0.0     0.0     0.0   \n",
       "2      0.0  ...     0.0     0.0     0.0     0.0     0.0     0.0     0.0   \n",
       "3      0.0  ...     0.0     0.0     0.0     0.0     0.0     0.0     0.0   \n",
       "4      0.0  ...     0.0     0.0     0.0     0.0     0.0     0.0     0.0   \n",
       "\n",
       "   TSh4a9  TSh4a10  TSh4a11  \n",
       "0     0.0      0.0      0.0  \n",
       "1     0.0      0.0      0.0  \n",
       "2     0.0      0.0      0.0  \n",
       "3     0.0      0.0      0.0  \n",
       "4     0.0      0.0      0.0  \n",
       "\n",
       "[5 rows x 44 columns]"
      ]
     },
     "execution_count": 130,
     "metadata": {},
     "output_type": "execute_result"
    }
   ],
   "source": [
    "TSsumAge.head()"
   ]
  },
  {
   "cell_type": "code",
   "execution_count": 131,
   "metadata": {},
   "outputs": [],
   "source": [
    "writer = pd.ExcelWriter('TSageSumsDT.xlsx')\n",
    "TSsumAge.to_excel(writer,'Sheet1')\n",
    "writer.save()"
   ]
  },
  {
   "cell_type": "code",
   "execution_count": 132,
   "metadata": {},
   "outputs": [],
   "source": [
    "import matplotlib.pyplot as plt"
   ]
  },
  {
   "cell_type": "code",
   "execution_count": 143,
   "metadata": {},
   "outputs": [],
   "source": [
    "def inventoryread(split,i):\n",
    "    p5=split[i]\n",
    "    p6=p5.strip('],]\\n')\n",
    "    p7=p6.split('],[')\n",
    "    xin=[p7[i].split(',') for i in [0,1,2,3]]\n",
    "    xin1=np.array(xin,dtype=float)\n",
    "    xin2=xin1.reshape(1,44)\n",
    "    \n",
    "    \n",
    "    return xin2\n",
    "       "
   ]
  },
  {
   "cell_type": "code",
   "execution_count": 144,
   "metadata": {},
   "outputs": [],
   "source": [
    "TSsmatrix=np.array(TSsumAge)\n",
    "#TSsmatrix=TSsumAge.as_matrix(columns=None)"
   ]
  },
  {
   "cell_type": "code",
   "execution_count": 145,
   "metadata": {},
   "outputs": [
    {
     "data": {
      "image/png": "[encoded data removed]",
      "text/plain": [
       "<Figure size 432x288 with 1 Axes>"
      ]
     },
     "metadata": {
      "needs_background": "light"
     },
     "output_type": "display_data"
    }
   ],
   "source": [
    "plt.close('all')\n",
    "plt.bar(np.arange(44), np.sum(TSsmatrix,axis=0))\n",
    "plt.xticks(np.arange(44),['h1a1','h1a2','h1a3','h1a4','h1a5','h1a6','h1a7','h1a8','h1a9','h1a10','h1a11',\n",
    "                'h2a1','h2a2','h2a3','h2a4','h2a5','h2a6','h2a7','h2a8','h2a9','h2a10','h2a11',\n",
    "                'h3a1','h3a2','h3a3','h3a4','h3a5','h3a6','h3a7','h3a8','h3a9','h3a10','h3a11',\n",
    "                'h4a1','h4a2','h4a3','h4a4','h4a5','h4a6','h4a7','h4a8','h4a9','h4a10','h4a11'] \n",
    "          ,fontsize=4,rotation=49)\n",
    "plt.title('Total transshipment between hospitals at each shelf life-MLP model')\n",
    "plt.savefig('RIDntransshipmentAge.pdf',bbox_inches='tight')"
   ]
  },
  {
   "cell_type": "code",
   "execution_count": 146,
   "metadata": {},
   "outputs": [],
   "source": [
    "Inve_TS=xin[:,0:44]-TSsmatrix[:,0:44]"
   ]
  },
  {
   "cell_type": "code",
   "execution_count": 147,
   "metadata": {
    "scrolled": false
   },
   "outputs": [
    {
     "name": "stdout",
     "output_type": "stream",
     "text": [
      "(9250, 44)\n"
     ]
    },
    {
     "data": {
      "text/plain": [
       "8"
      ]
     },
     "execution_count": 147,
     "metadata": {},
     "output_type": "execute_result"
    }
   ],
   "source": [
    "print(Inve_TS.shape)\n",
    "\n",
    "Inve_TS\n",
    "\n",
    "Negatives=np.where(Inve_TS<0)\n",
    "\n",
    "NegativeAge=Negatives[1]\n",
    "\n",
    "NegativeDay=Negatives[0]\n",
    "\n",
    "len(Inve_TS[NegativeDay,NegativeAge])"
   ]
  },
  {
   "cell_type": "code",
   "execution_count": 148,
   "metadata": {},
   "outputs": [
    {
     "data": {
      "text/plain": [
       "0.004324324324324324"
      ]
     },
     "execution_count": 148,
     "metadata": {},
     "output_type": "execute_result"
    }
   ],
   "source": [
    "len(Inve_TS[NegativeDay,NegativeAge])/1850"
   ]
  },
  {
   "cell_type": "code",
   "execution_count": null,
   "metadata": {},
   "outputs": [],
   "source": []
  },
  {
   "cell_type": "code",
   "execution_count": 149,
   "metadata": {},
   "outputs": [],
   "source": [
    "TSsmatrix=np.array(TSsumAge)\n",
    "#TSsmatrix=TSsumAge.as_matrix(columns=None)"
   ]
  },
  {
   "cell_type": "code",
   "execution_count": 150,
   "metadata": {},
   "outputs": [
    {
     "data": {
      "image/png": "[encoded data removed]",
      "text/plain": [
       "<Figure size 432x288 with 1 Axes>"
      ]
     },
     "metadata": {
      "needs_background": "light"
     },
     "output_type": "display_data"
    }
   ],
   "source": [
    "plt.close('all')\n",
    "plt.bar(np.arange(44), np.sum(TSsmatrix,axis=0))\n",
    "plt.xticks(np.arange(44),['h1a1','h1a2','h1a3','h1a4','h1a5','h1a6','h1a7','h1a8','h1a9','h1a10','h1a11',\n",
    "                'h2a1','h2a2','h2a3','h2a4','h2a5','h2a6','h2a7','h2a8','h2a9','h2a10','h2a11',\n",
    "                'h3a1','h3a2','h3a3','h3a4','h3a5','h3a6','h3a7','h3a8','h3a9','h3a10','h3a11',\n",
    "                'h4a1','h4a2','h4a3','h4a4','h4a5','h4a6','h4a7','h4a8','h4a9','h4a10','h4a11'] \n",
    "          ,fontsize=4,rotation=49)\n",
    "plt.title('Total transshipment between hospitals at each shelf life-MLP model')\n",
    "plt.savefig('RIDntransshipmentAge.pdf',bbox_inches='tight')"
   ]
  },
  {
   "cell_type": "code",
   "execution_count": 151,
   "metadata": {},
   "outputs": [],
   "source": [
    "Inve_TS=xin[:,0:44]-TSsmatrix[:,0:44]"
   ]
  },
  {
   "cell_type": "code",
   "execution_count": 152,
   "metadata": {
    "scrolled": false
   },
   "outputs": [
    {
     "name": "stdout",
     "output_type": "stream",
     "text": [
      "(9250, 44)\n"
     ]
    },
    {
     "data": {
      "text/plain": [
       "8"
      ]
     },
     "execution_count": 152,
     "metadata": {},
     "output_type": "execute_result"
    }
   ],
   "source": [
    "print(Inve_TS.shape)\n",
    "\n",
    "Inve_TS\n",
    "\n",
    "Negatives=np.where(Inve_TS<0)\n",
    "\n",
    "NegativeAge=Negatives[1]\n",
    "\n",
    "NegativeDay=Negatives[0]\n",
    "\n",
    "len(Inve_TS[NegativeDay,NegativeAge])"
   ]
  },
  {
   "cell_type": "code",
   "execution_count": 580,
   "metadata": {},
   "outputs": [
    {
     "data": {
      "text/plain": [
       "0.0075675675675675675"
      ]
     },
     "execution_count": 580,
     "metadata": {},
     "output_type": "execute_result"
    }
   ],
   "source": [
    "len(Inve_TS[NegativeDay,NegativeAge])/1850"
   ]
  },
  {
   "cell_type": "code",
   "execution_count": null,
   "metadata": {},
   "outputs": [],
   "source": []
  },
  {
   "cell_type": "code",
   "execution_count": 134,
   "metadata": {},
   "outputs": [],
   "source": [
    "f = open('inventoryNewDemand.txt', 'r')\n",
    "split=[line.strip('[[') for line in f]\n",
    "#[print(line[0:2]) for line in f]\n",
    "\n",
    "f.close()"
   ]
  },
  {
   "cell_type": "code",
   "execution_count": 135,
   "metadata": {},
   "outputs": [],
   "source": [
    "xin=np.empty((0,44))\n",
    "for i in np.arange(len(split)):\n",
    "    \n",
    "    if len(split[i])==1:\n",
    "        continue\n",
    "        \n",
    "        \n",
    "    xi=inventoryread(split,i)\n",
    "    xin=np.append(xin,xi,axis=0)\n",
    "         "
   ]
  },
  {
   "cell_type": "code",
   "execution_count": 136,
   "metadata": {},
   "outputs": [
    {
     "data": {
      "text/plain": [
       "9251"
      ]
     },
     "execution_count": 136,
     "metadata": {},
     "output_type": "execute_result"
    }
   ],
   "source": [
    "len(split)"
   ]
  },
  {
   "cell_type": "code",
   "execution_count": 137,
   "metadata": {},
   "outputs": [
    {
     "data": {
      "text/plain": [
       "(9250, 44)"
      ]
     },
     "execution_count": 137,
     "metadata": {},
     "output_type": "execute_result"
    }
   ],
   "source": [
    "xin.shape"
   ]
  },
  {
   "cell_type": "code",
   "execution_count": 138,
   "metadata": {},
   "outputs": [],
   "source": [
    "SDinputs=np.std(xin,axis=0)"
   ]
  },
  {
   "cell_type": "code",
   "execution_count": 139,
   "metadata": {},
   "outputs": [],
   "source": [
    "MEANinputs=np.mean(xin,axis=0)"
   ]
  },
  {
   "cell_type": "code",
   "execution_count": 140,
   "metadata": {},
   "outputs": [],
   "source": [
    "import matplotlib.pyplot as plt"
   ]
  },
  {
   "cell_type": "code",
   "execution_count": 141,
   "metadata": {
    "scrolled": true
   },
   "outputs": [
    {
     "data": {
      "text/plain": [
       "Text(0.5, 1.0, 'mean')"
      ]
     },
     "execution_count": 141,
     "metadata": {},
     "output_type": "execute_result"
    },
    {
     "data": {
      "image/png": "[encoded data removed]",
      "text/plain": [
       "<Figure size 432x288 with 1 Axes>"
      ]
     },
     "metadata": {
      "needs_background": "light"
     },
     "output_type": "display_data"
    }
   ],
   "source": [
    "plt.bar(np.arange(44),MEANinputs,align='center',width=0.4, alpha=0.8, facecolor='None', edgecolor='black')\n",
    "plt.title('mean')"
   ]
  },
  {
   "cell_type": "code",
   "execution_count": 142,
   "metadata": {},
   "outputs": [
    {
     "data": {
      "image/png": "[encoded data removed]",
      "text/plain": [
       "<Figure size 720x720 with 4 Axes>"
      ]
     },
     "metadata": {
      "needs_background": "light"
     },
     "output_type": "display_data"
    }
   ],
   "source": [
    "X=xin\n",
    "fig, axes = plt.subplots(2, 2, sharex=False,sharey=False,figsize=(10,10),  tight_layout=True)\n",
    "distance = []\n",
    "n_bins1 = 15\n",
    "n_bins2 = 20\n",
    "\n",
    "outlayersprops = dict(markerfacecolor='k',markersize=0.5, marker='.')\n",
    "medianprops = dict(linestyle='-', linewidth=0.5, color='red')\n",
    "meanprops = dict(marker='s',markerfacecolor='k',markeredgecolor='k')\n",
    "\n",
    "# H1\n",
    "#axes[1].subplot(221,sharex='col')\n",
    "axes[0,0].boxplot(X[:,0:11],notch=True,showmeans=True, meanprops=meanprops,medianprops=medianprops,flierprops=outlayersprops)\n",
    "#axes[0,0].errorbar(np.arange(11)+1,MEANinputs[0:11], yerr=SDinputs[0:11], fmt='None', alpha=0.7, elinewidth=0.7,ecolor='black', capsize=5)\n",
    "\n",
    "axes[0,0].set_title('Inventory of hospital 1',fontname='serif',fontsize=20)\n",
    "axes[0,0].grid(False)\n",
    "\n",
    "\n",
    "# H2\n",
    "axes[0,1].boxplot(X[:,11:22],notch=True,showmeans=True, meanprops=meanprops,flierprops=outlayersprops)\n",
    "#axes[0,1].errorbar(np.arange(11)+1,MEANinputs[11:22], yerr=SDinputs[11:22], fmt='None', alpha=0.7, elinewidth=0.7,ecolor='black', capsize=5)\n",
    "\n",
    "axes[0,1].set_title('Inventory of hospital 2',fontname='serif',fontsize=20)\n",
    "axes[0,1].grid(False)\n",
    "\n",
    "\n",
    "# H3\n",
    "axes[1,0].boxplot(X[:,22:33],notch=True,showmeans=True, meanprops=meanprops,flierprops=outlayersprops)\n",
    "#axes[1,0].errorbar(np.arange(11)+1,MEANinputs[22:33], yerr=SDinputs[22:33], fmt='None', alpha=0.7, elinewidth=0.7,ecolor='black', capsize=5)\n",
    "\n",
    "axes[1,0].set_title('Inventory of hospital 3',fontname='serif',fontsize=20)\n",
    "axes[1,0].grid(False)\n",
    "\n",
    "# H4\n",
    "axes[1,1].boxplot(X[:,33:44],notch=True,showmeans=True, meanprops=meanprops,flierprops=outlayersprops)\n",
    "#axes[1,1].errorbar(np.arange(11)+1,MEANinputs[33:44], SDinputs[33:44], fmt='None', alpha=0.7, elinewidth=0.7,ecolor='black', capsize=5)\n",
    "\n",
    "axes[1,1].set_title('linear')\n",
    "axes[1,1].set_title('Inventory of hospital 4',fontname='serif',fontsize=20)\n",
    "axes[1,1].grid(False)\n",
    "# Format the minor tick labels of the y-axis into empty strings with\n",
    "# `NullFormatter`, to avoid cumbering the axis with too many labels.\n",
    "#plt.gca().yaxis.set_minor_formatter(NullFormatter())\n",
    "# Adjust the subplot layout, because the logit one may take more space\n",
    "# than usual, due to y-tick labels like \"1 - 10^{-3}\"\n",
    "plt.subplots_adjust(top=1, bottom=0.05, left=0.10, right=0.95, hspace=0.5,\n",
    "                    wspace=0.35)\n",
    "fig.text(-0.03, 0.5, 'No. of blood units', ha='center', va='center',rotation='vertical',fontname='serif',fontsize=22)\n",
    "fig.text(0.5, -0.03, 'Residual shelf life (MLP-Huber)', ha='center', va='center',fontname='serif',fontsize=22)\n",
    "\n",
    "plt.savefig('MLP_HuberInventory.pdf',format='pdf', dpi=200,bbox_inches='tight')\n",
    "plt.show()"
   ]
  },
  {
   "cell_type": "code",
   "execution_count": null,
   "metadata": {},
   "outputs": [],
   "source": []
  }
 ],
 "metadata": {
  "kernelspec": {
   "display_name": "Python 3",
   "language": "python",
   "name": "python3"
  },
  "language_info": {
   "codemirror_mode": {
    "name": "ipython",
    "version": 3
   },
   "file_extension": ".py",
   "mimetype": "text/x-python",
   "name": "python",
   "nbconvert_exporter": "python",
   "pygments_lexer": "ipython3",
   "version": "3.6.10"
  }
 },
 "nbformat": 4,
 "nbformat_minor": 2
}
